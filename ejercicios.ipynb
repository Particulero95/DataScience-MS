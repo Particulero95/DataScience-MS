{
 "cells": [
  {
   "attachments": {},
   "cell_type": "markdown",
   "metadata": {},
   "source": [
    "## Exercise: Transform strings\n",
    "\n",
    "There are several operations you can perform on strings when you manipulate them. In this exercise, you'll use string methods to modify text with facts about the Moon and then extract information to create a short summary.\n",
    "\n",
    "This exercise is broken into a series of steps. For each step you will be presented with the goal for the step, followed by an empty cell. Enter your Python into the cell and run it. The solution for each step will follow each cell."
   ]
  },
  {
   "attachments": {},
   "cell_type": "markdown",
   "metadata": {},
   "source": [
    "## Parsing interesting facts about the moon\n",
    "Start by storing the following paragraph in a variable named text:"
   ]
  },
  {
   "cell_type": "code",
   "execution_count": 23,
   "metadata": {},
   "outputs": [],
   "source": [
    "text='''Interesting facts about the Moon. The Moon is Earth's only satellite. There are several interesting facts about the Moon and how it affects life here on Earth. \n",
    "On average, the Moon moves 4cm away from the Earth every year. This yearly drift is not significant enough to cause immediate effects on Earth. The highest daylight temperature of the Moon is 127 C.'''"
   ]
  },
  {
   "attachments": {},
   "cell_type": "markdown",
   "metadata": {},
   "source": [
    "## Separate the paragraph into sentences\n",
    "In English each sentence ends with a period. You will use this to break the paragraph into difference sentences. Using the split method to split the text into sentences by looking for the string . (a period followed by a space). Store the result in a variable named sentences. Print the result."
   ]
  },
  {
   "cell_type": "code",
   "execution_count": 24,
   "metadata": {},
   "outputs": [
    {
     "data": {
      "text/plain": [
       "['Interesting facts about the Moon',\n",
       " \"The Moon is Earth's only satellite\",\n",
       " 'There are several interesting facts about the Moon and how it affects life here on Earth',\n",
       " '\\nOn average, the Moon moves 4cm away from the Earth every year',\n",
       " 'This yearly drift is not significant enough to cause immediate effects on Earth',\n",
       " 'The highest daylight temperature of the Moon is 127 C.']"
      ]
     },
     "execution_count": 24,
     "metadata": {},
     "output_type": "execute_result"
    }
   ],
   "source": [
    "oraciones=text.split('. ')\n",
    "oraciones"
   ]
  },
  {
   "attachments": {},
   "cell_type": "markdown",
   "metadata": {},
   "source": [
    "## Find keywords\n",
    "You will finish your program by adding the code to find any sentences which mention temperature. Add code to loop through the sentences variable. For each sentence, search for the word temperature. If the word is found, print the sentence."
   ]
  },
  {
   "cell_type": "code",
   "execution_count": 25,
   "metadata": {},
   "outputs": [
    {
     "name": "stdout",
     "output_type": "stream",
     "text": [
      "The highest daylight temperature of the Moon is 127 C.\n"
     ]
    }
   ],
   "source": [
    "for item in oraciones:\n",
    "    if 'temperature' in item:\n",
    "        print(item)"
   ]
  },
  {
   "attachments": {},
   "cell_type": "markdown",
   "metadata": {},
   "source": [
    "# Exercise: Formatting strings\n",
    "\n",
    "Knowing how to format strings is essential when you're presenting information from a program. There are a few different ways to accomplish this in Python. In this exercise, you use variables that hold key facts about gravity on various moons and then use them to format and print the information.\n",
    "\n",
    "This exercise is broken into a series of steps. For each step you will be presented with the goal for the step, followed by an empty cell. Enter your Python into the cell and run it. The solution for each step will follow each cell.\n",
    "\n",
    "## Create the variables\n",
    "\n",
    "Start by creating three variables, `name`, `gravity`, and `planet`, and set them to the following values:\n",
    "\n",
    "```\n",
    "name: Ganymede\n",
    "planet: Mars\n",
    "gravity: 1.43\n",
    "```"
   ]
  },
  {
   "cell_type": "code",
   "execution_count": 26,
   "metadata": {},
   "outputs": [],
   "source": [
    "name='Ganymede'\n",
    "planet='Mars'\n",
    "gravity= 1.43"
   ]
  },
  {
   "attachments": {},
   "cell_type": "markdown",
   "metadata": {},
   "source": [
    "## Create the template\n",
    "\n",
    "Now you will create the template to display the information about the moon. You want the output to look like the following:\n",
    "\n",
    "```\n",
    "Gravity Facts about {name}\n",
    "--------------------------\n",
    "Planet Name: {planet}\n",
    "Gravity on {name}: {gravity} m/s2\n",
    "```\n",
    "\n",
    "Create a variable named `template`, and set it to the template you create."
   ]
  },
  {
   "cell_type": "code",
   "execution_count": 27,
   "metadata": {},
   "outputs": [],
   "source": [
    "# print('Gravity facts about {0} \\n Planet name: {1} \\n Gravity on {0}: {2} m/s2'.format(name,planet,gravity))\n",
    "template= '''  Gravity Facts about {name}\n",
    "-----------------------------------------\n",
    "Planet name: {planet}\n",
    "Gravity on {name}: {gravity} m/s2'''\n",
    "\n"
   ]
  },
  {
   "attachments": {},
   "cell_type": "markdown",
   "metadata": {},
   "source": [
    "## Use the template\n",
    "\n",
    "With the template created, it's time to use it to display information about the moon! Use the `format` function on `template` to use the template and `print` the information. Set `name`, `planet`, and `gravity` to the appropriate values."
   ]
  },
  {
   "cell_type": "code",
   "execution_count": 28,
   "metadata": {},
   "outputs": [
    {
     "name": "stdout",
     "output_type": "stream",
     "text": [
      "  Gravity Facts about Ganymede\n",
      "-----------------------------------------\n",
      "Planet name: Mars\n",
      "Gravity on Ganymede: 1.43 m/s2\n"
     ]
    }
   ],
   "source": [
    "print(template.format(name=name, planet=planet, gravity=gravity))"
   ]
  },
  {
   "cell_type": "code",
   "execution_count": 29,
   "metadata": {},
   "outputs": [
    {
     "name": "stdout",
     "output_type": "stream",
     "text": [
      "  Gravity Facts about {name}\n",
      "-----------------------------------------\n",
      "Planet name: {planet}\n",
      "Gravity on {name}: {gravity} m/s2\n"
     ]
    }
   ],
   "source": [
    "print(template)"
   ]
  },
  {
   "attachments": {},
   "cell_type": "markdown",
   "metadata": {},
   "source": [
    "# Arithmetic operators in Python\n",
    "\n",
    "Python provides common arithmetic operators so you can perform mathematic operations in your code. These include the four core operations of addition, subtraction, multiplication, and division.\n",
    "\n",
    "Let's explore how we can create a program that can calculate the distance between two planets. We'll start by using two planet distances: Earth (149,597,870 km) and Jupiter (778,547,200 km).\n",
    "\n",
    "This exercise is broken into a series of steps. For each step you will be presented with the goal for the step, followed by an empty cell. Enter your Python into the cell and run it. The solution for each step will follow each cell.\n",
    "\n",
    "**Note:** Remove the commas when you're using the values.\n",
    "\n",
    "## Create variables to store the distances\n",
    "\n",
    "Start by creating two variables named `first_planet` and `second_planet`. Set `first_planet` to the distance from the sun to Earth, and `second_planet` for the distance from the sun to Jupiter."
   ]
  },
  {
   "cell_type": "code",
   "execution_count": 30,
   "metadata": {},
   "outputs": [],
   "source": [
    "first_planet=149597870\n",
    "second_planet=778547200"
   ]
  },
  {
   "attachments": {},
   "cell_type": "markdown",
   "metadata": {},
   "source": [
    "## Display distance between planets\n",
    "\n",
    "You have two variables which store the distance between each planet and a common point: the sun. You can subtract these two values to determine the distance between the planets.\n",
    "\n",
    "Start by adding the code to subtract `first_planet` from `second_planet` and store the result in a variable named `distance_km`. Display the value to the screen.\n",
    "\n",
    "Then add the code to convert `distance_km` to miles by dividing it by 1.609344 (the rough difference between miles and kilometers) and store the result in a variable named `distance_mi`. Display the value to the screen."
   ]
  },
  {
   "cell_type": "code",
   "execution_count": 31,
   "metadata": {},
   "outputs": [
    {
     "name": "stdout",
     "output_type": "stream",
     "text": [
      "628949330\n",
      "390810995.0389724\n"
     ]
    }
   ],
   "source": [
    "distance_km=second_planet - first_planet\n",
    "print(distance_km)\n",
    "distance_mi=distance_km/1.609344\n",
    "print(distance_mi)"
   ]
  },
  {
   "attachments": {},
   "cell_type": "markdown",
   "metadata": {},
   "source": [
    "# Create an application to work with numbers and user input\n",
    "\n",
    "You'll frequently need to convert string values into numbers to properly perform different operations, or determine the absolute value of a number. In this exercise, you will create a project to calculate the distance between two planets based on user input.\n",
    "\n",
    "This exercise is broken into a series of steps. For each step you will be presented with the goal for the step, followed by an empty cell. Enter your Python into the cell and run it. The solution for each step will follow each cell.\n",
    "\n",
    "## Read the values from the user\n",
    "\n",
    "To create our application, we want to read the distance from the sun for two planets, and then display the distance between the planets. We'll do this by using `input` to read the values, `int` to convert to integer, and then `abs` to convert the result into its absolute value.\n",
    "\n",
    "Start by adding the code to prompt the user for the distance between the sun and the first planet, and then the second. Store each result in variables named `first_planet_input` and `second_planet_input`."
   ]
  },
  {
   "cell_type": "code",
   "execution_count": 7,
   "metadata": {},
   "outputs": [],
   "source": [
    "first_planet_input = input('Enter the distance from the sun for the first planet in KM')\n",
    "second_planet_input = input('Enter the distance from the sun for the second planet in KM')"
   ]
  },
  {
   "attachments": {},
   "cell_type": "markdown",
   "metadata": {},
   "source": [
    "# Exercise: Use lists to store planet names\n",
    "\n",
    "Lists allow you to store multiple values in a single variable. In this notebook you'll create a project to display information about the planets.\n",
    "\n",
    "This exercise is broken into a series of steps. For each step you will be presented with the goal for the step, followed by an empty cell. Enter your Python into the cell and run it. The solution for each step will follow each cell.\n",
    "\n",
    "## Add all planets to a list\n",
    "\n",
    "First, create a variable named `planets`. Add the eight planets (without Pluto) to the list. The planets are:\n",
    "\n",
    "- Mercury\n",
    "- Venus\n",
    "- Earth\n",
    "- Mars\n",
    "- Jupiter\n",
    "- Saturn\n",
    "- Uranus\n",
    "- Neptune\n",
    "\n",
    "Finish by using `print` to display the list of planets."
   ]
  },
  {
   "cell_type": "code",
   "execution_count": 2,
   "metadata": {},
   "outputs": [
    {
     "name": "stdout",
     "output_type": "stream",
     "text": [
      "['Mercury', 'Venus', 'Earth', 'Mars', 'Jupiter', 'Saturn', 'Uranus', 'Neptune']\n"
     ]
    }
   ],
   "source": [
    "planets = [\"Mercury\", \"Venus\", \"Earth\", \"Mars\", \"Jupiter\", \"Saturn\", \"Uranus\", \"Neptune\"]\n",
    "print(planets)"
   ]
  },
  {
   "cell_type": "code",
   "execution_count": 3,
   "metadata": {},
   "outputs": [
    {
     "name": "stdout",
     "output_type": "stream",
     "text": [
      "There are 8 planets\n"
     ]
    }
   ],
   "source": [
    "number_of_planets=len(planets)\n",
    "print('There are', number_of_planets,'planets')"
   ]
  },
  {
   "cell_type": "code",
   "execution_count": 4,
   "metadata": {},
   "outputs": [
    {
     "name": "stdout",
     "output_type": "stream",
     "text": [
      "9 Pluto\n"
     ]
    }
   ],
   "source": [
    "planets.append('Pluto')\n",
    "\n",
    "print(len(planets),planets[-1])"
   ]
  },
  {
   "attachments": {},
   "cell_type": "markdown",
   "metadata": {},
   "source": [
    "### Manipulación de listas y listas numéricas"
   ]
  },
  {
   "cell_type": "code",
   "execution_count": 3,
   "metadata": {},
   "outputs": [
    {
     "data": {
      "text/plain": [
       "['Mercury', 'Venus', 'Earth', 'Mars', 'Jupiter', 'Saturn', 'Uranus', 'Neptune']"
      ]
     },
     "execution_count": 3,
     "metadata": {},
     "output_type": "execute_result"
    }
   ],
   "source": [
    "planets"
   ]
  },
  {
   "attachments": {},
   "cell_type": "markdown",
   "metadata": {},
   "source": [
    "## Prompt the user for the reference planet\n",
    "\n",
    "Next you will add the code to prompt the user for the name of a planet. You will do this by using `input`. Because strings are case sensitive in Python, ask the user to use a capital letter to start the name of the planet.\n",
    "\n",
    "## Find the location of the selected planet\n",
    "\n",
    "Now it's time to determine which planets are closer than the one that the user entered. To do this, you need to find where he planet is in the list. You can use the `index` method to perform this operation. Add the code to find the index of the planet, and store it in a variable named `planet_index`.\n",
    "\n",
    "## Find the location of the selected planet\n",
    "\n",
    "Now it's time to determine which planets are closer than the one that the user entered. To do this, you need to find where he planet is in the list. You can use the `index` method to perform this operation. Add the code to find the index of the planet, and store it in a variable named `planet_index`."
   ]
  },
  {
   "cell_type": "code",
   "execution_count": 9,
   "metadata": {},
   "outputs": [
    {
     "name": "stdout",
     "output_type": "stream",
     "text": [
      "Here are the planets closer than Earth\n",
      "['Mercury', 'Venus']\n",
      "Here are the planets further than Earth\n",
      "['Mars', 'Jupiter', 'Saturn', 'Uranus', 'Neptune']\n"
     ]
    }
   ],
   "source": [
    "user_planet=input('Da el nombre de un planeta iniciando con mayúscula: ')\n",
    "planet_index= planets.index(user_planet)\n",
    "print(\"Here are the planets closer than \" + user_planet)\n",
    "print(planets[0:planet_index])\n",
    "print(\"Here are the planets further than \" + user_planet)\n",
    "print(planets[planet_index+1:])\n"
   ]
  },
  {
   "attachments": {},
   "cell_type": "markdown",
   "metadata": {},
   "source": [
    "- # Diccionarios "
   ]
  },
  {
   "attachments": {},
   "cell_type": "markdown",
   "metadata": {},
   "source": [
    "# Exercise: Create and modify a Python dictionary\n",
    "\n",
    "Python dictionaries allow you to model more complex data. Dictionaries are a collection of key/value pairs, and are very common in Python programs. Their flexibility allows you to dynamically work with related values without having to create classes or objects.\n",
    "\n",
    "This exercise is broken into a series of steps. For each step you will be presented with the goal for the step, followed by an empty cell. Enter your Python into the cell and run it. The solution for each step will follow each cell.\n",
    "\n",
    "## Managing planet data\n",
    "\n",
    "You want to create a program which will store and display information about planets. To start you will use one planet. Create a variable named `planet`. Store the following values as a dictionary:\n",
    "\n",
    "```\n",
    "name: Mars\n",
    "moons: 2\n",
    "```"
   ]
  },
  {
   "cell_type": "code",
   "execution_count": 11,
   "metadata": {},
   "outputs": [],
   "source": [
    "planet={\n",
    "    'name':'Mars',\n",
    "    'moons':2\n",
    "    }"
   ]
  },
  {
   "cell_type": "markdown",
   "metadata": {},
   "source": [
    "## Display planet data\n",
    "\n",
    "With the variable created, you will now display information. You can retrieve information by either using `get` or square brackets (`[ ]`) and the key name. Add the code to display the planet information in the following format:\n",
    "\n",
    "**__ has __ moon(s)**\n",
    "\n",
    "If you were working with Earth, the output would be **Earth has 1 moon(s)**\n",
    "\n",
    "> **Note:** You can use whatever string formatting option you like"
   ]
  },
  {
   "cell_type": "code",
   "execution_count": 17,
   "metadata": {},
   "outputs": [
    {
     "name": "stdout",
     "output_type": "stream",
     "text": [
      "Mars has 2 moon(s)\n",
      "Mars has 2 moon(s)\n"
     ]
    }
   ],
   "source": [
    "print(planet['name'] +' has ' +str(planet['moons'])+' moon(s)' ) # mi código\n",
    "print(f'{planet[\"name\"]} has {planet[\"moons\"]} moon(s)')# código del curso si no mal recuerdo la f' es de formato texto"
   ]
  },
  {
   "attachments": {},
   "cell_type": "markdown",
   "metadata": {},
   "source": [
    "## Add circumference information\n",
    "\n",
    "You can update existing keys or create new ones by either using the `update` method or using square brackets (`[ ]`). When you're using `update`, you pass in a new dictionary object with the updated or new values. When using square brackets, you specify the key name and assign a new value.\n",
    "\n",
    "Add a new value to `planet` with a key of `'circumference (km)'`. This new value should store a dictionary with the planet's two circumferences:\n",
    "\n",
    "```\n",
    "polar: 6752\n",
    "equatorial: 6792\n",
    "```\n",
    "\n",
    "Finally, add the code to print the polar circumference of the planet. You can use whatever sentence formatting you wish."
   ]
  },
  {
   "cell_type": "code",
   "execution_count": 19,
   "metadata": {},
   "outputs": [
    {
     "name": "stdout",
     "output_type": "stream",
     "text": [
      "Mars has a polar circumference of 6752\n"
     ]
    }
   ],
   "source": [
    "planet['circumference (km)']={'polar':6752,'equatorial':6792}\n",
    "print(f'{planet[\"name\"]} has a polar circumference of {planet[\"circumference (km)\"][\"polar\"]}')"
   ]
  },
  {
   "attachments": {},
   "cell_type": "markdown",
   "metadata": {},
   "source": [
    "# Calculating values\n",
    "\n",
    "In this scenario, you will calculate both the total number of moons in the solar system and the average number of moons a planet has. You will do this by using a dictionary object.\n",
    "\n",
    "This exercise is broken into a series of steps. For each step you will be presented with the goal for the step, followed by an empty cell. Enter your Python into the cell and run it. The solution for each step will follow each cell.\n",
    "\n",
    "Start by creating a variable named `planet_moons` as a dictionary with the following key/values:\n",
    "\n",
    "```\n",
    "mercury: 0,\n",
    "venus: 0,\n",
    "earth: 1,\n",
    "mars: 2,\n",
    "jupiter: 79,\n",
    "saturn: 82,\n",
    "uranus: 27,\n",
    "neptune: 14,\n",
    "pluto: 5,\n",
    "haumea: 2,\n",
    "makemake: 1,\n",
    "eris: 1\n",
    "```"
   ]
  },
  {
   "cell_type": "code",
   "execution_count": 20,
   "metadata": {},
   "outputs": [],
   "source": [
    "planets_moons={\n",
    "    'mercury':0,\n",
    "    'venus':0,\n",
    "    'earth':1,\n",
    "    'mars':2,\n",
    "    'jupiter':79,\n",
    "    'saturn':82,\n",
    "    'uranus':27,\n",
    "    'neptune':14,\n",
    "    'pluto':5,\n",
    "    'haumea':2,\n",
    "    'makemake':1,\n",
    "    'eris':1\n",
    "\n",
    "}"
   ]
  },
  {
   "attachments": {},
   "cell_type": "markdown",
   "metadata": {},
   "source": [
    "## Obtain a list of moons and number of planets\n",
    "\n",
    "Python dictionaries allow you to retrieve all the values and keys by using the `values` and `keys` methods, respectively. Each method returns a list containing the data, which can then be used like a regular Python list. You can determine the number of items by using `len`, and iterate through it by using `for` loops. In the dictionary you created, the planet names are keys and the number of moons are the values.\n",
    "\n",
    "Start by retrieving a list with the number of moons, and store this in a variable named `moons`. Then obtain the total number of planets and store that value in a variable named `total_planets`."
   ]
  },
  {
   "cell_type": "code",
   "execution_count": 21,
   "metadata": {},
   "outputs": [],
   "source": [
    "moons=planets_moons.values()\n",
    "total_planets=len(planets_moons.keys())"
   ]
  },
  {
   "attachments": {},
   "cell_type": "markdown",
   "metadata": {},
   "source": [
    "## Determine the average number of moons\n",
    "\n",
    "You will finish this exercise by determining the average number of moons. Start by creating a variable named `total_moons`; this will be your counter for the total number of moons. Then add a `for` loop to loop through the list of `moons`, adding each value to `total_moons`. Finally, calculate the average by dividing `total_moons` by `total_planets` and displaying the value."
   ]
  },
  {
   "cell_type": "code",
   "execution_count": 23,
   "metadata": {},
   "outputs": [
    {
     "name": "stdout",
     "output_type": "stream",
     "text": [
      "Each planet has an average of 17.833333333333332 moons\n"
     ]
    }
   ],
   "source": [
    "total_moons=0\n",
    "for value in planets_moons.values():\n",
    "    total_moons=total_moons+value\n",
    "# Este fue el código del curso\n",
    "\n",
    "\n",
    "average=total_moons/total_planets\n",
    "\n",
    "print(f'Each planet has an average of {average} moons')\n",
    "\n"
   ]
  },
  {
   "attachments": {},
   "cell_type": "markdown",
   "metadata": {},
   "source": [
    "- # Funciones"
   ]
  },
  {
   "attachments": {},
   "cell_type": "markdown",
   "metadata": {},
   "source": [
    "# Exercise: Work with arguments in functions\n",
    "\n",
    "Required arguments in functions are used when functions need those arguments to work properly. In this exercise, you'll construct a fuel report that requires information from several fuel locations throughout the rocket ship.\n",
    "\n",
    "This exercise is broken into a series of steps. For each step you will be presented with the goal for the step, followed by an empty cell. Enter your Python into the cell and run it. The solution for each step will follow each cell.\n",
    "\n",
    "## Create a report generation function\n",
    "\n",
    "Your spaceship has three tanks: Main, External and Hydrogen. You want to create an app to display the amount of fuel in each tank, and the average amount of fuel between the three tanks. Because you wish to reuse this code in other projects, you want to create a function with the logic.\n",
    "\n",
    "Create a function named `generate_report`. The function will take three parameters named `main_tank`, `external_tank` and `hydrogen_tank`. When run, the function will display output which resembles the following:\n",
    "\n",
    "```\n",
    "Fuel report:\n",
    "    Main tank: ##\n",
    "    External tank: ##\n",
    "    Hydrogen tank: ##\n",
    "```"
   ]
  },
  {
   "cell_type": "code",
   "execution_count": 3,
   "metadata": {},
   "outputs": [],
   "source": [
    "def generate_report(main_tank,external_tank,hydrogen_tank):\n",
    "    output=f'''Fuel Report:\n",
    "    Main tank: {main_tank}\n",
    "    External tank: {external_tank}\n",
    "    Hydrogen_tank: {hydrogen_tank}'''\n",
    "    print(output)"
   ]
  },
  {
   "cell_type": "code",
   "execution_count": 4,
   "metadata": {},
   "outputs": [
    {
     "name": "stdout",
     "output_type": "stream",
     "text": [
      "Fuel Report:\n",
      "    Main tank: 80\n",
      "    External tank: 70\n",
      "    Hydrogen_tank: 75\n"
     ]
    }
   ],
   "source": [
    "generate_report(80,70,75)"
   ]
  },
  {
   "attachments": {},
   "cell_type": "markdown",
   "metadata": {},
   "source": [
    "### Uso de argumentos de palabra clave en Python\n",
    "\n",
    "Los argumentos opcionales requieren un valor predeterminado asignado a ellos. Estos argumentos con nombre se denominan argumentos de palabra clave. Los valores del argumento de palabra clave deben definirse en las propias funciones. Cuando se llama a una función definida con argumentos de palabra clave, no es necesario usarlos en absoluto.\n",
    "\n",
    "La misión Apolo 11 tardó unas 51 horas en llegar a la Luna. Vamos a crear una función que devuelva la hora estimada de llegada usando el mismo valor que la misión Apolo 11 como valor predeterminado:"
   ]
  },
  {
   "cell_type": "code",
   "execution_count": 7,
   "metadata": {},
   "outputs": [],
   "source": [
    "from datetime import timedelta,datetime\n",
    "\n",
    "def arrival_time(hours=51):\n",
    "    now=datetime.now()\n",
    "    arrival=now+timedelta(hours=hours) #timedelta para permitir la operación de suma que da como resultado un objeto de hora nuevo\n",
    "    return arrival.strftime('Arrival; %A %H:%M')"
   ]
  },
  {
   "cell_type": "code",
   "execution_count": 8,
   "metadata": {},
   "outputs": [
    {
     "data": {
      "text/plain": [
       "'Arrival; Wednesday 00:56'"
      ]
     },
     "execution_count": 8,
     "metadata": {},
     "output_type": "execute_result"
    }
   ],
   "source": [
    "arrival_time()"
   ]
  },
  {
   "cell_type": "code",
   "execution_count": 9,
   "metadata": {},
   "outputs": [
    {
     "data": {
      "text/plain": [
       "'Arrival; Sunday 21:57'"
      ]
     },
     "execution_count": 9,
     "metadata": {},
     "output_type": "execute_result"
    }
   ],
   "source": [
    "arrival_time(hours=0)"
   ]
  },
  {
   "attachments": {},
   "cell_type": "markdown",
   "metadata": {},
   "source": [
    "### Combinación de argumentos y argumentos de palabra clave\n",
    "A veces, una función necesita una combinación de argumentos de palabra clave y argumentos. En Python, esta combinación sigue un orden específico. Los argumentos siempre se declaran primero, seguidos de argumentos de palabra clave.\n",
    "\n",
    "Actualice la función arrival_time() para que tome un argumento necesario, que es el nombre del destino:"
   ]
  },
  {
   "cell_type": "code",
   "execution_count": 10,
   "metadata": {},
   "outputs": [],
   "source": [
    "def arrival_time(destination, hours=51):\n",
    "    now = datetime.now()\n",
    "    arrival = now + timedelta(hours=hours)\n",
    "    return arrival.strftime(f\"{destination} Arrival: %A %H:%M\")"
   ]
  },
  {
   "cell_type": "code",
   "execution_count": 11,
   "metadata": {},
   "outputs": [
    {
     "data": {
      "text/plain": [
       "'Ur anus Arrival: Wednesday 00:58'"
      ]
     },
     "execution_count": 11,
     "metadata": {},
     "output_type": "execute_result"
    }
   ],
   "source": [
    "arrival_time('Ur anus')"
   ]
  },
  {
   "cell_type": "code",
   "execution_count": 14,
   "metadata": {},
   "outputs": [
    {
     "data": {
      "text/plain": [
       "'Ur heart Arrival: Monday 09:59'"
      ]
     },
     "execution_count": 14,
     "metadata": {},
     "output_type": "execute_result"
    }
   ],
   "source": [
    "arrival_time('Ur heart',hours=12)"
   ]
  },
  {
   "attachments": {},
   "cell_type": "markdown",
   "metadata": {},
   "source": [
    "# Exercise: Work with keyword arguments in functions\n",
    "\n",
    "In the prior exercise you created a report for a ship with three fuel tanks. What happens if the ship has multiple tanks? Keyword arguments can be a perfect solution for this type of a situation. With keyword arguments a caller can provide multiple values which your code can interact with.\n",
    "\n",
    "This exercise is broken into a series of steps. For each step you will be presented with the goal for the step, followed by an empty cell. Enter your Python into the cell and run it. The solution for each step will follow each cell.\n",
    "\n",
    "## Create an updated fuel report function\n",
    "\n",
    "Create a new function named `fuel_report`. The function will accept a keyword arguments parameter named `fuel_tanks`. Add the code to loop through the entries provided to generate the following output, where `name` is the name of the keyword argument and `value` is the value:\n",
    "\n",
    "```\n",
    "name: value\n",
    "name: value\n",
    "```"
   ]
  },
  {
   "cell_type": "code",
   "execution_count": 1,
   "metadata": {},
   "outputs": [],
   "source": [
    "def fuel_report(**fuel_tanks):\n",
    "    for  name ,value in fuel_tanks.items():\n",
    "      print(f\"{name}: {value}\")"
   ]
  },
  {
   "cell_type": "code",
   "execution_count": 2,
   "metadata": {},
   "outputs": [
    {
     "name": "stdout",
     "output_type": "stream",
     "text": [
      "main: 50\n",
      "external: 100\n",
      "emergency: 60\n"
     ]
    }
   ],
   "source": [
    "fuel_report(main=50,external=100,emergency=60)"
   ]
  },
  {
   "attachments": {},
   "cell_type": "markdown",
   "metadata": {},
   "source": [
    "1. ¿Se puede llamar sin argumentos a una función que define argumentos?\n",
    "\n",
    "No, porque se requieren argumentos definidos.\n",
    "¡Correcto! Cuando una función declara argumentos, estos son obligatorios.\n",
    "\n",
    "\n",
    "2. ¿Se puede llamar sin argumentos a una función que solo tenga argumentos de palabra clave?\n",
    "\n",
    "Sí, porque los argumentos de palabra clave son opcionales cuando se llama a una función.\n",
    "¡Correcto! Los argumentos de palabra clave ya definen valores predeterminados, lo que permite llamar a una función sin ellos.\n",
    "\n",
    "3. ¿Puede una función definir argumentos de palabra clave y argumentos?\n",
    "\n",
    "Sí, pero solo si los argumentos se definen antes que los argumentos de palabra clave.\n",
    "¡Correcto! Siempre que los argumentos se presenten en primer lugar, se puede definir con ambos.\n",
    "\n",
    "4. ¿Cuál es el número mínimo de argumentos que una función puede aceptar cuando se usan argumentos de variable?\n",
    "\n",
    "Cero. No es necesario pasar ningún argumento cuando se usan argumentos de variable.\n",
    "¡Correcto! Los argumentos de variable no tienen un número mínimo requerido.\n",
    "\n",
    "5. ¿Cuál es la sintaxis para declarar argumentos de variable y argumentos de palabra clave de variable?\n",
    "*args, **kwargs\n",
    "¡Correcto! Aunque el nombre del marcador de posición puede cambiar, debe usar un solo asterisco para los argumentos de variable y asteriscos dobles para los argumentos de palabra clave de variable."
   ]
  }
 ],
 "metadata": {
  "kernelspec": {
   "display_name": "Python 3",
   "language": "python",
   "name": "python3"
  },
  "language_info": {
   "codemirror_mode": {
    "name": "ipython",
    "version": 3
   },
   "file_extension": ".py",
   "mimetype": "text/x-python",
   "name": "python",
   "nbconvert_exporter": "python",
   "pygments_lexer": "ipython3",
   "version": "3.11.2"
  },
  "orig_nbformat": 4
 },
 "nbformat": 4,
 "nbformat_minor": 2
}
