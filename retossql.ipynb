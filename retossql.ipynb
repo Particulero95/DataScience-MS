{
 "cells": [
  {
   "attachments": {},
   "cell_type": "markdown",
   "metadata": {},
   "source": [
    "- #### Challenge 1: Generate invoice reports\n",
    "Adventure Works Cycles sells directly to retailers, who must be invoiced for their orders. You have been tasked with writing a query to generate a list of invoices to be sent to customers.\n",
    "\n",
    "1. Retrieve customer orders\n",
    "As an initial step towards generating the invoice report, write a query that returns the company name from the SalesLT.Customer table, and the sales order ID and total due from the SalesLT.SalesOrderHeader table.\n",
    "2. Retrieve customer orders with addresses\n",
    "Extend your customer orders query to include the Main Office address for each customer, including the full street address, city, state or province, postal code, and country or region\n",
    "Tip: Note that each customer can have multiple addressees in the SalesLT.Address table, so the database developer has created the SalesLT.CustomerAddress table to enable a many-to-many relationship between customers and addresses. Your query will need to include both of these tables, and should filter the results so that only Main Office addresses are included."
   ]
  },
  {
   "cell_type": "code",
   "execution_count": null,
   "metadata": {
    "vscode": {
     "languageId": "sql"
    }
   },
   "outputs": [],
   "source": [
    "--- 1.\n",
    "SELECT c.CompanyName, oh.SalesOrderID, oh.TotalDue\n",
    "FROM SalesLT.Customer AS c\n",
    "JOIN SalesLT.SalesOrderHeader AS oh\n",
    "    ON oh.CustomerID = c.CustomerID;"
   ]
  },
  {
   "cell_type": "code",
   "execution_count": null,
   "metadata": {
    "vscode": {
     "languageId": "sql"
    }
   },
   "outputs": [],
   "source": [
    "---- 2.\n",
    "SELECT c.CompanyName,\n",
    "       a.AddressLine1,\n",
    "       ISNULL(a.AddressLine2, '') AS AddressLine2,\n",
    "       a.City,\n",
    "       a.StateProvince,\n",
    "       a.PostalCode,\n",
    "       a.CountryRegion,\n",
    "       oh.SalesOrderID,\n",
    "       oh.TotalDue\n",
    "FROM SalesLT.Customer AS c\n",
    "JOIN SalesLT.SalesOrderHeader AS oh\n",
    "    ON oh.CustomerID = c.CustomerID\n",
    "JOIN SalesLT.CustomerAddress AS ca\n",
    "    ON c.CustomerID = ca.CustomerID\n",
    "JOIN SalesLT.Address AS a\n",
    "    ON ca.AddressID = a.AddressID\n",
    "WHERE ca.AddressType = 'Main Office'"
   ]
  },
  {
   "attachments": {},
   "cell_type": "markdown",
   "metadata": {},
   "source": [
    "### Challenge 2: Retrieve customer data\n",
    "As you continue to work with the Adventure Works customer and sales data, you must create queries for reports that have been requested by the sales team.\n",
    "\n",
    "1. Retrieve a list of all customers and their orders\n",
    "The sales manager wants a list of all customer companies and their contacts (first name and last name), showing the sales order ID and total due for each order they have placed. Customers who have not placed any orders should be included at the bottom of the list with NULL values for the order ID and total due.\n",
    "2. Retrieve a list of customers with no address\n",
    "A sales employee has noticed that Adventure Works does not have address information for all customers. You must write a query that returns a list of customer IDs, company names, contact names (first name and last name), and phone numbers for customers with no address stored in the database."
   ]
  },
  {
   "cell_type": "code",
   "execution_count": null,
   "metadata": {
    "vscode": {
     "languageId": "sql"
    }
   },
   "outputs": [],
   "source": [
    "--- 1.\n",
    "SELECT c.CompanyName, c.FirstName, c.LastName,\n",
    "       oh.SalesOrderID, oh.TotalDue\n",
    "FROM SalesLT.Customer AS c\n",
    "LEFT JOIN SalesLT.SalesOrderHeader AS oh\n",
    "    ON c.CustomerID = oh.CustomerID\n",
    "ORDER BY oh.SalesOrderID DESC;"
   ]
  },
  {
   "cell_type": "code",
   "execution_count": null,
   "metadata": {
    "vscode": {
     "languageId": "sql"
    }
   },
   "outputs": [],
   "source": [
    "--- 2.\n",
    "SELECT c.CompanyName, c.FirstName, c.LastName,\n",
    "       oh.SalesOrderID, oh.TotalDue\n",
    "FROM SalesLT.Customer AS c\n",
    "LEFT JOIN SalesLT.SalesOrderHeader AS oh\n",
    "    ON c.CustomerID = oh.CustomerID\n",
    "ORDER BY oh.SalesOrderID DESC;\n"
   ]
  },
  {
   "attachments": {},
   "cell_type": "markdown",
   "metadata": {},
   "source": [
    "### Challenge 3: Create a product catalog\n",
    "The marketing team has asked you to retrieve data for a new product catalog.\n",
    "\n",
    "1. Retrieve product information by category\n",
    "- The product catalog will list products by parent category and subcategory, so you must write a query that retrieves the parent category name, subcategory name, and product name fields for the catalog."
   ]
  },
  {
   "cell_type": "code",
   "execution_count": null,
   "metadata": {
    "vscode": {
     "languageId": "sql"
    }
   },
   "outputs": [],
   "source": [
    "SELECT pcat.Name AS ParentCategory, cat.Name AS SubCategory, prd.Name AS ProductName\n",
    "FROM SalesLT.ProductCategory pcat\n",
    "JOIN SalesLT.ProductCategory as cat\n",
    "    ON pcat.ProductCategoryID = cat.ParentProductCategoryID\n",
    "JOIN SalesLT.Product as prd\n",
    "    ON prd.ProductCategoryID = cat.ProductCategoryID\n",
    "ORDER BY ParentCategory, SubCategory, ProductName;"
   ]
  },
  {
   "attachments": {},
   "cell_type": "markdown",
   "metadata": {},
   "source": [
    "## Subconsultas "
   ]
  },
  {
   "attachments": {},
   "cell_type": "markdown",
   "metadata": {},
   "source": [
    "Challenge 1: Retrieve product price information\n",
    "Adventure Works products each have a standard cost price that indicates the cost of manufacturing the product, and a list price that indicates the recommended selling price for the product. This data is stored in the SalesLT.Product table. Whenever a product is ordered, the actual unit price at which it was sold is also recorded in the SalesLT.SalesOrderDetail table. You must use subqueries to compare the cost and list prices for each product with the unit prices charged in each sale.\n",
    "\n",
    "1. Retrieve products whose list price is higher than the average unit price.\n",
    "2. Retrieve the product ID, name, and list price for each product where the list price is higher than the average unit price for all products that have been sold.\n",
    "Tip: Use the AVG function to retrieve an average value.\n",
    "Retrieve Products with a list price of 100 or more that have been sold for less than 100.\n",
    "Retrieve the product ID, name, and list price for each product where the list price is 100 or more, and the product has been sold for less than 100."
   ]
  },
  {
   "cell_type": "code",
   "execution_count": null,
   "metadata": {
    "vscode": {
     "languageId": "sql"
    }
   },
   "outputs": [],
   "source": [
    "--- 1.\n",
    "SELECT ProductID,Name,ListPrice\n",
    "FROM SalesLT.Product\n",
    "WHERE ListPrice > \n",
    "    (SELECT AVG(UnitPrice)    \n",
    "     FROM SalesLT.SalesOrderDetail)\n",
    "ORDER BY ProductID"
   ]
  },
  {
   "cell_type": "code",
   "execution_count": null,
   "metadata": {
    "vscode": {
     "languageId": "sql"
    }
   },
   "outputs": [],
   "source": [
    "--- 2. \n",
    "SELECT ProductID, Name, ListPrice\n",
    "FROM SalesLT.Product\n",
    "WHERE ProductID IN\n",
    "    (SELECT ProductID\n",
    "     FROM SalesLT.SalesOrderDetail\n",
    "     WHERE UnitPrice < 100.00)\n",
    "AND ListPrice >= 100.00\n",
    "ORDER BY ProductID;"
   ]
  },
  {
   "attachments": {},
   "cell_type": "markdown",
   "metadata": {},
   "source": [
    "### Challenge 2: Analyze profitability\n",
    "The standard cost of a product and the unit price at which it is sold determine its profitability. You must use correlated subqueries to compare the cost and average selling price for each product.\n",
    "\n",
    "1. Retrieve the cost, list price, and average selling price for each product\n",
    " Retrieve the product ID, name, cost, and list price for each product along with the average unit price for which that product has been sold.\n",
    "2.  Retrieve products that have an average selling price that is lower than the cost.\n",
    "Filter your previous query to include only products where the cost price is higher than the average selling price."
   ]
  },
  {
   "cell_type": "code",
   "execution_count": null,
   "metadata": {
    "vscode": {
     "languageId": "sql"
    }
   },
   "outputs": [],
   "source": [
    "---1.\n",
    "SELECT p.ProductID, p.Name, p.StandardCost, p.ListPrice,\n",
    "    (SELECT AVG(o.UnitPrice)\n",
    "     FROM SalesLT.SalesOrderDetail AS o\n",
    "     WHERE p.ProductID = o.ProductID) AS AvgSellingPrice\n",
    "FROM SalesLT.Product AS p\n",
    "ORDER BY p.ProductID;"
   ]
  },
  {
   "cell_type": "code",
   "execution_count": null,
   "metadata": {
    "vscode": {
     "languageId": "sql"
    }
   },
   "outputs": [],
   "source": [
    "---2.\n",
    "SELECT p.ProductID, p.Name, p.StandardCost, p.ListPrice,\n",
    "    (SELECT AVG(o.UnitPrice)\n",
    "    FROM SalesLT.SalesOrderDetail AS o\n",
    "    WHERE p.ProductID = o.ProductID) AS AvgSellingPrice\n",
    "FROM SalesLT.Product AS p\n",
    "WHERE StandardCost >\n",
    "    (SELECT AVG(od.UnitPrice)\n",
    "     FROM SalesLT.SalesOrderDetail AS od\n",
    "     WHERE p.ProductID = od.ProductID)\n",
    "ORDER BY p.ProductID;"
   ]
  },
  {
   "attachments": {},
   "cell_type": "markdown",
   "metadata": {
    "vscode": {
     "languageId": "sql"
    }
   },
   "source": [
    "##  Uso de funciones integradas y GROUP BY en Transact-SQL"
   ]
  },
  {
   "attachments": {},
   "cell_type": "markdown",
   "metadata": {},
   "source": [
    "Challenge 1: Retrieve order shipping information\n",
    "The operations manager wants reports about order shipping based on data in the SalesLT.SalesOrderHeader table.\n",
    "\n",
    "1. Retrieve the order ID and freight cost of each order.\n",
    "   - Write a query to return the order ID for each order, together with the the Freight value rounded to two decimal places in a column named FreightCost.\n",
    "2. Add the shipping method.\n",
    "   - Extend your query to include a column named ShippingMethod that contains the ShipMethod field, formatted in lower case.\n",
    "3. Add shipping date details.\n",
    "   - Extend your query to include columns named ShipYear, ShipMonth, and ShipDay that contain the year, month, and day of the ShipDate. The ShipMonth value should be displayed as the month name (for example, June) "
   ]
  },
  {
   "cell_type": "code",
   "execution_count": null,
   "metadata": {
    "vscode": {
     "languageId": "sql"
    }
   },
   "outputs": [],
   "source": [
    "--1.\n",
    "SELECT SalesOrderID,ROUND(Freight,2) \n",
    "FROM Sales.SalesOrderHeader\n",
    "--2. \n",
    "SELECT SalesOrderID,ROUND(Freight,2) [FreightCost],LOWER(B.Name)\n",
    "FROM Sales.SalesOrderHeader AS A\n",
    "INNER JOIN Purchasing.ShipMethod AS B \n",
    "ON A.ShipMethodID=B.ShipMethodID\n",
    "\n",
    "---3.\n",
    "SELECT SalesOrderID,ROUND(Freight,2) [FreightCost],LOWER(B.Name),\n",
    "YEAR(ShipDate) ShipYear,DATENAME(mm,ShipDate) ShipMonth,DAY(ShipDate) ShipDay\n",
    "FROM Sales.SalesOrderHeader AS A\n",
    "INNER JOIN Purchasing.ShipMethod AS B \n",
    "ON A.ShipMethodID=B.ShipMethodID\n"
   ]
  },
  {
   "attachments": {},
   "cell_type": "markdown",
   "metadata": {},
   "source": [
    "Challenge 2: Aggregate product sales\n",
    "The sales manager would like reports that include aggregated information about product sales.\n",
    "\n",
    "1. Retrieve total sales by product\n",
    "   - Write a query to retrieve a list of the product names from the SalesLT.Product table and the total revenue for each product calculated as the sum of LineTotal from the SalesLT.SalesOrderDetail table, with the results sorted in descending order of total revenue.\n",
    "2. Filter the product sales list to include only products that cost over 1,000\n",
    "   - Modify the previous query to include sales totals for products that have a list price of more than 1000.\n",
    "3. Filter the product sales groups to include only total sales over 20,000\n",
    "   - Modify the previous query to only include only product groups with a total sales value greater than 20,000."
   ]
  },
  {
   "cell_type": "code",
   "execution_count": null,
   "metadata": {
    "vscode": {
     "languageId": "sql"
    }
   },
   "outputs": [],
   "source": [
    "--1.\n",
    "SELECT A.Name as Product, SUM(LineTotal) AS TotalRevenue\n",
    "FROM Production.Product AS A \n",
    "INNER JOIN Sales.SalesOrderDetail AS B \n",
    "    ON A.ProductID=B.ProductID\n",
    "GROUP BY A.Name\n",
    "ORDER BY TotalRevenue DESC\n",
    "\n",
    "\n",
    "--2.\n",
    "SELECT A.Name as Product, SUM(LineTotal) AS TotalRevenue\n",
    "FROM Production.Product AS A \n",
    "INNER JOIN Sales.SalesOrderDetail AS B \n",
    "    ON A.ProductID=B.ProductID\n",
    "GROUP BY A.Name\n",
    "ORDER BY TotalRevenue DESC\n",
    "\n",
    "--3.\n",
    "\n",
    "SELECT A.Name as Product, SUM(LineTotal) AS TotalRevenue\n",
    "FROM Production.Product AS A \n",
    "INNER JOIN Sales.SalesOrderDetail AS B \n",
    "    ON A.ProductID=B.ProductID\n",
    "WHERE A.ListPrice > 1000\n",
    "GROUP BY A.Name\n",
    "HAVING SUM(LineTotal) > 20000\n",
    "ORDER BY TotalRevenue DESC"
   ]
  },
  {
   "cell_type": "code",
   "execution_count": null,
   "metadata": {
    "vscode": {
     "languageId": "sql"
    }
   },
   "outputs": [],
   "source": []
  },
  {
   "cell_type": "code",
   "execution_count": null,
   "metadata": {
    "vscode": {
     "languageId": "sql"
    }
   },
   "outputs": [],
   "source": []
  },
  {
   "cell_type": "code",
   "execution_count": null,
   "metadata": {
    "vscode": {
     "languageId": "sql"
    }
   },
   "outputs": [],
   "source": []
  },
  {
   "cell_type": "code",
   "execution_count": null,
   "metadata": {
    "vscode": {
     "languageId": "sql"
    }
   },
   "outputs": [],
   "source": []
  },
  {
   "cell_type": "code",
   "execution_count": null,
   "metadata": {
    "vscode": {
     "languageId": "sql"
    }
   },
   "outputs": [],
   "source": []
  },
  {
   "cell_type": "code",
   "execution_count": null,
   "metadata": {
    "vscode": {
     "languageId": "sql"
    }
   },
   "outputs": [],
   "source": []
  },
  {
   "cell_type": "code",
   "execution_count": null,
   "metadata": {
    "vscode": {
     "languageId": "sql"
    }
   },
   "outputs": [],
   "source": []
  },
  {
   "cell_type": "code",
   "execution_count": null,
   "metadata": {
    "vscode": {
     "languageId": "sql"
    }
   },
   "outputs": [],
   "source": []
  }
 ],
 "metadata": {
  "language_info": {
   "name": "python"
  },
  "orig_nbformat": 4
 },
 "nbformat": 4,
 "nbformat_minor": 2
}
