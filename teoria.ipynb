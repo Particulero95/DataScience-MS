{
 "cells": [
  {
   "cell_type": "code",
   "execution_count": 1,
   "metadata": {},
   "outputs": [
    {
     "name": "stdout",
     "output_type": "stream",
     "text": [
      "Hechos acerca de la luna:\n",
      " No hay atmosfera.\n",
      " No hay sonido.\n",
      "Hechos acerca de la luna: \n",
      "No hay atmosfera. \n",
      "No hay sonido.\n"
     ]
    }
   ],
   "source": [
    "multilinea='Hechos acerca de la luna:\\n No hay atmosfera.\\n No hay sonido.' # al parecer \\n nos da una pequeña sangria por default\n",
    "# print(multilinea)\n",
    "\n",
    "# Del mismo modo podemos dar salto de linea usando comillas triples \n",
    "\n",
    "multilinea2=\"\"\"Hechos acerca de la luna: \n",
    "No hay atmosfera. \n",
    "No hay sonido.\"\"\"\n",
    "\n",
    "print(multilinea)\n",
    "print(multilinea2)\n",
    "#Estos nos arrojan los mismos resultados \n"
   ]
  },
  {
   "attachments": {},
   "cell_type": "markdown",
   "metadata": {},
   "source": [
    "## Capitalizar palabras "
   ]
  },
  {
   "cell_type": "code",
   "execution_count": 2,
   "metadata": {},
   "outputs": [
    {
     "name": "stdout",
     "output_type": "stream",
     "text": [
      "Hechos Acerca De La Luna:\n",
      " No Hay Atmosfera.\n",
      " No Hay Sonido.\n",
      "Esta Es Una Prueba\n"
     ]
    }
   ],
   "source": [
    "#el comando .title() hace mayuscula la primera letra de cada palabra de una cadena \n",
    "print(multilinea.title())\n",
    "\n",
    "prueba= \"esta es una prueba\"\n",
    "prueba_2=prueba.title()\n",
    "\n",
    "print(prueba_2)"
   ]
  },
  {
   "attachments": {},
   "cell_type": "markdown",
   "metadata": {},
   "source": [
    "## Separar una cadena  "
   ]
  },
  {
   "cell_type": "code",
   "execution_count": 3,
   "metadata": {},
   "outputs": [
    {
     "name": "stdout",
     "output_type": "stream",
     "text": [
      "['Un', 'día', 'tiene:', '24', 'hrs', 'una', 'hora', 'tiene:', '60', 'minutos', 'un', 'minuto', 'tiene:', '60', 'segundos']\n",
      "['Un día tiene: 24 hrs ', 'una hora tiene: 60 minutos ', 'un minuto tiene: 60 segundos']\n"
     ]
    }
   ],
   "source": [
    "\n",
    "# Podemos usar el comando .split() para dividir una cadena y esto nos generara una lista\n",
    "# Este comando toma por default a los espacios como separadores \n",
    "\n",
    "cadena= \"\"\"Un día tiene: 24 hrs \n",
    "una hora tiene: 60 minutos \n",
    "un minuto tiene: 60 segundos\"\"\"\n",
    "\n",
    "\n",
    "lst=cadena.split()\n",
    "print(lst)\n",
    "\n",
    "\n",
    "#También podemos usar los saltos de linea como delimitadores para separar la cadena agregando el comando .split('\\n') \n",
    "#Este comando funciona ya sea que demos saltos de linea usando \\n o triples comillas dobles \n",
    "lst_1=cadena.split('\\n')\n",
    "print(lst_1)"
   ]
  },
  {
   "attachments": {},
   "cell_type": "markdown",
   "metadata": {},
   "source": [
    "## Búsqueda de un elemento dentro de una cadena "
   ]
  },
  {
   "cell_type": "code",
   "execution_count": 4,
   "metadata": {},
   "outputs": [
    {
     "name": "stdout",
     "output_type": "stream",
     "text": [
      "False\n",
      "True\n"
     ]
    }
   ],
   "source": [
    "\n",
    "\n",
    "#El comando 'in' buscara el argumento dentro de la cadena especificado y en caso de estar nos arrojara un True de lo contrario False\n",
    "\n",
    "print(\"Moon\" in \"This text will describe facts and challenges with space travel\") #Este argumento es Falso\n",
    "\n",
    "\n",
    "print(\"Moon\" in \"This text will describe facts about the Moon\") # Este argumento es cierto\n",
    "\n",
    "\n"
   ]
  },
  {
   "cell_type": "code",
   "execution_count": 6,
   "metadata": {},
   "outputs": [
    {
     "data": {
      "text/plain": [
       "-1"
      ]
     },
     "execution_count": 6,
     "metadata": {},
     "output_type": "execute_result"
    }
   ],
   "source": [
    "#El comando .find() busca un argumento dentro de una cadana y nos regresa su posición dentro de la cadena \n",
    "temperatures = \"\"\"Saturn has a daytime temperature of -170 degrees Celsius,\n",
    "... while Mars has -28 Celsius.\"\"\"\n",
    "temperatures.find(\"Moon\")\n",
    "\n",
    "#Cuando el argument no se encuentra en la cadena nos regresa -1 \n",
    "\n",
    "\n"
   ]
  },
  {
   "cell_type": "code",
   "execution_count": 7,
   "metadata": {},
   "outputs": [
    {
     "data": {
      "text/plain": [
       "68"
      ]
     },
     "execution_count": 7,
     "metadata": {},
     "output_type": "execute_result"
    }
   ],
   "source": [
    "temperatures.find('Mars')"
   ]
  },
  {
   "attachments": {},
   "cell_type": "markdown",
   "metadata": {},
   "source": [
    "## Contar repeticiones de una argumento en una cadena"
   ]
  },
  {
   "cell_type": "code",
   "execution_count": 13,
   "metadata": {},
   "outputs": [
    {
     "name": "stdout",
     "output_type": "stream",
     "text": [
      "1\n",
      "0\n"
     ]
    }
   ],
   "source": [
    "#Podmeos usar el comando .count() para ver cuantas veces aparece un argumento en una cadena \n",
    "print(temperatures.count('Mars'))\n",
    "print(temperatures.count('Moon'))"
   ]
  },
  {
   "attachments": {},
   "cell_type": "markdown",
   "metadata": {},
   "source": [
    "## Descapitalizar una cadena "
   ]
  },
  {
   "cell_type": "code",
   "execution_count": 14,
   "metadata": {},
   "outputs": [
    {
     "name": "stdout",
     "output_type": "stream",
     "text": [
      "Esta Es Una Prueba\n",
      "esta es una prueba\n",
      "ESTA ES UNA PRUEBA\n"
     ]
    }
   ],
   "source": [
    "#Al contrario de .title() , .lower() nos descapitaliza una cadena y .upper() nos capitaliza todas las letras de una cadena \n",
    "print(prueba_2)\n",
    "print(prueba_2.lower())\n",
    "print(prueba_2.upper())\n"
   ]
  },
  {
   "attachments": {},
   "cell_type": "markdown",
   "metadata": {},
   "source": [
    "## Comprobación de contenido en una cadena"
   ]
  },
  {
   "cell_type": "code",
   "execution_count": 19,
   "metadata": {},
   "outputs": [],
   "source": [
    "temperatura='La temperatura promedio de Marte es : -60°C'"
   ]
  },
  {
   "cell_type": "code",
   "execution_count": 20,
   "metadata": {},
   "outputs": [
    {
     "data": {
      "text/plain": [
       "['La', 'temperatura', 'promedio', 'de', 'Marte', 'es', ':', '-60°C']"
      ]
     },
     "execution_count": 20,
     "metadata": {},
     "output_type": "execute_result"
    }
   ],
   "source": [
    "#primero vamos a separar los elementos de la cadena usando .split()\n",
    "partes=temperatura.split()\n",
    "partes"
   ]
  },
  {
   "cell_type": "code",
   "execution_count": 21,
   "metadata": {},
   "outputs": [
    {
     "data": {
      "text/plain": [
       "'-60°C'"
      ]
     },
     "execution_count": 21,
     "metadata": {},
     "output_type": "execute_result"
    }
   ],
   "source": [
    "partes[-1]"
   ]
  },
  {
   "attachments": {},
   "cell_type": "markdown",
   "metadata": {},
   "source": [
    "Si el texto es irregular, no puede usar los mismos métodos de división para obtener el valor. Debe recorrer en bucle los elementos y comprobar si los valores son de un tipo determinado. Python tiene métodos que ayudan a comprobar el tipo de cadena:"
   ]
  },
  {
   "cell_type": "code",
   "execution_count": 27,
   "metadata": {},
   "outputs": [
    {
     "name": "stdout",
     "output_type": "stream",
     "text": [
      "30\n"
     ]
    }
   ],
   "source": [
    "#The .isnumeric() method returns True if all the characters are numeric (0-9), otherwise False.\n",
    "#The isdecimal() method returns True if all characters in a string are decimal characters. If not, it returns False.\n",
    "\n",
    "mars_temperature = \"The highest temperature on Mars is about 30 C\"\n",
    "for item in mars_temperature.split():\n",
    "    if item.isnumeric():\n",
    "        print(item)\n",
    "\n"
   ]
  },
  {
   "cell_type": "code",
   "execution_count": 29,
   "metadata": {},
   "outputs": [
    {
     "data": {
      "text/plain": [
       "True"
      ]
     },
     "execution_count": 29,
     "metadata": {},
     "output_type": "execute_result"
    }
   ],
   "source": [
    "#Hay validaciones adicionales que puede aplicar en las cadenas para comprobar si hay valores. \n",
    "#En el caso de los números negativos, el guion se agrega como prefijo al número y se puede detectar con el método .startswith()\n",
    "\"-60\".startswith('-')"
   ]
  },
  {
   "cell_type": "code",
   "execution_count": 30,
   "metadata": {},
   "outputs": [
    {
     "name": "stdout",
     "output_type": "stream",
     "text": [
      "This temperature is in Celsius\n"
     ]
    }
   ],
   "source": [
    "#De forma similar, el método .endswith() ayuda a comprobar el último carácter de una cadena\n",
    "if \"30 C\".endswith(\"C\"):\n",
    "    print(\"This temperature is in Celsius\")\n",
    "\n"
   ]
  },
  {
   "cell_type": "code",
   "execution_count": 33,
   "metadata": {},
   "outputs": [
    {
     "name": "stdout",
     "output_type": "stream",
     "text": [
      "False\n",
      "True\n"
     ]
    }
   ],
   "source": [
    "## Observación: en las cadenas las mayúsculas y minúsculas si se diferencian\n",
    "\n",
    "a='Hola mundo'\n",
    "b='hola mundo'\n",
    "\n",
    "print(a==b)\n",
    "\n",
    "#podemos usar los comandos previos para mejorar la exactitud de nuestras busquedas \n",
    "\n",
    "c=a.lower()\n",
    "print(b==c)"
   ]
  },
  {
   "attachments": {},
   "cell_type": "markdown",
   "metadata": {},
   "source": [
    "Es posible que no tenga que realizar la comprobación sin distinguir mayúsculas de minúsculas todo el tiempo, pero convertir en minúsculas todas las letras es un buen enfoque cuando en el texto se usa una mezcla de mayúsculas y minúsculas.\n",
    "\n",
    "Después de dividir el texto y realizar las transformaciones, es posible que tenga que volver a ensamblar todas las piezas. Al igual que el método .split() puede separar caracteres, el método .join() puede volver a agruparlos.\n",
    "\n",
    "El método .join() necesita un elemento iterable (como una lista de Python) como argumento, por lo que su uso es diferente al de otros métodos de cadena:"
   ]
  },
  {
   "cell_type": "code",
   "execution_count": 36,
   "metadata": {},
   "outputs": [
    {
     "name": "stdout",
     "output_type": "stream",
     "text": [
      "The Moon is drifting away from the Earth. \n",
      "  On average, the Moon is moving about 4cm every year\n",
      "The Moon is drifting away from the Earth. \n",
      "  On average, the Moon is moving about 4cm every year\n"
     ]
    }
   ],
   "source": [
    "#Podemos utilizar el comando .join() para unir argumentos pero join necesita un argumento de iteración\n",
    "\n",
    "#Primero creamos una cadena\n",
    "moon_facts = \"The Moon is drifting away from the Earth. \\n  On average, the Moon is moving about 4cm every year\"\n",
    "#Después la separamos usando .split('n') como argumento para separar por salto de línea\n",
    "moon_facts_split=moon_facts.split('\\n')\n",
    "\n",
    "# Y ahora usamos .\\n como argumento para usar .join()\n",
    "moon_facts_join='\\n'.join(moon_facts_split) \n",
    "\n",
    "#Al imprimir moon_facts y moon_facts_join debemos obtener el mismo resultado\n",
    "\n",
    "print(moon_facts)\n",
    "print(moon_facts_join)"
   ]
  },
  {
   "attachments": {},
   "cell_type": "markdown",
   "metadata": {},
   "source": [
    "# Formato de cadenas"
   ]
  },
  {
   "attachments": {},
   "cell_type": "markdown",
   "metadata": {},
   "source": [
    "### Formato de signo de porcentaje (%)\n",
    "El marcador de posición de la variable de la cadena es %s. Después de la cadena, use otro carácter % seguido del nombre de la variable. En el ejemplo siguiente, se muestra cómo dar formato mediante el carácter %:"
   ]
  },
  {
   "cell_type": "code",
   "execution_count": 1,
   "metadata": {},
   "outputs": [
    {
     "name": "stdout",
     "output_type": "stream",
     "text": [
      "On the Moon, you would weigh about 1/6 of your weight on Earth\n"
     ]
    }
   ],
   "source": [
    "mass_percentage = \"1/6\"\n",
    "print(\"On the Moon, you would weigh about %s of your weight on Earth\" % mass_percentage)\n"
   ]
  },
  {
   "attachments": {},
   "cell_type": "markdown",
   "metadata": {},
   "source": [
    "El uso de varios valores cambia la sintaxis, ya que se necesitan paréntesis para rodear las variables que se pasan:"
   ]
  },
  {
   "cell_type": "code",
   "execution_count": 2,
   "metadata": {},
   "outputs": [
    {
     "name": "stdout",
     "output_type": "stream",
     "text": [
      "Both sides of the Moon get the same amount of sunlight, but only one side is seen from Earth because the Moon rotates around its own axis when it orbits Earth.\n"
     ]
    }
   ],
   "source": [
    "print(\"\"\"Both sides of the %s get the same amount of sunlight, but only one side is seen from %s because the %s rotates around its own axis when it orbits %s.\"\"\" % (\"Moon\", \"Earth\", \"Moon\", \"Earth\"))\n"
   ]
  },
  {
   "attachments": {},
   "cell_type": "markdown",
   "metadata": {},
   "source": [
    "### El método format()\n",
    "El método .format( ) usa llaves ({ }) como marcadores de posición dentro de una cadena y utiliza la asignación de variables para reemplazar texto."
   ]
  },
  {
   "cell_type": "code",
   "execution_count": 3,
   "metadata": {},
   "outputs": [
    {
     "name": "stdout",
     "output_type": "stream",
     "text": [
      "On the Moon, you would weigh about 1/6 of your weight on Earth\n"
     ]
    }
   ],
   "source": [
    "mass_percentage = \"1/6\"\n",
    "print(\"On the Moon, you would weigh about {} of your weight on Earth\".format(mass_percentage))\n"
   ]
  },
  {
   "attachments": {},
   "cell_type": "markdown",
   "metadata": {},
   "source": [
    "No es necesario asignar variables repetidas varias veces, lo que hace que sea menos detallado porque es necesario asignar menos variables:"
   ]
  },
  {
   "cell_type": "code",
   "execution_count": 4,
   "metadata": {},
   "outputs": [
    {
     "name": "stdout",
     "output_type": "stream",
     "text": [
      "You are lighter on the Moon, because on the Moon  you would weigh about 1/6 of your weight on Earth\n"
     ]
    }
   ],
   "source": [
    "print(\"\"\"You are lighter on the {0}, because on the {0}  you would weigh about {1} of your weight on Earth\"\"\".format(\"Moon\", mass_percentage))\n"
   ]
  },
  {
   "attachments": {},
   "cell_type": "markdown",
   "metadata": {},
   "source": [
    "En lugar de llaves vacías, la sustitución consiste en usar números. {0} significa usar el primer argumento (índice cero) de .format( ), que en este caso es Moon. {0} funciona bien para una repetición simple, pero reduce la legibilidad. Para mejorar la legibilidad, use argumentos de palabra clave en .format( ) y, después, haga referencia a los mismos argumentos entre llaves:"
   ]
  },
  {
   "cell_type": "code",
   "execution_count": 5,
   "metadata": {},
   "outputs": [
    {
     "name": "stdout",
     "output_type": "stream",
     "text": [
      "You are lighter on the Moon, because on the Moon you would weigh about 1/6 of your weight on Earth\n"
     ]
    }
   ],
   "source": [
    ">>> print(\"\"\"You are lighter on the {moon}, because on the {moon} you would weigh about {mass} of your weight on Earth\"\"\".format(moon=\"Moon\", mass=mass_percentage))"
   ]
  },
  {
   "attachments": {},
   "cell_type": "markdown",
   "metadata": {},
   "source": [
    "## Acerca de las cadenas f-strings\n",
    "A partir de la versión 3.6 de Python, es posible usar f-strings. Estas cadenas parecen plantillas y usan los nombres de variable del código. El uso de f-strings en el ejemplo anterior tendría el siguiente aspecto:"
   ]
  },
  {
   "cell_type": "code",
   "execution_count": 6,
   "metadata": {},
   "outputs": [
    {
     "name": "stdout",
     "output_type": "stream",
     "text": [
      "On the Moon, you would weigh about 1/6 of your weight on Earth\n"
     ]
    }
   ],
   "source": [
    "print(f\"On the Moon, you would weigh about {mass_percentage} of your weight on Earth\")\n"
   ]
  },
  {
   "cell_type": "code",
   "execution_count": 7,
   "metadata": {},
   "outputs": [
    {
     "name": "stdout",
     "output_type": "stream",
     "text": [
      "On the Moon, you would weigh about 16.7% of your weight on Earth\n"
     ]
    }
   ],
   "source": [
    "#Con f-strings, no es necesario asignar un valor a una variable de antemano:\n",
    "print(f\"On the Moon, you would weigh about {round(100/6, 1)}% of your weight on Earth\")"
   ]
  },
  {
   "cell_type": "code",
   "execution_count": 8,
   "metadata": {},
   "outputs": [
    {
     "data": {
      "text/plain": [
       "'Interesting Facts About The Moon'"
      ]
     },
     "execution_count": 8,
     "metadata": {},
     "output_type": "execute_result"
    }
   ],
   "source": [
    "# Podemos combinar f-string con los comandos antes vistos\n",
    "\n",
    "subject = \"interesting facts about the moon\"\n",
    "f\"{subject.title()}\"\n"
   ]
  },
  {
   "attachments": {},
   "cell_type": "markdown",
   "metadata": {},
   "source": [
    "# Uso de operaciones matématicas en Python"
   ]
  },
  {
   "attachments": {},
   "cell_type": "markdown",
   "metadata": {},
   "source": [
    "Adéams de las operaciones usuales en python tenemos la división redondeada hacia abajo o bien división de multiplo inferior. Esta divesión se hace usando //"
   ]
  },
  {
   "cell_type": "code",
   "execution_count": 1,
   "metadata": {},
   "outputs": [
    {
     "name": "stdout",
     "output_type": "stream",
     "text": [
      "4129.666666666667 4129\n"
     ]
    }
   ],
   "source": [
    "a=12389/3 # división usual\n",
    "b=12389//3 # divisón multiplo inferior \n",
    "print(a, b)\n"
   ]
  },
  {
   "cell_type": "markdown",
   "metadata": {},
   "source": [
    "Supongamos que queremos determinar cuantos minutos son 1042 segundos para esto  solo dividimos entre 60  pero esta división no es exacta. Sabiendo esto podemos saber cuantos segundo sobran usando la operación \"modulo\" ( % ). El modulo solo nos dice el residuo de una divisón. Por ejemplo 5 mod 2 =1 ya que 5/2= 4 + residuo, donde el residuo es 1"
   ]
  },
  {
   "cell_type": "code",
   "execution_count": 3,
   "metadata": {},
   "outputs": [
    {
     "name": "stdout",
     "output_type": "stream",
     "text": [
      "17\n",
      "22\n"
     ]
    }
   ],
   "source": [
    "seconds = 1042\n",
    "display_minutes = 1042 // 60\n",
    "display_seconds = 1042 % 60\n",
    "\n",
    "print(display_minutes)\n",
    "print(display_seconds)"
   ]
  },
  {
   "attachments": {},
   "cell_type": "markdown",
   "metadata": {},
   "source": [
    "## Biblioteca matemática\n",
    "Python tiene bibliotecas para proporcionar operaciones y cálculos más avanzados. Una de las más comunes es la biblioteca math. math permite hacer el redondeo con floor y ceil, proporcionar el valor de pi y muchas otras operaciones. Veamos cómo usar esta biblioteca para redondear hacia arriba o hacia abajo.\n",
    "\n",
    "El redondeo de números permite quitar la parte decimal de un número de punto flotante. Puede optar por redondear siempre hacia arriba al número entero más cercano si usa ceil, o hacia abajo si usa floor."
   ]
  },
  {
   "cell_type": "code",
   "execution_count": 4,
   "metadata": {},
   "outputs": [
    {
     "name": "stdout",
     "output_type": "stream",
     "text": [
      "13\n",
      "12\n"
     ]
    }
   ],
   "source": [
    "from math import ceil, floor\n",
    "\n",
    "round_up = ceil(12.5)\n",
    "print(round_up)\n",
    "\n",
    "round_down = floor(12.5)\n",
    "print(round_down)\n",
    "\n"
   ]
  },
  {
   "attachments": {},
   "cell_type": "markdown",
   "metadata": {},
   "source": [
    "# Manejo de listas\n"
   ]
  },
  {
   "attachments": {},
   "cell_type": "markdown",
   "metadata": {},
   "source": [
    "Podemos crear listas simplemente asignandolas a una variable usando corchetes y separando sus elelmentos por comas. Una lista puede contener mas de un tipo de dato.\n"
   ]
  },
  {
   "cell_type": "code",
   "execution_count": 1,
   "metadata": {},
   "outputs": [],
   "source": [
    "lst=[1,'qq', True]"
   ]
  },
  {
   "cell_type": "code",
   "execution_count": 2,
   "metadata": {},
   "outputs": [
    {
     "name": "stdout",
     "output_type": "stream",
     "text": [
      "[1, 'qq', True]\n"
     ]
    }
   ],
   "source": [
    "print(lst)"
   ]
  },
  {
   "attachments": {},
   "cell_type": "markdown",
   "metadata": {},
   "source": [
    "Podemos segementar listas usando corchetes e indicando desde  y hasta cual elemento queremos segmentarm recordando que los indices inican en 0 y que podemos usar : para elegir desde el inicio "
   ]
  },
  {
   "cell_type": "code",
   "execution_count": 8,
   "metadata": {},
   "outputs": [
    {
     "name": "stdout",
     "output_type": "stream",
     "text": [
      "[1, 'qq', True]\n"
     ]
    }
   ],
   "source": [
    "l=lst[0:]\n",
    "print(l)\n"
   ]
  },
  {
   "attachments": {},
   "cell_type": "markdown",
   "metadata": {},
   "source": [
    "Para combinar dos listas simplemente usamos un + para \"sumar\" las listas. \n",
    "Para ordenar o reordenar una lista podmeos usar el comando .sort() este for default reordena alfaberticamente si son cadenas y de menor a mayor si son numeros "
   ]
  },
  {
   "cell_type": "code",
   "execution_count": 12,
   "metadata": {},
   "outputs": [],
   "source": [
    "del(l)\n",
    "del(lst)"
   ]
  },
  {
   "cell_type": "code",
   "execution_count": 15,
   "metadata": {},
   "outputs": [],
   "source": [
    "lst=[1,35,7,-541,35,741,0,-87,178]\n",
    "ls=['Metis', 'Adrastea', 'Amalthea', 'Thebe', 'Io', 'Europa', 'Ganymede', 'Callisto']"
   ]
  },
  {
   "cell_type": "code",
   "execution_count": 17,
   "metadata": {},
   "outputs": [
    {
     "name": "stdout",
     "output_type": "stream",
     "text": [
      "[-541, -87, 0, 1, 7, 35, 35, 178, 741]\n",
      "['Adrastea', 'Amalthea', 'Callisto', 'Europa', 'Ganymede', 'Io', 'Metis', 'Thebe']\n"
     ]
    }
   ],
   "source": [
    "print(lst)\n",
    "print(ls)"
   ]
  },
  {
   "cell_type": "code",
   "execution_count": 18,
   "metadata": {},
   "outputs": [
    {
     "name": "stdout",
     "output_type": "stream",
     "text": [
      "[741, 178, 35, 35, 7, 1, 0, -87, -541]\n"
     ]
    }
   ],
   "source": [
    "#Para reordenar de atras adelante una lista solo ponemos el argumento .sort(reverse=True)\n",
    "lst.sort(reverse=True)\n",
    "print(lst)"
   ]
  },
  {
   "attachments": {},
   "cell_type": "markdown",
   "metadata": {},
   "source": [
    "- #  Diccionarios"
   ]
  },
  {
   "attachments": {},
   "cell_type": "markdown",
   "metadata": {},
   "source": [
    "Los diccionarios de Python permiten trabajar con conjuntos de datos relacionados. Un diccionario es una colección de pares clave-valor. Piense que es como un grupo de variables dentro de un contenedor, donde la clave es el nombre de la variable y el valor es el valor almacenado en su interior."
   ]
  },
  {
   "cell_type": "code",
   "execution_count": 19,
   "metadata": {},
   "outputs": [],
   "source": [
    "planet = {\n",
    "    'name': 'Earth',\n",
    "    'moons': 1\n",
    "}"
   ]
  },
  {
   "cell_type": "code",
   "execution_count": 20,
   "metadata": {},
   "outputs": [
    {
     "name": "stdout",
     "output_type": "stream",
     "text": [
      "Earth\n"
     ]
    }
   ],
   "source": [
    "#Para leer valores dentro de un diccionario podemos usar el comando get\n",
    "\n",
    "print(planet.get('name'))\n",
    "\n"
   ]
  },
  {
   "cell_type": "code",
   "execution_count": 21,
   "metadata": {},
   "outputs": [
    {
     "name": "stdout",
     "output_type": "stream",
     "text": [
      "Earth\n"
     ]
    }
   ],
   "source": [
    "# El código anterior puede siplificarse simplemente poniendo la variable en corchetes para obtener el mismo resultado\n",
    "\n",
    "print(planet['name'])"
   ]
  },
  {
   "cell_type": "code",
   "execution_count": 25,
   "metadata": {},
   "outputs": [
    {
     "data": {
      "text/plain": [
       "\"wibble = planet.get('wibble') # Returns None\\nwibble = planet['wibble'] # Throws KeyError\""
      ]
     },
     "execution_count": 25,
     "metadata": {},
     "output_type": "execute_result"
    }
   ],
   "source": [
    "#Aunque el comportamiento de get y los corchetes ([ ]) suele ser el mismo para recuperar elementos, hay una diferencia principal\n",
    "#Si una clave no está disponible, get devuelve None y [ ] genera un error KeyError.\n",
    "'''wibble = planet.get('wibble') # Returns None\n",
    "wibble = planet['wibble'] # Throws KeyError'''"
   ]
  },
  {
   "attachments": {},
   "cell_type": "markdown",
   "metadata": {},
   "source": [
    "Para modificar el valor de una variable de un diccionario podemos usar el comando .update( ) o usar corchetes "
   ]
  },
  {
   "cell_type": "code",
   "execution_count": 26,
   "metadata": {},
   "outputs": [
    {
     "name": "stdout",
     "output_type": "stream",
     "text": [
      "{'name': 'Jupyter', 'moons': 79}\n"
     ]
    }
   ],
   "source": [
    "planet.update({'name':'Jupyter'}) # creo que usan las llaves para indicar que son un elemento de un diccionario\n",
    "planet['moons']=79\n",
    "\n",
    "print(planet)\n"
   ]
  },
  {
   "cell_type": "code",
   "execution_count": 37,
   "metadata": {},
   "outputs": [
    {
     "name": "stdout",
     "output_type": "stream",
     "text": [
      "{'name': 'Jupyter', 'moons': 79, 'orbital period': 4333, 'gravity': '455'}\n"
     ]
    }
   ],
   "source": [
    "# Podemos añadir o eliminar variables de un diccionario\n",
    "\n",
    "# aquí añadimos dos variables\n",
    "planet['orbital period']=4333 \n",
    "planet['gravity']='455'\n",
    "print(planet)"
   ]
  },
  {
   "cell_type": "code",
   "execution_count": 38,
   "metadata": {},
   "outputs": [
    {
     "data": {
      "text/plain": [
       "{'name': 'Jupyter', 'moons': 79}"
      ]
     },
     "execution_count": 38,
     "metadata": {},
     "output_type": "execute_result"
    }
   ],
   "source": [
    "planet.pop('orbital period') \n",
    "planet.pop('gravity') # aquí eliminamos las variables\n",
    "planet"
   ]
  },
  {
   "attachments": {},
   "cell_type": "markdown",
   "metadata": {},
   "source": [
    "Un diccionario puede almacenar otros diccionarios dentro de si mismo, esto nos permite crear variables más complejas"
   ]
  },
  {
   "cell_type": "code",
   "execution_count": 47,
   "metadata": {},
   "outputs": [
    {
     "data": {
      "text/plain": [
       "{'name': 'Jupyter',\n",
       " 'moons': 79,\n",
       " 'diameter (km)': {'polar': 133709, 'equatorial': 142984}}"
      ]
     },
     "execution_count": 47,
     "metadata": {},
     "output_type": "execute_result"
    }
   ],
   "source": [
    "planet['diameter (km)']={'polar':133709,'equatorial':142984}\n",
    "#planet.pop('diameter')\n",
    "planet"
   ]
  },
  {
   "cell_type": "code",
   "execution_count": 48,
   "metadata": {},
   "outputs": [
    {
     "name": "stdout",
     "output_type": "stream",
     "text": [
      "Jupyter polar diameter: 133709\n"
     ]
    }
   ],
   "source": [
    "#Para recuperar valores en un diccionario anidado, debe encadenar corchetes o llamadas a get.\n",
    "print(f'{planet[\"name\"]} polar diameter: {planet[\"diameter (km)\"][\"polar\"]}')\n"
   ]
  },
  {
   "attachments": {},
   "cell_type": "markdown",
   "metadata": {},
   "source": [
    "Podemos ver todas las llaves ( variables) de nuestro diccionario usando el comando .keys()"
   ]
  },
  {
   "cell_type": "code",
   "execution_count": 49,
   "metadata": {},
   "outputs": [
    {
     "data": {
      "text/plain": [
       "dict_keys(['name', 'moons', 'diameter (km)'])"
      ]
     },
     "execution_count": 49,
     "metadata": {},
     "output_type": "execute_result"
    }
   ],
   "source": [
    "planet.keys()"
   ]
  },
  {
   "cell_type": "code",
   "execution_count": 52,
   "metadata": {},
   "outputs": [
    {
     "name": "stdout",
     "output_type": "stream",
     "text": [
      "october: 3.5 cm\n",
      "november: 4.2 cm\n",
      "december: 2.1 cm\n"
     ]
    }
   ],
   "source": [
    "#Podemos usar un ciclo for para iterar sobre los elementos de nuestros diccionarios    \n",
    "rainfall = {\n",
    "    'october': 3.5,\n",
    "    'november': 4.2,\n",
    "    'december': 2.1\n",
    "}\n",
    "for key in rainfall.keys() :\n",
    "  print(f'{key}: {rainfall[key]} cm')"
   ]
  },
  {
   "attachments": {},
   "cell_type": "markdown",
   "metadata": {},
   "source": [
    "###  Determinación de la existencia de una clave en un diccionario\n",
    "Al actualizar un valor en un diccionario, Python sobrescribirá el valor existente o creará uno, si la clave no existe. Si quiere agregar a un valor en lugar de sobrescribirlo, puede comprobar si la clave existe mediante in. Por ejemplo, si quiere agregar un valor a diciembre o crear uno si no existe, puede usar lo siguiente:"
   ]
  },
  {
   "cell_type": "code",
   "execution_count": 53,
   "metadata": {},
   "outputs": [
    {
     "data": {
      "text/plain": [
       "{'october': 3.5, 'november': 4.2, 'december': 3.1}"
      ]
     },
     "execution_count": 53,
     "metadata": {},
     "output_type": "execute_result"
    }
   ],
   "source": [
    "if 'december' in rainfall:\n",
    "    rainfall['december'] = rainfall['december'] + 1\n",
    "else:\n",
    "    rainfall['december'] = 1\n",
    "\n",
    "rainfall"
   ]
  },
  {
   "attachments": {},
   "cell_type": "markdown",
   "metadata": {},
   "source": [
    "### Recuperación de todos los valores\n",
    "De forma similar a keys( ), values( ) devuelve la lista de todos los valores de un diccionario sin sus claves correspondientes. values( ) puede resultar útil cuando se usa la clave con fines de etiquetado, como en el ejemplo anterior, en el que las claves son el nombre del mes. Puede usar para values( ) determinar el importe total de las precipitaciones:"
   ]
  },
  {
   "cell_type": "code",
   "execution_count": 54,
   "metadata": {},
   "outputs": [
    {
     "data": {
      "text/plain": [
       "dict_values([3.5, 4.2, 3.1])"
      ]
     },
     "execution_count": 54,
     "metadata": {},
     "output_type": "execute_result"
    }
   ],
   "source": [
    "rainfall.values()"
   ]
  },
  {
   "cell_type": "code",
   "execution_count": 55,
   "metadata": {},
   "outputs": [
    {
     "name": "stdout",
     "output_type": "stream",
     "text": [
      "There was 10.8cm in the last quarter\n"
     ]
    }
   ],
   "source": [
    "total_rainfall = 0\n",
    "for value in rainfall.values():\n",
    "    total_rainfall = total_rainfall + value\n",
    "\n",
    "print(f'There was {total_rainfall}cm in the last quarter')\n"
   ]
  },
  {
   "attachments": {},
   "cell_type": "markdown",
   "metadata": {},
   "source": [
    "- # Funciones de Python"
   ]
  },
  {
   "cell_type": "code",
   "execution_count": 1,
   "metadata": {},
   "outputs": [
    {
     "name": "stdout",
     "output_type": "stream",
     "text": [
      "payload propellant structure\n"
     ]
    }
   ],
   "source": [
    "def rocket_parts():\n",
    "    print('payload','propellant','structure')\n",
    "\n",
    "rocket_parts()"
   ]
  },
  {
   "cell_type": "code",
   "execution_count": 2,
   "metadata": {},
   "outputs": [
    {
     "name": "stdout",
     "output_type": "stream",
     "text": [
      "payload propellant structure\n"
     ]
    },
    {
     "data": {
      "text/plain": [
       "True"
      ]
     },
     "execution_count": 2,
     "metadata": {},
     "output_type": "execute_result"
    }
   ],
   "source": [
    "output = rocket_parts()\n",
    "output is None\n"
   ]
  },
  {
   "cell_type": "code",
   "execution_count": 4,
   "metadata": {},
   "outputs": [
    {
     "data": {
      "text/plain": [
       "'payload, propellant, structure'"
      ]
     },
     "execution_count": 4,
     "metadata": {},
     "output_type": "execute_result"
    }
   ],
   "source": [
    "def rocket_parts():\n",
    "    return 'payload, propellant, structure'\n",
    "output=rocket_parts()\n",
    "output\n"
   ]
  },
  {
   "attachments": {},
   "cell_type": "markdown",
   "metadata": {},
   "source": [
    "## Argumentos opcionales y requeridos\n",
    "En Python, varias funciones integradas requieren argumentos. Algunas funciones integradas hacen que los argumentos sean opcionales. Las funciones integradas están disponibles de inmediato, por lo que no es necesario importarlas explícitamente.\n",
    "\n",
    "Un ejemplo de una función integrada que requiere un argumento es any(). Esta función toma un objeto iterable (por ejemplo, una lista) y devuelve True si algún elemento del objeto iterable es True. De lo contrario, devuelve False."
   ]
  },
  {
   "cell_type": "code",
   "execution_count": 7,
   "metadata": {},
   "outputs": [
    {
     "name": "stdout",
     "output_type": "stream",
     "text": [
      "True\n",
      "False\n"
     ]
    }
   ],
   "source": [
    "print(any([True, False, False]))\n",
    "\n",
    "print(any([False, False, False]))\n"
   ]
  },
  {
   "attachments": {},
   "cell_type": "markdown",
   "metadata": {},
   "source": [
    "## Funciones con argumento\n",
    "  ### Exigencia de un argumento\n",
    "Si va a pilotar un cohete, una función sin entradas obligatorias es como un equipo con un botón que le indique la hora. Si presiona el botón, una voz computarizada le indicará la hora. Pero una entrada necesaria puede ser un destino para calcular la distancia del viaje. Las entradas obligatorias se denominan argumentos para la función.\n",
    "\n",
    "Para requerir un argumento, póngalo entre paréntesis:"
   ]
  },
  {
   "cell_type": "code",
   "execution_count": 8,
   "metadata": {},
   "outputs": [],
   "source": [
    "def distance_from_earth(destination):\n",
    "    if destination == \"Moon\":\n",
    "        return \"238,855\"\n",
    "    else:\n",
    "        return \"Unable to compute to that destination\""
   ]
  },
  {
   "cell_type": "code",
   "execution_count": 9,
   "metadata": {},
   "outputs": [
    {
     "ename": "TypeError",
     "evalue": "distance_from_earth() missing 1 required positional argument: 'destination'",
     "output_type": "error",
     "traceback": [
      "\u001b[1;31m---------------------------------------------------------------------------\u001b[0m",
      "\u001b[1;31mTypeError\u001b[0m                                 Traceback (most recent call last)",
      "Cell \u001b[1;32mIn[9], line 1\u001b[0m\n\u001b[1;32m----> 1\u001b[0m distance_from_earth()\n",
      "\u001b[1;31mTypeError\u001b[0m: distance_from_earth() missing 1 required positional argument: 'destination'"
     ]
    }
   ],
   "source": [
    "distance_from_earth()"
   ]
  },
  {
   "cell_type": "code",
   "execution_count": 11,
   "metadata": {},
   "outputs": [
    {
     "data": {
      "text/plain": [
       "'238,855'"
      ]
     },
     "execution_count": 11,
     "metadata": {},
     "output_type": "execute_result"
    }
   ],
   "source": [
    "distance_from_earth('Moon')"
   ]
  },
  {
   "cell_type": "code",
   "execution_count": 12,
   "metadata": {},
   "outputs": [
    {
     "data": {
      "text/plain": [
       "'Unable to compute to that destination'"
      ]
     },
     "execution_count": 12,
     "metadata": {},
     "output_type": "execute_result"
    }
   ],
   "source": [
    "distance_from_earth('Saturn')"
   ]
  },
  {
   "cell_type": "code",
   "execution_count": 13,
   "metadata": {},
   "outputs": [],
   "source": [
    "def days_to_complete(distance, speed):\n",
    "    hours = distance/speed\n",
    "    return hours/24"
   ]
  },
  {
   "cell_type": "code",
   "execution_count": 14,
   "metadata": {},
   "outputs": [
    {
     "data": {
      "text/plain": [
       "82.93576388888889"
      ]
     },
     "execution_count": 14,
     "metadata": {},
     "output_type": "execute_result"
    }
   ],
   "source": [
    "days_to_complete(238855,120)"
   ]
  },
  {
   "attachments": {},
   "cell_type": "markdown",
   "metadata": {},
   "source": [
    "### Funciones con argumentos"
   ]
  },
  {
   "cell_type": "code",
   "execution_count": 15,
   "metadata": {},
   "outputs": [
    {
     "data": {
      "text/plain": [
       "133"
      ]
     },
     "execution_count": 15,
     "metadata": {},
     "output_type": "execute_result"
    }
   ],
   "source": [
    "total_days = days_to_complete(238855, 75)\n",
    "round(total_days)\n"
   ]
  },
  {
   "cell_type": "code",
   "execution_count": 16,
   "metadata": {},
   "outputs": [
    {
     "data": {
      "text/plain": [
       "133"
      ]
     },
     "execution_count": 16,
     "metadata": {},
     "output_type": "execute_result"
    }
   ],
   "source": [
    "round(days_to_complete(238855, 75))"
   ]
  },
  {
   "attachments": {},
   "cell_type": "markdown",
   "metadata": {},
   "source": [
    "### Uso de argumentos de palabra clave en Python\n"
   ]
  },
  {
   "cell_type": "code",
   "execution_count": 1,
   "metadata": {},
   "outputs": [],
   "source": [
    "from datetime import timedelta, datetime\n",
    "\n",
    "def arrival_time(hours=51):\n",
    "    now = datetime.now()\n",
    "    arrival = now + timedelta(hours=hours)\n",
    "    return arrival.strftime(\"Arrival: %A %H:%M\")"
   ]
  },
  {
   "cell_type": "code",
   "execution_count": 2,
   "metadata": {},
   "outputs": [
    {
     "data": {
      "text/plain": [
       "'Arrival: Thursday 18:34'"
      ]
     },
     "execution_count": 2,
     "metadata": {},
     "output_type": "execute_result"
    }
   ],
   "source": [
    "arrival_time()\n"
   ]
  },
  {
   "cell_type": "code",
   "execution_count": 3,
   "metadata": {},
   "outputs": [
    {
     "data": {
      "text/plain": [
       "'Arrival: Tuesday 15:35'"
      ]
     },
     "execution_count": 3,
     "metadata": {},
     "output_type": "execute_result"
    }
   ],
   "source": [
    "arrival_time(hours=0)\n"
   ]
  },
  {
   "attachments": {},
   "cell_type": "markdown",
   "metadata": {},
   "source": [
    "### Combinación de argumentos y argumentos de palabra clave\n",
    "A veces, una función necesita una combinación de argumentos de palabra clave y argumentos. En Python, esta combinación sigue un orden específico. Los argumentos siempre se declaran primero, seguidos de argumentos de palabra clave.\n",
    "\n",
    "Actualice la función arrival_time( ) para que tome un argumento necesario, que es el nombre del destino:"
   ]
  },
  {
   "cell_type": "code",
   "execution_count": 4,
   "metadata": {},
   "outputs": [],
   "source": [
    "def arrival_time(destination, hours=51):\n",
    "    now = datetime.now()\n",
    "    arrival = now + timedelta(hours=hours)\n",
    "    return arrival.strftime(f\"{destination} Arrival: %A %H:%M\")"
   ]
  },
  {
   "cell_type": "code",
   "execution_count": 5,
   "metadata": {},
   "outputs": [
    {
     "data": {
      "text/plain": [
       "'Moon Arrival: Thursday 18:37'"
      ]
     },
     "execution_count": 5,
     "metadata": {},
     "output_type": "execute_result"
    }
   ],
   "source": [
    "# Esta nueva función que acabamos de crear requiere imperativamente un argumento de \"destino\" de lo contrario el código no regresará un error\n",
    "arrival_time(\"Moon\")\n"
   ]
  },
  {
   "cell_type": "code",
   "execution_count": 6,
   "metadata": {},
   "outputs": [
    {
     "data": {
      "text/plain": [
       "'Orbit Arrival: Tuesday 15:45'"
      ]
     },
     "execution_count": 6,
     "metadata": {},
     "output_type": "execute_result"
    }
   ],
   "source": [
    "arrival_time(\"Orbit\", hours=0.13)\n"
   ]
  },
  {
   "attachments": {},
   "cell_type": "markdown",
   "metadata": {},
   "source": [
    "### Uso de argumentos de variable para PYTHON"
   ]
  },
  {
   "attachments": {},
   "cell_type": "markdown",
   "metadata": {},
   "source": [
    "#### Argumentos de variable\n",
    "Los argumentos en las funciones son necesarios. Pero cuando se usan argumentos de variable, la función permite pasar cualquier número de argumentos (incluido 0). La sintaxis para usar argumentos de variable es agregar un asterisco único como prefijo (*) antes del nombre del argumento.\n",
    "\n",
    "La función siguiente imprime los argumentos recibidos:"
   ]
  },
  {
   "cell_type": "code",
   "execution_count": 9,
   "metadata": {},
   "outputs": [
    {
     "name": "stdout",
     "output_type": "stream",
     "text": [
      "(1, 75, 8, 6, 8979)\n"
     ]
    }
   ],
   "source": [
    "# La siguiente funcion devuelve los argumentos recibidos \n",
    "def variable_length(*args):\n",
    "    print(args)\n",
    "\n",
    "variable_length(1,75,8,6,8979)"
   ]
  },
  {
   "attachments": {},
   "cell_type": "markdown",
   "metadata": {},
   "source": [
    "Un cohete realiza varios pasos antes de un lanzamiento. En función de las tareas o retrasos, estos pasos pueden tardar más de lo previsto. Vamos a crear una función de longitud variable que pueda calcular cuántos minutos quedan hasta el inicio, dado el tiempo que va a tardar cada paso:"
   ]
  },
  {
   "cell_type": "code",
   "execution_count": 11,
   "metadata": {},
   "outputs": [],
   "source": [
    "def sequence_time(*args):\n",
    "    total_minutes = sum(args)\n",
    "    if total_minutes < 60:\n",
    "        return f\"Total time to launch is {total_minutes} minutes\"\n",
    "    else:\n",
    "        return f\"Total time to launch is {total_minutes/60} hours\""
   ]
  },
  {
   "cell_type": "code",
   "execution_count": 12,
   "metadata": {},
   "outputs": [
    {
     "data": {
      "text/plain": [
       "'Total time to launch is 2.8333333333333335 hours'"
      ]
     },
     "execution_count": 12,
     "metadata": {},
     "output_type": "execute_result"
    }
   ],
   "source": [
    "sequence_time(1,15,98,7,14,35)"
   ]
  },
  {
   "attachments": {},
   "cell_type": "markdown",
   "metadata": {},
   "source": [
    "### Argumentos de palabra clave variable\n",
    "Para que una función acepte cualquier número de argumentos de palabra clave, debe usar una sintaxis similar. En este caso, se requiere un asterisco doble:"
   ]
  },
  {
   "cell_type": "code",
   "execution_count": 2,
   "metadata": {},
   "outputs": [],
   "source": [
    "def variable_length(**kwargs):\n",
    "    print(kwargs)"
   ]
  },
  {
   "cell_type": "code",
   "execution_count": 4,
   "metadata": {},
   "outputs": [
    {
     "name": "stdout",
     "output_type": "stream",
     "text": [
      "{'tanks': 1, 'day': 'Wednesday', 'pilots': 3}\n",
      "<class 'NoneType'> None\n"
     ]
    }
   ],
   "source": [
    "dict=variable_length(tanks=1, day=\"Wednesday\", pilots=3)\n",
    "print(type(dict), dict)"
   ]
  },
  {
   "cell_type": "code",
   "execution_count": 5,
   "metadata": {},
   "outputs": [],
   "source": [
    "def crew_members(**kwargs):\n",
    "    print(f\"{len(kwargs)} astronauts assigned for this mission:\")\n",
    "    for title, name in kwargs.items():\n",
    "        print(f\"{title}: {name}\")"
   ]
  },
  {
   "cell_type": "code",
   "execution_count": 6,
   "metadata": {},
   "outputs": [
    {
     "name": "stdout",
     "output_type": "stream",
     "text": [
      "3 astronauts assigned for this mission:\n",
      "captain: Neil Armstrong\n",
      "pilot: Buzz Aldrin\n",
      "command_pilot: Michael Collins\n"
     ]
    }
   ],
   "source": [
    "crew_members(captain=\"Neil Armstrong\", pilot=\"Buzz Aldrin\", command_pilot=\"Michael Collins\")\n"
   ]
  },
  {
   "attachments": {},
   "cell_type": "markdown",
   "metadata": {},
   "source": [
    "### Exploración de la estructura de las instrucciones SQL\n",
    "\n",
    "En cualquier dialecto de SQL, las instrucciones SQL se agrupan en varios tipos diferentes de instrucciones. Estos distintos tipos son:\n",
    "\n",
    "- Lenguaje de manipulación de datos (DML), que es el conjunto de instrucciones SQL que se centra en consultar y modificar datos. Las instrucciones DML incluyen SELECT, el punto central de este entrenamiento, y las instrucciones de modificación como INSERT, UPDATE y DELETE.\n",
    "- Lenguaje de definición de datos (DDL), que es el conjunto de instrucciones SQL que controla la definición y el ciclo de vida de los objetos de base de datos, como tablas, vistas y procedimientos. DDL incluye instrucciones como CREATE, ALTER y DROP.\n",
    "- Lenguaje de control de datos (DCL), que es el conjunto de instrucciones SQL que se usan para administrar permisos de seguridad para usuarios y objetos. DCL incluye instrucciones como GRANT, REVOKE y DENY."
   ]
  },
  {
   "cell_type": "code",
   "execution_count": null,
   "metadata": {
    "vscode": {
     "languageId": "sql"
    }
   },
   "outputs": [],
   "source": [
    "SELECT OrderDate, COUNT(OrderID) AS Orders\n",
    "FROM Sales.SalesOrder\n",
    "WHERE Status = 'Shipped'\n",
    "GROUP BY OrderDate\n",
    "HAVING COUNT(OrderID) > 1\n",
    "ORDER BY OrderDate DESC;"
   ]
  },
  {
   "attachments": {},
   "cell_type": "markdown",
   "metadata": {},
   "source": [
    "Ahora que ha visto lo que hace cada cláusula, echemos un vistazo al orden en que SQL Server las evalúa realmente:\n",
    "\n",
    "1. La cláusula FROM se evalúa primero para proporcionar las filas de origen para el resto de la instrucción. Se crea una tabla 2. virtual y se pasa al paso siguiente.\n",
    "2. La cláusula WHERE es la siguiente en evaluarse, filtrando las filas de la tabla de origen que coinciden con un predicado. La tabla virtual filtrada se pasa al paso siguiente.\n",
    "3. GROUP BY es la siguiente, que organiza las filas de la tabla virtual según los valores únicos que se encuentran en la lista GROUP BY. Se crea una nueva tabla virtual que contiene la lista de grupos y se pasa al paso siguiente. A partir de este punto del flujo de operaciones, otros elementos solo pueden hacer referencia a las columnas de la lista GROUP BY o a las funciones de agregado.\n",
    "4. Después se avalúa la cláusula HAVING, que filtra grupos completos en función de su predicado. La tabla virtual creada en el paso 3 se filtra y se pasa al paso siguiente.\n",
    "5. Por último, se ejecuta la cláusula SELECT, que determina qué columnas aparecerán en los resultados de la consulta. Dado que la cláusula SELECT se evalúa después de los otros pasos, los alias de columna (en nuestro ejemplo, Orders)creados allí no se pueden usar en las cláusulas GROUP BY o HAVING.\n",
    "6. La cláusula ORDER BY es la última en ejecutarse, que ordena las filas según lo determinado por su lista de columnas.\n",
    "Para aplicar este conocimiento a nuestra consulta de ejemplo, este es el orden lógico en tiempo de ejecución de la instrucción SELECT anterior:"
   ]
  },
  {
   "cell_type": "code",
   "execution_count": null,
   "metadata": {
    "vscode": {
     "languageId": "sql"
    }
   },
   "outputs": [],
   "source": [
    "FROM Sales.SalesOrder\n",
    "WHERE Status = 'Shipped'\n",
    "GROUP BY OrderDate \n",
    "HAVING COUNT(OrderID) > 1\n",
    "SELECT OrderDate, COUNT(OrderID) AS Orders\n",
    "ORDER BY OrderDate DESC;"
   ]
  },
  {
   "attachments": {},
   "cell_type": "markdown",
   "metadata": {},
   "source": [
    "### T-SQL incluye funciones que le ayudan a convertir explícitamente entre tipos de datos\n",
    "#### CAST y TRY_CAST\n",
    "La función CAST convierte un valor en un tipo de datos especificado si dicho valor es compatible con el tipo de datos de destino. Se devolverá un error si no es compatible.\n",
    "\n",
    "Por ejemplo, la consulta siguiente usa CAST para convertir los valores integer de la columna ProductID en valores varchar (con un máximo de 4 caracteres) para concatenarlos con otro valor basado en caracteres:"
   ]
  },
  {
   "cell_type": "code",
   "execution_count": null,
   "metadata": {
    "vscode": {
     "languageId": "sql"
    }
   },
   "outputs": [],
   "source": [
    "SELECT CAST(ProductID AS varchar(4)) + ': ' + Name AS ProductName\n",
    "FROM Production.Product;\n",
    "\n",
    "Los resultados posibles de esta consulta podrían tener un aspecto parecido al siguiente:\n",
    "\n",
    "ProductName\n",
    "\n",
    "680: HL Road Frame - Black, 58\n",
    "\n",
    "706: HL Road Frame - Red, 58\n",
    "\n",
    "707: Sport-100 Helmet, Red\n",
    "\n",
    "708: Sport-100 Helmet, Black"
   ]
  },
  {
   "attachments": {},
   "cell_type": "markdown",
   "metadata": {},
   "source": [
    "Sin embargo, supongamos que la columna Size de la tabla Production.Product es una columna nvarchar (longitud variable, datos de texto Unicode) que contiene algunos tamaños numéricos (como 58) y algunos tamaños basados en texto (como \"S\", \"M\" o \"L\"). La consulta siguiente intenta convertir valores de esta columna en un tipo de datos integer:"
   ]
  },
  {
   "cell_type": "code",
   "execution_count": null,
   "metadata": {
    "vscode": {
     "languageId": "sql"
    }
   },
   "outputs": [],
   "source": [
    "SELECT CAST(Size AS integer) As NumericSize\n",
    "FROM Production.Product;\n",
    "\n",
    "\n",
    "Esta consulta produce el siguiente error:\n",
    "\n",
    "Error: Error de conversión al convertir el valor nvarchar \"M\" al tipo de datos int."
   ]
  },
  {
   "attachments": {},
   "cell_type": "markdown",
   "metadata": {},
   "source": [
    "Dado que al menos algunos de los valores de la columna son numéricos, es posible que quiera convertir esos valores y pasar por alto los demás. Puede usar la función TRY_CAST para convertir tipos de datos.\n"
   ]
  },
  {
   "cell_type": "code",
   "execution_count": null,
   "metadata": {
    "vscode": {
     "languageId": "sql"
    }
   },
   "outputs": [],
   "source": [
    "SELECT TRY_CAST(Size AS integer) As NumericSize\n",
    "FROM Production.Product;\n",
    "\n",
    "Los resultados esta vez podrían ser similares a los siguientes:\n",
    "\n",
    "NumericSize\n",
    "\n",
    "58\n",
    "\n",
    "58\n",
    "\n",
    "NULL\n",
    "\n",
    "NULL"
   ]
  },
  {
   "attachments": {},
   "cell_type": "markdown",
   "metadata": {},
   "source": [
    "### CONVERT y TRY_CONVERT\n",
    "CAST es la función de SQL del estándar ANSI para convertir entre tipos de datos y se usa en muchos sistemas de base de datos. En Transact-SQL, también puede usar la función CONVERT, como se muestra aquí:"
   ]
  },
  {
   "cell_type": "code",
   "execution_count": null,
   "metadata": {
    "vscode": {
     "languageId": "sql"
    }
   },
   "outputs": [],
   "source": [
    "SELECT CONVERT(varchar(4), ProductID) + ': ' + Name AS ProductName\n",
    "FROM Production.Product;\n",
    "\n",
    "Una vez más, esta consulta devuelve el valor convertido al tipo de datos especificado de la siguiente forma:\n",
    "\n",
    "ProductName\n",
    "\n",
    "680: HL Road Frame - Black, 58\n",
    "\n",
    "706: HL Road Frame - Red, 58\n",
    "\n",
    "707: Sport-100 Helmet, Red\n",
    "\n",
    "708: Sport-100 Helmet, Black\n",
    "\n",
    "..."
   ]
  },
  {
   "attachments": {},
   "cell_type": "markdown",
   "metadata": {},
   "source": [
    "Al igual que CAST, CONVERT tiene una variante TRY_CONVERT que devuelve NULL para valores incompatibles.\n",
    "\n",
    "Otra ventaja de usar CONVERT sobre CAST es que CONVERT también incluye un parámetro que permite especificar un estilo de formato al convertir valores numéricos y de fecha en cadenas. Por ejemplo, considere la siguiente consulta:"
   ]
  },
  {
   "cell_type": "code",
   "execution_count": null,
   "metadata": {
    "vscode": {
     "languageId": "sql"
    }
   },
   "outputs": [],
   "source": [
    "SELECT SellStartDate,\n",
    "       CONVERT(varchar(20), SellStartDate) AS StartDate,\n",
    "       CONVERT(varchar(10), SellStartDate, 101) AS FormattedStartDate \n",
    "FROM SalesLT.Product;\n",
    "\n"
   ]
  },
  {
   "attachments": {},
   "cell_type": "markdown",
   "metadata": {},
   "source": [
    "### PARSE y TRY_PARSE\n",
    "La función PARSE está diseñada para convertir cadenas con formato que representan valores numéricos o de fecha y hora. Por ejemplo, considere la siguiente consulta (que usa valores literales en lugar de valores de columnas de una tabla):"
   ]
  },
  {
   "cell_type": "code",
   "execution_count": 1,
   "metadata": {
    "vscode": {
     "languageId": "sql"
    }
   },
   "outputs": [
    {
     "ename": "SyntaxError",
     "evalue": "invalid syntax (2435549716.py, line 1)",
     "output_type": "error",
     "traceback": [
      "\u001b[1;36m  Cell \u001b[1;32mIn[1], line 1\u001b[1;36m\u001b[0m\n\u001b[1;33m    SELECT PARSE('01/01/2021' AS date) AS DateValue,\u001b[0m\n\u001b[1;37m           ^\u001b[0m\n\u001b[1;31mSyntaxError\u001b[0m\u001b[1;31m:\u001b[0m invalid syntax\n"
     ]
    }
   ],
   "source": [
    "SELECT PARSE('01/01/2021' AS date) AS DateValue,\n",
    "   PARSE('$199.99' AS money) AS MoneyValue;\n",
    "\n",
    "   De forma similar a CAST y CONVERT, PARSE tiene una variante TRY_PARSE que devuelve valores incompatibles como NULL."
   ]
  },
  {
   "attachments": {},
   "cell_type": "markdown",
   "metadata": {},
   "source": [
    "### Controlar valores NULL\n",
    "\n",
    "Un valor NULL significa que no hay ningún valor o es desconocido. No significa cero ni en blanco, ni siquiera una cadena vacía. Esos valores no son desconocidos. Se puede usar un valor NULL para los valores que aún no se han proporcionado, por ejemplo, cuando un cliente aún no ha proporcionado una dirección de correo electrónico. Como ha visto anteriormente, algunas funciones de conversión también pueden devolver un valor NULL si un valor no es compatible con el tipo de datos de destino.\n",
    "\n",
    "A menudo, deberá realizar pasos especiales para tratar con los valores NULL. NULL es realmente un valor sin valor. Es desconocido. No es igual a nada y no es desigual a nada. NULL no es mayor ni menor que nada. No podemos decir nada sobre lo que es, pero a veces es necesario trabajar con valores NULL. Afortunadamente, T-SQL proporciona funciones para la conversión o sustitución de valores NULL."
   ]
  },
  {
   "attachments": {},
   "cell_type": "markdown",
   "metadata": {},
   "source": [
    "#### ISNULL\n",
    "La función ISNULL toma dos argumentos. El primero es una expresión que estamos probando. Si el valor de ese primer argumento es NULL, la función devuelve el segundo argumento. Si la primera expresión no es NULL, se devuelve sin cambios.\n",
    "\n",
    "Por ejemplo, supongamos que la tabla Sales.Customer de una base de datos incluye una columna MiddleName que permite valores NULL. Al consultar esta tabla, en lugar de devolver NULL en el resultado, puede optar por devolver un valor específico, como \"None\"."
   ]
  },
  {
   "attachments": {},
   "cell_type": "markdown",
   "metadata": {},
   "source": [
    "#### COALESCE\n",
    "La función ISNULL no es estándar de ANSI, por lo que puede que desee usar la función COALESCE en su lugar. COALESCE es un poco más flexible, ya que puede tomar un número variable de argumentos, cada uno de los cuales es una expresión. Devolverá la primera expresión de la lista que no sea NULL.\n",
    "\n",
    "Si solo hay dos argumentos, COALESCE se comporta como ISNULL. Sin embargo, con más de dos argumentos, COALESCE se puede usar como alternativa a una expresión CASE de varias partes mediante ISNULL.\n",
    "\n",
    "Si todos los argumentos son NULL, COALESCE devuelve NULL. Todas las expresiones deben devolver tipos de datos iguales o compatibles.\n",
    "\n",
    "La sintaxis es la siguiente:"
   ]
  },
  {
   "cell_type": "code",
   "execution_count": null,
   "metadata": {
    "vscode": {
     "languageId": "sql"
    }
   },
   "outputs": [],
   "source": [
    "SELECT EmployeeID,\n",
    "      COALESCE(HourlyRate * 40,\n",
    "                WeeklySalary,\n",
    "                Commission * SalesQty) AS WeeklyEarnings\n",
    "FROM HR.Wages;"
   ]
  },
  {
   "attachments": {},
   "cell_type": "markdown",
   "metadata": {},
   "source": [
    "#### NULLIF\n",
    "La función NULLIF permite devolver NULL en determinadas condiciones. Esta función tiene aplicaciones útiles en áreas como la limpieza de datos, cuando desea reemplazar los caracteres en blanco o de marcador de posición por NULL.\n",
    "\n",
    "NULLIF toma dos argumentos y devuelve NULL si son equivalentes. Si no son iguales, NULLIF devuelve el primer argumento.\n",
    "\n",
    "En este ejemplo, NULLIF reemplaza un descuento de 0 por un valor NULL. Devuelve el valor de descuento si no es 0:"
   ]
  },
  {
   "cell_type": "code",
   "execution_count": null,
   "metadata": {
    "vscode": {
     "languageId": "sql"
    }
   },
   "outputs": [],
   "source": [
    "SELECT SalesOrderID,\n",
    "      ProductID,\n",
    "      UnitPrice,\n",
    "      NULLIF(UnitPriceDiscount, 0) AS Discount\n",
    "FROM Sales.SalesOrderDetail;"
   ]
  },
  {
   "cell_type": "code",
   "execution_count": null,
   "metadata": {
    "vscode": {
     "languageId": "sql"
    }
   },
   "outputs": [],
   "source": []
  },
  {
   "cell_type": "code",
   "execution_count": null,
   "metadata": {
    "vscode": {
     "languageId": "sql"
    }
   },
   "outputs": [],
   "source": []
  }
 ],
 "metadata": {
  "kernelspec": {
   "display_name": "Python 3",
   "language": "python",
   "name": "python3"
  },
  "language_info": {
   "codemirror_mode": {
    "name": "ipython",
    "version": 3
   },
   "file_extension": ".py",
   "mimetype": "text/x-python",
   "name": "python",
   "nbconvert_exporter": "python",
   "pygments_lexer": "ipython3",
   "version": "3.11.2"
  },
  "orig_nbformat": 4
 },
 "nbformat": 4,
 "nbformat_minor": 2
}
