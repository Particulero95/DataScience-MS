{
  "cells": [
    {
      "cell_type": "markdown",
      "source": [
        "# Exercise: Titanic Dataset - Visualising Different Types of Data\n",
        "\n",
        "To build better machine learning models we should understand the available data. This usually means both:\n",
        "\n",
        "1. data visualization\n",
        "\n",
        "2. understanding the kind of data we have available \n",
        "\n",
        "In this module, we'll practice cleaning our Titanic dataset, and visualization of different kinds of data, especially\n",
        "\n",
        "- continuous\n",
        "- ordinal\n",
        "- categorical\n",
        "- simple identity column\n",
        "\n",
        "data types.\n",
        "\n",
        "## A Note On Our Graphing\n",
        "\n",
        "In this exercise, we'll use a custom python script to create our graphs. This script uses Plotly, a well-known graphing library. \n",
        "\n",
        "This script will focus on data exploration, instead of a deep focus on Plotly. If you'd like to review this custom script, you can find it in our GitHub repository.\n",
        "\n",
        "## First Inspection\n",
        "\n",
        "Let's reload the Titanic Dataset, and reacquaint ourselves with its data:\n"
      ],
      "metadata": {}
    },
    {
      "cell_type": "code",
      "source": [
        "import pandas as pd\n",
        "\n",
        "# Load data from our dataset file into a pandas dataframe\n",
        "!wget https://raw.githubusercontent.com/MicrosoftDocs/mslearn-introduction-to-machine-learning/main/Data/titanic.csv\n",
        "!wget https://raw.githubusercontent.com/MicrosoftDocs/mslearn-introduction-to-machine-learning/main/graphing.py\n",
        "dataset = pd.read_csv('titanic.csv', index_col=False, sep=\",\", header=0)\n",
        "\n",
        "# Let's take a look at the data\n",
        "dataset.head()\n"
      ],
      "outputs": [
        {
          "output_type": "stream",
          "name": "stdout",
          "text": "--2023-03-28 14:55:02--  https://raw.githubusercontent.com/MicrosoftDocs/mslearn-introduction-to-machine-learning/main/Data/titanic.csv\nResolving raw.githubusercontent.com (raw.githubusercontent.com)... 185.199.109.133, 185.199.110.133, 185.199.111.133, ...\nConnecting to raw.githubusercontent.com (raw.githubusercontent.com)|185.199.109.133|:443... connected.\nHTTP request sent, awaiting response... 200 OK\nLength: 61194 (60K) [text/plain]\nSaving to: ‘titanic.csv’\n\ntitanic.csv         100%[===================>]  59.76K  --.-KB/s    in 0s      \n\n2023-03-28 14:55:02 (117 MB/s) - ‘titanic.csv’ saved [61194/61194]\n\n--2023-03-28 14:55:04--  https://raw.githubusercontent.com/MicrosoftDocs/mslearn-introduction-to-machine-learning/main/graphing.py\nResolving raw.githubusercontent.com (raw.githubusercontent.com)... 185.199.108.133, 185.199.111.133, 185.199.110.133, ...\nConnecting to raw.githubusercontent.com (raw.githubusercontent.com)|185.199.108.133|:443... connected.\nHTTP request sent, awaiting response... 200 OK\nLength: 21511 (21K) [text/plain]\nSaving to: ‘graphing.py’\n\ngraphing.py         100%[===================>]  21.01K  --.-KB/s    in 0.007s  \n\n2023-03-28 14:55:04 (3.10 MB/s) - ‘graphing.py’ saved [21511/21511]\n\n"
        },
        {
          "output_type": "execute_result",
          "execution_count": 1,
          "data": {
            "text/plain": "   PassengerId  Survived  Pclass  \\\n0            1         0       3   \n1            2         1       1   \n2            3         1       3   \n3            4         1       1   \n4            5         0       3   \n\n                                                Name     Sex   Age  SibSp  \\\n0                            Braund, Mr. Owen Harris    male  22.0      1   \n1  Cumings, Mrs. John Bradley (Florence Briggs Th...  female  38.0      1   \n2                             Heikkinen, Miss. Laina  female  26.0      0   \n3       Futrelle, Mrs. Jacques Heath (Lily May Peel)  female  35.0      1   \n4                           Allen, Mr. William Henry    male  35.0      0   \n\n   Parch            Ticket     Fare Cabin Embarked  \n0      0         A/5 21171   7.2500   NaN        S  \n1      0          PC 17599  71.2833   C85        C  \n2      0  STON/O2. 3101282   7.9250   NaN        S  \n3      0            113803  53.1000  C123        S  \n4      0            373450   8.0500   NaN        S  ",
            "text/html": "<div>\n<style scoped>\n    .dataframe tbody tr th:only-of-type {\n        vertical-align: middle;\n    }\n\n    .dataframe tbody tr th {\n        vertical-align: top;\n    }\n\n    .dataframe thead th {\n        text-align: right;\n    }\n</style>\n<table border=\"1\" class=\"dataframe\">\n  <thead>\n    <tr style=\"text-align: right;\">\n      <th></th>\n      <th>PassengerId</th>\n      <th>Survived</th>\n      <th>Pclass</th>\n      <th>Name</th>\n      <th>Sex</th>\n      <th>Age</th>\n      <th>SibSp</th>\n      <th>Parch</th>\n      <th>Ticket</th>\n      <th>Fare</th>\n      <th>Cabin</th>\n      <th>Embarked</th>\n    </tr>\n  </thead>\n  <tbody>\n    <tr>\n      <th>0</th>\n      <td>1</td>\n      <td>0</td>\n      <td>3</td>\n      <td>Braund, Mr. Owen Harris</td>\n      <td>male</td>\n      <td>22.0</td>\n      <td>1</td>\n      <td>0</td>\n      <td>A/5 21171</td>\n      <td>7.2500</td>\n      <td>NaN</td>\n      <td>S</td>\n    </tr>\n    <tr>\n      <th>1</th>\n      <td>2</td>\n      <td>1</td>\n      <td>1</td>\n      <td>Cumings, Mrs. John Bradley (Florence Briggs Th...</td>\n      <td>female</td>\n      <td>38.0</td>\n      <td>1</td>\n      <td>0</td>\n      <td>PC 17599</td>\n      <td>71.2833</td>\n      <td>C85</td>\n      <td>C</td>\n    </tr>\n    <tr>\n      <th>2</th>\n      <td>3</td>\n      <td>1</td>\n      <td>3</td>\n      <td>Heikkinen, Miss. Laina</td>\n      <td>female</td>\n      <td>26.0</td>\n      <td>0</td>\n      <td>0</td>\n      <td>STON/O2. 3101282</td>\n      <td>7.9250</td>\n      <td>NaN</td>\n      <td>S</td>\n    </tr>\n    <tr>\n      <th>3</th>\n      <td>4</td>\n      <td>1</td>\n      <td>1</td>\n      <td>Futrelle, Mrs. Jacques Heath (Lily May Peel)</td>\n      <td>female</td>\n      <td>35.0</td>\n      <td>1</td>\n      <td>0</td>\n      <td>113803</td>\n      <td>53.1000</td>\n      <td>C123</td>\n      <td>S</td>\n    </tr>\n    <tr>\n      <th>4</th>\n      <td>5</td>\n      <td>0</td>\n      <td>3</td>\n      <td>Allen, Mr. William Henry</td>\n      <td>male</td>\n      <td>35.0</td>\n      <td>0</td>\n      <td>0</td>\n      <td>373450</td>\n      <td>8.0500</td>\n      <td>NaN</td>\n      <td>S</td>\n    </tr>\n  </tbody>\n</table>\n</div>"
          },
          "metadata": {}
        }
      ],
      "execution_count": 1,
      "metadata": {
        "gather": {
          "logged": 1677521763687
        }
      }
    },
    {
      "cell_type": "markdown",
      "source": [
        "Take a careful look at the columns, and try to identify those columns holding continuous, ordinal, categorical, or identity data.\n",
        "\n",
        "We can display a brief summary of the _dataypes_ with panda's `info()` method:"
      ],
      "metadata": {}
    },
    {
      "cell_type": "code",
      "source": [
        "dataset.info()"
      ],
      "outputs": [
        {
          "output_type": "stream",
          "name": "stdout",
          "text": "<class 'pandas.core.frame.DataFrame'>\nRangeIndex: 891 entries, 0 to 890\nData columns (total 12 columns):\n #   Column       Non-Null Count  Dtype  \n---  ------       --------------  -----  \n 0   PassengerId  891 non-null    int64  \n 1   Survived     891 non-null    int64  \n 2   Pclass       891 non-null    int64  \n 3   Name         891 non-null    object \n 4   Sex          891 non-null    object \n 5   Age          714 non-null    float64\n 6   SibSp        891 non-null    int64  \n 7   Parch        891 non-null    int64  \n 8   Ticket       891 non-null    object \n 9   Fare         891 non-null    float64\n 10  Cabin        204 non-null    object \n 11  Embarked     889 non-null    object \ndtypes: float64(2), int64(5), object(5)\nmemory usage: 83.7+ KB\n"
        }
      ],
      "execution_count": 2,
      "metadata": {
        "gather": {
          "logged": 1677522886899
        }
      }
    },
    {
      "cell_type": "markdown",
      "source": [
        "We can see several columns stored as numerical data (the `int64` or `float64` types), while others contain more complex data types (those with `object` as Dtype)\n",
        "\n",
        "## Visualising Ordinal Data\n",
        "\n",
        "Let's visualize some ordinal data. We have available:\n",
        "\n",
        "1. `Pclass` - the ticket class\n",
        "2. `Parch` - the number of parents or children on the ship\n",
        "3. `sibsp` - the number of siblings or spouses on the ship\n",
        "\n",
        "We can view ordinal data with almost any kind of graph. We'll start with a simple histogram that describes relationships between the ticket class and the likelihood of survival."
      ],
      "metadata": {}
    },
    {
      "cell_type": "code",
      "source": [
        "import graphing\n",
        "\n",
        "graphing.histogram(dataset, label_x='Pclass', label_y='Survived', histfunc='avg', include_boxplot=True)\n"
      ],
      "outputs": [],
      "execution_count": 3,
      "metadata": {
        "gather": {
          "logged": 1677523084411
        }
      }
    },
    {
      "cell_type": "markdown",
      "source": [
        "The box and whisker plot (top) shows that at least half the people had third-class tickets - note how the median and maximum of the plot both sit at `Pclass = 3`.\n",
        "\n",
        "The histogram shows that people in second and third class tended not to survive the wreck.\n",
        "\n",
        "Let's look at how survival varies, depending on whether a passenger had parents or children on the ship"
      ],
      "metadata": {}
    },
    {
      "cell_type": "code",
      "source": [
        "graphing.multiple_histogram(dataset, \n",
        "                            label_x='Pclass', # group by ticket class\n",
        "                            label_group=\"Parch\", # colour by no parents or children\n",
        "                            label_y='Survived', \n",
        "                            histfunc=\"avg\")"
      ],
      "outputs": [],
      "execution_count": null,
      "metadata": {
        "gather": {
          "logged": 1677523140454
        }
      }
    },
    {
      "cell_type": "markdown",
      "source": [
        "For first and second class ticket holders, people in larger family groups appear to have had better rates of survival. However, this doesn't seem to be the case for third class passengers.\n",
        "\n",
        "Lastly, let's see if those with different ticket types tended to be in different sized families. For data spread analysis, a box and whisker is a nice alternative to histograms.\n"
      ],
      "metadata": {}
    },
    {
      "cell_type": "code",
      "source": [
        "graphing.box_and_whisker(dataset, label_x=\"Pclass\", label_y=\"SibSp\")"
      ],
      "outputs": [],
      "execution_count": null,
      "metadata": {
        "gather": {
          "logged": 1677523183391
        }
      }
    },
    {
      "cell_type": "markdown",
      "source": [
        "Most values are zero. This shows that most people traveled without siblings and without a partner. There are no obvious differences in this value between the different ticket classes.\n",
        "\n",
        "## Visualising Continuous Data\n",
        "\n",
        "_Continuous_ data are usually best viewed using either:\n",
        "\n",
        "1. An XY scatter plot, especially for relationships between two continuous features\n",
        "2. Histograms or Box and Whisker plots, to look at the spread of data\n",
        "\n",
        "Our dataset has `Age` and `Fare` as continuous data columns. Let's view them:"
      ],
      "metadata": {}
    },
    {
      "cell_type": "code",
      "source": [
        "graphing.scatter_2D(dataset, label_x=\"Age\", label_y=\"Fare\")"
      ],
      "outputs": [],
      "execution_count": null,
      "metadata": {
        "gather": {
          "logged": 1677523739340
        }
      }
    },
    {
      "cell_type": "markdown",
      "source": [
        "We don't see an obvious relationship between `Age` and `Fare`. \n",
        "\n",
        "Does the cost of a fare, or the person's age, have any relationship with likelihood of survival?"
      ],
      "metadata": {}
    },
    {
      "cell_type": "code",
      "source": [
        "# Plot Fare vs Survival\n",
        "graphing.histogram(dataset, label_x=\"Fare\", label_y=\"Survived\", histfunc=\"avg\", nbins=30, title=\"Fare vs Survival\", include_boxplot=True, show=True)\n",
        "\n",
        "# Plot Age vs Survival\n",
        "graphing.histogram(dataset, label_x=\"Age\", label_y=\"Survived\", histfunc=\"avg\", title=\"Age vs Survival\", nbins=30, include_boxplot=True)\n"
      ],
      "outputs": [],
      "execution_count": null,
      "metadata": {
        "gather": {
          "logged": 1677523768533
        }
      }
    },
    {
      "cell_type": "markdown",
      "source": [
        "The boxplot (top) of the first figure shows us that most people held tickets that cost less than £25, and the histogram shows us that people with more expensive tickets tended to survive.\n",
        "\n",
        "Our second figure indicates passengers were about 30 years old on average, and that most children under 10 years old survived, unlike most adults.\n",
        "\n",
        "\n",
        "## Visualising Categorical Data\n",
        "\n",
        "Our Titanic dataset has the following _categorical_ columns:\n",
        "* `Sex` (Male, Female)\n",
        "* `Embarked` - the port of ambarkation (C, Q, or S)\n",
        "* `Cabin` (many options)\n",
        "* `Survival` (0 = no, 1 = yes)\n",
        "\n",
        "Categorical data are usually viewable in a similar way to ordinal data, but with data viewed as order-less groups. Alternatively, categories appear as colors, or groups, in other kinds of plots.\n",
        "\n",
        "Plotting categorical data against other categorical data shows how data is clustered. This is little more than a colored table. Let's do this now:"
      ],
      "metadata": {}
    },
    {
      "cell_type": "code",
      "source": [
        "import plotly.graph_objects as go\n",
        "import numpy as np\n",
        "\n",
        "# Create some simple functions\n",
        "# Read their descriptions to find out more \n",
        "def get_rows(sex, port):\n",
        "    '''Returns rows that match in terms of sex and embarkment port'''\n",
        "    return dataset[(dataset.Embarked == port) & (dataset.Sex == sex)]\n",
        "\n",
        "def proportion_survived(sex, port):\n",
        "    '''Returns the proportion of people meeting criteria who survived'''\n",
        "    survived = get_rows(sex, port).Survived\n",
        "    return np.mean(survived)\n",
        "\n",
        "# Make two columns of data - together these represent each combination\n",
        "# of sex and embarkment port\n",
        "sexes = [\"male\", \"male\", \"male\", \"female\",\"female\", \"female\"]\n",
        "ports = [\"C\", \"Q\", \"S\" ] * 2\n",
        "\n",
        "# Calculate the number of passengers at each port + sex combination\n",
        "passenger_count = [len(get_rows(sex, port)) for sex,port in zip(sexes, ports)]\n",
        "\n",
        "# Calculate the proportion of passengers from each port + sex combination who survived\n",
        "passenger_survival = [proportion_survived(sex, port) for sex,port in zip(sexes, ports)]\n",
        "\n",
        "# Combine into a single data frame\n",
        "table = pd.DataFrame(dict(\n",
        "    sex=sexes,\n",
        "    port=ports,\n",
        "    passenger_count=passenger_count,\n",
        "    passenger_survival_rate=passenger_survival\n",
        "))\n",
        "\n",
        "# Make a bubble plot\n",
        "# This is just a scatter plot but each entry in the plot \n",
        "# has a size and colour. We set colour to passenger_survival \n",
        "# and size to the number of passengers \n",
        "graphing.scatter_2D(table, \n",
        "                    label_colour=\"passenger_survival_rate\", \n",
        "                    label_size=\"passenger_count\", \n",
        "                    size_multiplier=0.3,\n",
        "                    title=\"Bubble Plot of Categorical Data\")"
      ],
      "outputs": [],
      "execution_count": null,
      "metadata": {
        "gather": {
          "logged": 1677523888702
        }
      }
    },
    {
      "cell_type": "markdown",
      "source": [
        "It appears that women have a much higher survival rate than men, but there were more men on the ship. \n",
        "\n",
        "We can also see that most people boarded at Port `S` (\"Southampton\"). It does seem that there is a weak relationship between the port of boarding and survival.\n",
        "\n",
        "## Summary\n",
        "\n",
        "You've learned about different types of data, and you practiced data exploration through graphs.\n",
        "\n",
        "Through these, we've discovered that some features are related to others, and that many features seem to influence the survival rate."
      ],
      "metadata": {}
    }
  ],
  "metadata": {
    "kernel_info": {
      "name": "conda-env-azureml_py38-py"
    },
    "kernelspec": {
      "name": "conda-env-azureml_py38-py",
      "language": "python",
      "display_name": "azureml_py38"
    },
    "language_info": {
      "name": "python",
      "version": "3.8.5",
      "mimetype": "text/x-python",
      "codemirror_mode": {
        "name": "ipython",
        "version": 3
      },
      "pygments_lexer": "ipython3",
      "nbconvert_exporter": "python",
      "file_extension": ".py"
    },
    "microsoft": {
      "ms_spell_check": {
        "ms_spell_check_language": "en"
      }
    },
    "nteract": {
      "version": "nteract-front-end@1.0.0"
    },
    "vscode": {
      "interpreter": {
        "hash": "d986dcce87f8efbe64f9555c9767535f3ea76b09442c50f327a793e0b4903fbe"
      }
    }
  },
  "nbformat": 4,
  "nbformat_minor": 2
}