{
  "cells": [
    {
      "cell_type": "markdown",
      "source": [
        "# Exercise: Good and Bad ROC curves\n",
        "\n",
        "In this exercise, we will make some ROC curves to explain what good and bad ROC curves might look like.\n",
        "\n",
        "The goal of our models is to identify whether each item detected on the mountain is a hiker (`true`) or a tree (`false`). Let's take a look at the dataset."
      ],
      "metadata": {}
    },
    {
      "cell_type": "code",
      "source": [
        "import numpy\n",
        "import pandas\n",
        "!pip install statsmodels\n",
        "!wget https://raw.githubusercontent.com/MicrosoftDocs/mslearn-introduction-to-machine-learning/main/graphing.py\n",
        "!wget https://raw.githubusercontent.com/MicrosoftDocs/mslearn-introduction-to-machine-learning/main/Data/hiker_or_tree.csv\n",
        "import graphing # custom graphing code. See our GitHub repo for details\n",
        "import sklearn.model_selection\n",
        "\n",
        "# Load our data from disk\n",
        "df = pandas.read_csv(\"hiker_or_tree.csv\", delimiter=\"\\t\")\n",
        "\n",
        "# Split into train and test\n",
        "train, test =  sklearn.model_selection.train_test_split(df, test_size=0.5, random_state=1)\n",
        "\n",
        "# Graph our three features\n",
        "graphing.histogram(test, label_x=\"height\", label_colour=\"is_hiker\", show=True)\n",
        "graphing.multiple_histogram(test, label_x=\"motion\", label_group=\"is_hiker\", nbins=12, show=True)\n",
        "graphing.multiple_histogram(test, label_x=\"texture\", label_group=\"is_hiker\", nbins=12)"
      ],
      "outputs": [
        {
          "output_type": "stream",
          "name": "stdout",
          "text": "Collecting statsmodels\n  Downloading statsmodels-0.13.5-cp38-cp38-manylinux_2_17_x86_64.manylinux2014_x86_64.whl (9.9 MB)\n\u001b[2K     \u001b[90m━━━━━━━━━━━━━━━━━━━━━━━━━━━━━━━━━━━━━━━━\u001b[0m \u001b[32m9.9/9.9 MB\u001b[0m \u001b[31m26.2 MB/s\u001b[0m eta \u001b[36m0:00:00\u001b[0m00:01\u001b[0m00:01\u001b[0m\n\u001b[?25hRequirement already satisfied: scipy>=1.3 in /anaconda/envs/py38_default/lib/python3.8/site-packages (from statsmodels) (1.7.3)\nRequirement already satisfied: numpy>=1.17 in /anaconda/envs/py38_default/lib/python3.8/site-packages (from statsmodels) (1.23.3)\nRequirement already satisfied: packaging>=21.3 in /anaconda/envs/py38_default/lib/python3.8/site-packages (from statsmodels) (21.3)\nRequirement already satisfied: pandas>=0.25 in /anaconda/envs/py38_default/lib/python3.8/site-packages (from statsmodels) (1.4.3)\nCollecting patsy>=0.5.2\n  Downloading patsy-0.5.3-py2.py3-none-any.whl (233 kB)\n\u001b[2K     \u001b[90m━━━━━━━━━━━━━━━━━━━━━━━━━━━━━━━━━━━━━━━\u001b[0m \u001b[32m233.8/233.8 kB\u001b[0m \u001b[31m4.5 MB/s\u001b[0m eta \u001b[36m0:00:00\u001b[0ma \u001b[36m0:00:01\u001b[0m\n\u001b[?25hRequirement already satisfied: pyparsing!=3.0.5,>=2.0.2 in /anaconda/envs/py38_default/lib/python3.8/site-packages (from packaging>=21.3->statsmodels) (3.0.9)\nRequirement already satisfied: python-dateutil>=2.8.1 in /anaconda/envs/py38_default/lib/python3.8/site-packages (from pandas>=0.25->statsmodels) (2.8.2)\nRequirement already satisfied: pytz>=2020.1 in /anaconda/envs/py38_default/lib/python3.8/site-packages (from pandas>=0.25->statsmodels) (2022.1)\nRequirement already satisfied: six in /anaconda/envs/py38_default/lib/python3.8/site-packages (from patsy>=0.5.2->statsmodels) (1.16.0)\nCollecting numpy>=1.17\n  Downloading numpy-1.22.4-cp38-cp38-manylinux_2_17_x86_64.manylinux2014_x86_64.whl (16.9 MB)\n\u001b[2K     \u001b[90m━━━━━━━━━━━━━━━━━━━━━━━━━━━━━━━━━━━━━━━━\u001b[0m \u001b[32m16.9/16.9 MB\u001b[0m \u001b[31m19.8 MB/s\u001b[0m eta \u001b[36m0:00:00\u001b[0m00:01\u001b[0m00:01\u001b[0m\n\u001b[?25hInstalling collected packages: numpy, patsy, statsmodels\n  Attempting uninstall: numpy\n    Found existing installation: numpy 1.23.3\n    Uninstalling numpy-1.23.3:\n      Successfully uninstalled numpy-1.23.3\n\u001b[31mERROR: pip's dependency resolver does not currently take into account all the packages that are installed. This behaviour is the source of the following dependency conflicts.\nfbprophet 0.7.1 requires cmdstanpy==0.9.5, which is not installed.\nfbprophet 0.7.1 requires setuptools-git>=1.2, which is not installed.\ntf2onnx 1.12.0 requires flatbuffers~=1.12, but you have flatbuffers 2.0.7 which is incompatible.\u001b[0m\u001b[31m\n\u001b[0mSuccessfully installed numpy-1.22.4 patsy-0.5.3 statsmodels-0.13.5\n\n\u001b[1m[\u001b[0m\u001b[34;49mnotice\u001b[0m\u001b[1;39;49m]\u001b[0m\u001b[39;49m A new release of pip available: \u001b[0m\u001b[31;49m22.2.2\u001b[0m\u001b[39;49m -> \u001b[0m\u001b[32;49m23.0.1\u001b[0m\n\u001b[1m[\u001b[0m\u001b[34;49mnotice\u001b[0m\u001b[1;39;49m]\u001b[0m\u001b[39;49m To update, run: \u001b[0m\u001b[32;49mpip install --upgrade pip\u001b[0m\n--2023-03-27 15:35:16--  https://raw.githubusercontent.com/MicrosoftDocs/mslearn-introduction-to-machine-learning/main/graphing.py\nResolving raw.githubusercontent.com (raw.githubusercontent.com)... 185.199.110.133, 185.199.111.133, 185.199.108.133, ...\nConnecting to raw.githubusercontent.com (raw.githubusercontent.com)|185.199.110.133|:443... connected.\nHTTP request sent, awaiting response... 200 OK\nLength: 21511 (21K) [text/plain]\nSaving to: ‘graphing.py’\n\ngraphing.py         100%[===================>]  21.01K  --.-KB/s    in 0.001s  \n\n2023-03-27 15:35:16 (38.4 MB/s) - ‘graphing.py’ saved [21511/21511]\n\n--2023-03-27 15:35:17--  https://raw.githubusercontent.com/MicrosoftDocs/mslearn-introduction-to-machine-learning/main/Data/hiker_or_tree.csv\nResolving raw.githubusercontent.com (raw.githubusercontent.com)... 185.199.109.133, 185.199.108.133, 185.199.111.133, ...\nConnecting to raw.githubusercontent.com (raw.githubusercontent.com)|185.199.109.133|:443... connected.\nHTTP request sent, awaiting response... 200 OK\nLength: 57257 (56K) [text/plain]\nSaving to: ‘hiker_or_tree.csv’\n\nhiker_or_tree.csv   100%[===================>]  55.92K  --.-KB/s    in 0.001s  \n\n2023-03-27 15:35:17 (61.9 MB/s) - ‘hiker_or_tree.csv’ saved [57257/57257]\n\n"
        },
        {
          "output_type": "stream",
          "name": "stderr",
          "text": "/anaconda/envs/py38_default/lib/python3.8/site-packages/scipy/__init__.py:146: UserWarning: A NumPy version >=1.16.5 and <1.23.0 is required for this version of SciPy (detected version 1.23.3\n  warnings.warn(f\"A NumPy version >={np_minversion} and <{np_maxversion}\"\n"
        },
        {
          "output_type": "error",
          "ename": "AttributeError",
          "evalue": "module 'dask.array' has no attribute 'lib'",
          "traceback": [
            "\u001b[0;31m---------------------------------------------------------------------------\u001b[0m",
            "\u001b[0;31mAttributeError\u001b[0m                            Traceback (most recent call last)",
            "Input \u001b[0;32mIn [1]\u001b[0m, in \u001b[0;36m<cell line: 6>\u001b[0;34m()\u001b[0m\n\u001b[1;32m      4\u001b[0m get_ipython()\u001b[38;5;241m.\u001b[39msystem(\u001b[38;5;124m'\u001b[39m\u001b[38;5;124mwget https://raw.githubusercontent.com/MicrosoftDocs/mslearn-introduction-to-machine-learning/main/graphing.py\u001b[39m\u001b[38;5;124m'\u001b[39m)\n\u001b[1;32m      5\u001b[0m get_ipython()\u001b[38;5;241m.\u001b[39msystem(\u001b[38;5;124m'\u001b[39m\u001b[38;5;124mwget https://raw.githubusercontent.com/MicrosoftDocs/mslearn-introduction-to-machine-learning/main/Data/hiker_or_tree.csv\u001b[39m\u001b[38;5;124m'\u001b[39m)\n\u001b[0;32m----> 6\u001b[0m \u001b[38;5;28;01mimport\u001b[39;00m \u001b[38;5;21;01mgraphing\u001b[39;00m \u001b[38;5;66;03m# custom graphing code. See our GitHub repo for details\u001b[39;00m\n\u001b[1;32m      7\u001b[0m \u001b[38;5;28;01mimport\u001b[39;00m \u001b[38;5;21;01msklearn\u001b[39;00m\u001b[38;5;21;01m.\u001b[39;00m\u001b[38;5;21;01mmodel_selection\u001b[39;00m\n\u001b[1;32m      9\u001b[0m \u001b[38;5;66;03m# Load our data from disk\u001b[39;00m\n",
            "File \u001b[0;32m/learn/graphing.py:9\u001b[0m, in \u001b[0;36m<module>\u001b[0;34m\u001b[0m\n\u001b[1;32m      7\u001b[0m \u001b[38;5;28;01mfrom\u001b[39;00m \u001b[38;5;21;01mnumpy\u001b[39;00m\u001b[38;5;21;01m.\u001b[39;00m\u001b[38;5;21;01mcore\u001b[39;00m\u001b[38;5;21;01m.\u001b[39;00m\u001b[38;5;21;01mfromnumeric\u001b[39;00m \u001b[38;5;28;01mimport\u001b[39;00m repeat, shape\n\u001b[1;32m      8\u001b[0m \u001b[38;5;28;01mimport\u001b[39;00m \u001b[38;5;21;01mpandas\u001b[39;00m\n\u001b[0;32m----> 9\u001b[0m \u001b[38;5;28;01mimport\u001b[39;00m \u001b[38;5;21;01mplotly\u001b[39;00m\u001b[38;5;21;01m.\u001b[39;00m\u001b[38;5;21;01mexpress\u001b[39;00m \u001b[38;5;28;01mas\u001b[39;00m \u001b[38;5;21;01mpx\u001b[39;00m\n\u001b[1;32m     10\u001b[0m \u001b[38;5;28;01mimport\u001b[39;00m \u001b[38;5;21;01mplotly\u001b[39;00m\u001b[38;5;21;01m.\u001b[39;00m\u001b[38;5;21;01mio\u001b[39;00m \u001b[38;5;28;01mas\u001b[39;00m \u001b[38;5;21;01mpio\u001b[39;00m\n\u001b[1;32m     11\u001b[0m \u001b[38;5;28;01mimport\u001b[39;00m \u001b[38;5;21;01mplotly\u001b[39;00m\u001b[38;5;21;01m.\u001b[39;00m\u001b[38;5;21;01mgraph_objects\u001b[39;00m \u001b[38;5;28;01mas\u001b[39;00m \u001b[38;5;21;01mgraph_objects\u001b[39;00m\n",
            "File \u001b[0;32m/anaconda/envs/py38_default/lib/python3.8/site-packages/plotly/express/__init__.py:15\u001b[0m, in \u001b[0;36m<module>\u001b[0;34m\u001b[0m\n\u001b[1;32m      9\u001b[0m \u001b[38;5;28;01mif\u001b[39;00m pd \u001b[38;5;129;01mis\u001b[39;00m \u001b[38;5;28;01mNone\u001b[39;00m:\n\u001b[1;32m     10\u001b[0m     \u001b[38;5;28;01mraise\u001b[39;00m \u001b[38;5;167;01mImportError\u001b[39;00m(\n\u001b[1;32m     11\u001b[0m         \u001b[38;5;124;03m\"\"\"\\\u001b[39;00m\n\u001b[1;32m     12\u001b[0m \u001b[38;5;124;03mPlotly express requires pandas to be installed.\"\"\"\u001b[39;00m\n\u001b[1;32m     13\u001b[0m     )\n\u001b[0;32m---> 15\u001b[0m \u001b[38;5;28;01mfrom\u001b[39;00m \u001b[38;5;21;01m.\u001b[39;00m\u001b[38;5;21;01m_imshow\u001b[39;00m \u001b[38;5;28;01mimport\u001b[39;00m imshow\n\u001b[1;32m     16\u001b[0m \u001b[38;5;28;01mfrom\u001b[39;00m \u001b[38;5;21;01m.\u001b[39;00m\u001b[38;5;21;01m_chart_types\u001b[39;00m \u001b[38;5;28;01mimport\u001b[39;00m (  \u001b[38;5;66;03m# noqa: F401\u001b[39;00m\n\u001b[1;32m     17\u001b[0m     scatter,\n\u001b[1;32m     18\u001b[0m     scatter_3d,\n\u001b[0;32m   (...)\u001b[0m\n\u001b[1;32m     51\u001b[0m     density_mapbox,\n\u001b[1;32m     52\u001b[0m )\n\u001b[1;32m     55\u001b[0m \u001b[38;5;28;01mfrom\u001b[39;00m \u001b[38;5;21;01m.\u001b[39;00m\u001b[38;5;21;01m_core\u001b[39;00m \u001b[38;5;28;01mimport\u001b[39;00m (  \u001b[38;5;66;03m# noqa: F401\u001b[39;00m\n\u001b[1;32m     56\u001b[0m     set_mapbox_access_token,\n\u001b[1;32m     57\u001b[0m     defaults,\n\u001b[1;32m     58\u001b[0m     get_trendline_results,\n\u001b[1;32m     59\u001b[0m     NO_COLOR,\n\u001b[1;32m     60\u001b[0m )\n",
            "File \u001b[0;32m/anaconda/envs/py38_default/lib/python3.8/site-packages/plotly/express/_imshow.py:11\u001b[0m, in \u001b[0;36m<module>\u001b[0;34m\u001b[0m\n\u001b[1;32m      8\u001b[0m \u001b[38;5;28;01mfrom\u001b[39;00m \u001b[38;5;21;01mplotly\u001b[39;00m\u001b[38;5;21;01m.\u001b[39;00m\u001b[38;5;21;01mutils\u001b[39;00m \u001b[38;5;28;01mimport\u001b[39;00m image_array_to_data_uri\n\u001b[1;32m     10\u001b[0m \u001b[38;5;28;01mtry\u001b[39;00m:\n\u001b[0;32m---> 11\u001b[0m     \u001b[38;5;28;01mimport\u001b[39;00m \u001b[38;5;21;01mxarray\u001b[39;00m\n\u001b[1;32m     13\u001b[0m     xarray_imported \u001b[38;5;241m=\u001b[39m \u001b[38;5;28;01mTrue\u001b[39;00m\n\u001b[1;32m     14\u001b[0m \u001b[38;5;28;01mexcept\u001b[39;00m \u001b[38;5;167;01mImportError\u001b[39;00m:\n",
            "File \u001b[0;32m/anaconda/envs/py38_default/lib/python3.8/site-packages/xarray/__init__.py:1\u001b[0m, in \u001b[0;36m<module>\u001b[0;34m\u001b[0m\n\u001b[0;32m----> 1\u001b[0m \u001b[38;5;28;01mfrom\u001b[39;00m \u001b[38;5;21;01m.\u001b[39;00m \u001b[38;5;28;01mimport\u001b[39;00m testing, tutorial\n\u001b[1;32m      2\u001b[0m \u001b[38;5;28;01mfrom\u001b[39;00m \u001b[38;5;21;01m.\u001b[39;00m\u001b[38;5;21;01mbackends\u001b[39;00m\u001b[38;5;21;01m.\u001b[39;00m\u001b[38;5;21;01mapi\u001b[39;00m \u001b[38;5;28;01mimport\u001b[39;00m (\n\u001b[1;32m      3\u001b[0m     load_dataarray,\n\u001b[1;32m      4\u001b[0m     load_dataset,\n\u001b[0;32m   (...)\u001b[0m\n\u001b[1;32m      8\u001b[0m     save_mfdataset,\n\u001b[1;32m      9\u001b[0m )\n\u001b[1;32m     10\u001b[0m \u001b[38;5;28;01mfrom\u001b[39;00m \u001b[38;5;21;01m.\u001b[39;00m\u001b[38;5;21;01mbackends\u001b[39;00m\u001b[38;5;21;01m.\u001b[39;00m\u001b[38;5;21;01mrasterio_\u001b[39;00m \u001b[38;5;28;01mimport\u001b[39;00m open_rasterio\n",
            "File \u001b[0;32m/anaconda/envs/py38_default/lib/python3.8/site-packages/xarray/testing.py:9\u001b[0m, in \u001b[0;36m<module>\u001b[0;34m\u001b[0m\n\u001b[1;32m      6\u001b[0m \u001b[38;5;28;01mimport\u001b[39;00m \u001b[38;5;21;01mnumpy\u001b[39;00m \u001b[38;5;28;01mas\u001b[39;00m \u001b[38;5;21;01mnp\u001b[39;00m\n\u001b[1;32m      7\u001b[0m \u001b[38;5;28;01mimport\u001b[39;00m \u001b[38;5;21;01mpandas\u001b[39;00m \u001b[38;5;28;01mas\u001b[39;00m \u001b[38;5;21;01mpd\u001b[39;00m\n\u001b[0;32m----> 9\u001b[0m \u001b[38;5;28;01mfrom\u001b[39;00m \u001b[38;5;21;01mxarray\u001b[39;00m\u001b[38;5;21;01m.\u001b[39;00m\u001b[38;5;21;01mcore\u001b[39;00m \u001b[38;5;28;01mimport\u001b[39;00m duck_array_ops, formatting, utils\n\u001b[1;32m     10\u001b[0m \u001b[38;5;28;01mfrom\u001b[39;00m \u001b[38;5;21;01mxarray\u001b[39;00m\u001b[38;5;21;01m.\u001b[39;00m\u001b[38;5;21;01mcore\u001b[39;00m\u001b[38;5;21;01m.\u001b[39;00m\u001b[38;5;21;01mdataarray\u001b[39;00m \u001b[38;5;28;01mimport\u001b[39;00m DataArray\n\u001b[1;32m     11\u001b[0m \u001b[38;5;28;01mfrom\u001b[39;00m \u001b[38;5;21;01mxarray\u001b[39;00m\u001b[38;5;21;01m.\u001b[39;00m\u001b[38;5;21;01mcore\u001b[39;00m\u001b[38;5;21;01m.\u001b[39;00m\u001b[38;5;21;01mdataset\u001b[39;00m \u001b[38;5;28;01mimport\u001b[39;00m Dataset\n",
            "File \u001b[0;32m/anaconda/envs/py38_default/lib/python3.8/site-packages/xarray/core/duck_array_ops.py:26\u001b[0m, in \u001b[0;36m<module>\u001b[0;34m\u001b[0m\n\u001b[1;32m     23\u001b[0m \u001b[38;5;28;01mfrom\u001b[39;00m \u001b[38;5;21;01mnumpy\u001b[39;00m \u001b[38;5;28;01mimport\u001b[39;00m take, tensordot, transpose, unravel_index  \u001b[38;5;66;03m# noqa\u001b[39;00m\n\u001b[1;32m     24\u001b[0m \u001b[38;5;28;01mfrom\u001b[39;00m \u001b[38;5;21;01mnumpy\u001b[39;00m \u001b[38;5;28;01mimport\u001b[39;00m where \u001b[38;5;28;01mas\u001b[39;00m _where\n\u001b[0;32m---> 26\u001b[0m \u001b[38;5;28;01mfrom\u001b[39;00m \u001b[38;5;21;01m.\u001b[39;00m \u001b[38;5;28;01mimport\u001b[39;00m dask_array_compat, dask_array_ops, dtypes, npcompat, nputils\n\u001b[1;32m     27\u001b[0m \u001b[38;5;28;01mfrom\u001b[39;00m \u001b[38;5;21;01m.\u001b[39;00m\u001b[38;5;21;01mnputils\u001b[39;00m \u001b[38;5;28;01mimport\u001b[39;00m nanfirst, nanlast\n\u001b[1;32m     28\u001b[0m \u001b[38;5;28;01mfrom\u001b[39;00m \u001b[38;5;21;01m.\u001b[39;00m\u001b[38;5;21;01mpycompat\u001b[39;00m \u001b[38;5;28;01mimport\u001b[39;00m cupy_array_type, dask_array_type, is_duck_dask_array\n",
            "File \u001b[0;32m/anaconda/envs/py38_default/lib/python3.8/site-packages/xarray/core/dask_array_compat.py:60\u001b[0m, in \u001b[0;36m<module>\u001b[0;34m\u001b[0m\n\u001b[1;32m     56\u001b[0m     \u001b[38;5;28;01mreturn\u001b[39;00m padded\n\u001b[1;32m     59\u001b[0m \u001b[38;5;28;01mif\u001b[39;00m da \u001b[38;5;129;01mis\u001b[39;00m \u001b[38;5;129;01mnot\u001b[39;00m \u001b[38;5;28;01mNone\u001b[39;00m:\n\u001b[0;32m---> 60\u001b[0m     sliding_window_view \u001b[38;5;241m=\u001b[39m \u001b[43mda\u001b[49m\u001b[38;5;241;43m.\u001b[39;49m\u001b[43mlib\u001b[49m\u001b[38;5;241m.\u001b[39mstride_tricks\u001b[38;5;241m.\u001b[39msliding_window_view\n\u001b[1;32m     61\u001b[0m \u001b[38;5;28;01melse\u001b[39;00m:\n\u001b[1;32m     62\u001b[0m     sliding_window_view \u001b[38;5;241m=\u001b[39m \u001b[38;5;28;01mNone\u001b[39;00m\n",
            "\u001b[0;31mAttributeError\u001b[0m: module 'dask.array' has no attribute 'lib'"
          ]
        }
      ],
      "execution_count": 1,
      "metadata": {}
    },
    {
      "cell_type": "markdown",
      "source": [
        "We have three visual features - `height`, `motion`, and `texture`. Our goal here is not to optimize a model, but to explore ROC curves, so we'll work with just one at a time.\n",
        "\n",
        "Before diving into it, take a look at the distributions above. We can see that we should be able to use height to separate hikers from trees quite easily. Motion will be slightly more difficult, presumably because trees blow in the wind, and some hikers are found sitting down. Texture seems much the same for hikers and trees.\n",
        "\n",
        "## A perfect model\n",
        "What would a perfect ROC look like? If we had a perfectly designed model, it would calculate \"0% chance of hiker\" when it saw any tree and \"100% of hiker\" when it saw any hiker. This means that, so long as the decision threshold was > 0% and < 100%, it would have perfect performance. Between these thresholds, the true positive rate would always be 1, and the false positive rate would always be 0. \n",
        "\n",
        "Don't worry about the thresholds of exactly 0 and 1 (100%). At 0 we are forcing a model to return a False value and at 1 we are forcing it to return True.\n",
        "\n",
        "It's almost impossible to train a model that is so perfect, but for the sake of learning, let's pretend we have done so, predicting the `is_hiker` label based on `height`."
      ],
      "metadata": {}
    },
    {
      "cell_type": "code",
      "source": [
        "import statsmodels.api\n",
        "\n",
        "# Create a fake model that is perfect at predicting labels\n",
        "class PerfectModel:\n",
        "    def predict(self, x):\n",
        "        # The perfect model believes that hikers are all\n",
        "        # under 4m tall\n",
        "        return 1 / (1 + numpy.exp(80*(x - 4)))\n",
        "    \n",
        "model = PerfectModel()\n",
        "\n",
        "# Plot the model\n",
        "import graphing\n",
        "graphing.scatter_2D(test, trendline=model.predict)"
      ],
      "outputs": [],
      "execution_count": null,
      "metadata": {}
    },
    {
      "cell_type": "markdown",
      "source": [
        "Our red line is our model, and our blue dots are our datapoints. On the y-axis `0` means tree, and `1` means hiker. We can see our perfect model is passing through every single point.\n",
        "\n",
        "Now we want to make an ROC curve for this perfect model. There are automated ways to do this, but we're here to learn! It's not so hard to do ourselves. We just need to break it down into steps.\n",
        "\n",
        "Remember than an ROC curve plots the _true positive rate_ (TPR) against the _false positive rate_ (FPR). Let's make a function that can calculate these for us. If you're rusty on what these terms mean, pay attention to the code comments:"
      ],
      "metadata": {}
    },
    {
      "cell_type": "code",
      "source": [
        "def calculate_tpr_fpr(prediction, actual):\n",
        "    '''\n",
        "    Calculates true positive rate and false positive rate\n",
        "\n",
        "    prediction: the labels predicted by the model\n",
        "    actual:     the correct labels we hope the model predicts\n",
        "    '''\n",
        "\n",
        "    # To calculate the true positive rate and true negative rate we need to know\n",
        "    # TP - how many true positives (where the model predicts hiker, and it is a hiker)\n",
        "    # TN - how many true negatives (where the model predicts tree, and it is a tree)\n",
        "    # FP - how many false positives (where the model predicts hiker, but it was a tree)\n",
        "    # FN - how many false negatives (where the model predicts tree, but it was a hiker)\n",
        "\n",
        "    # First, make a note of which predictions were 'true' and which were 'false'\n",
        "    prediction_true = numpy.equal(prediction, 1)\n",
        "    prediction_false= numpy.equal(prediction, 0)\n",
        "\n",
        "    # Now, make a note of which correct results were 'true' and which were 'false'\n",
        "    actual_true = numpy.equal(actual, 1)\n",
        "    actual_false = numpy.equal(actual, 0)\n",
        "\n",
        "    # Calculate TP, TN, FP, and FN\n",
        "    # The combination of sum and '&' counts the overlap\n",
        "    # For example, TP calculates how many 'true' predictions \n",
        "    # overlapped with 'true' labels (correct answers)\n",
        "    TP = numpy.sum(prediction_true  & actual_true)\n",
        "    TN = numpy.sum(prediction_false & actual_false)\n",
        "    FP = numpy.sum(prediction_true  & actual_false)\n",
        "    FN = numpy.sum(prediction_false & actual_true)\n",
        "\n",
        "    # Calculate the true positive rate\n",
        "    # This is the proportion of 'hiker' labels that are identified as hikers\n",
        "    tpr = TP / (TP + FN)\n",
        "\n",
        "    # Calculate the false positive rate \n",
        "    # This is the proportion of 'tree' labels that are identified as hikers\n",
        "    fpr = FP / (FP + TN)\n",
        "\n",
        "    # Return both rates\n",
        "    return tpr, fpr\n",
        "\n",
        "print(\"Ready!\")"
      ],
      "outputs": [],
      "execution_count": null,
      "metadata": {}
    },
    {
      "cell_type": "markdown",
      "source": [
        "Now remember that to make an ROC curve, we calculate TPR and FPR for a wide range of thresholds. We then plot the TPR on the y-axis and the FPR on the x-axis. \n",
        "\n",
        "First, lets make a short method that can calculate the TPR and FPR for just one decision threshold."
      ],
      "metadata": {}
    },
    {
      "cell_type": "code",
      "source": [
        "def assess_model(model_predict, feature_name, threshold):\n",
        "    '''\n",
        "    Calculates the true positive rate and false positive rate of the model\n",
        "    at a particular decision threshold\n",
        "\n",
        "    model_predict: the model's predict function\n",
        "    feature_name: the feature the model is expecting\n",
        "    threshold: the decision threshold to use \n",
        "    '''\n",
        "\n",
        "    # Make model predictions for every sample in the test set\n",
        "    # What we get back is a probability that the sample is a hiker\n",
        "    # For example, if we had two samples in the test set, we might\n",
        "    # get 0.45 and 0.65, meaning the model says there is a 45% chance\n",
        "    # the first sample is a hiker, and 65% chance the second is a \n",
        "    # hiker\n",
        "    probability_of_hiker = model_predict(test[feature_name])\n",
        "    \n",
        "    # See which predictions at this threshold would say hiker\n",
        "    predicted_is_hiker = probability_of_hiker > threshold\n",
        "\n",
        "    # calculate the true and false positives rates using our\n",
        "    # handy method\n",
        "    return calculate_tpr_fpr(predicted_is_hiker, test.is_hiker)\n",
        "\n",
        "print(\"Ready!\")"
      ],
      "outputs": [],
      "execution_count": null,
      "metadata": {}
    },
    {
      "cell_type": "markdown",
      "source": [
        "Now we can use it in a loop to create an ROC curve:"
      ],
      "metadata": {}
    },
    {
      "cell_type": "code",
      "source": [
        "def create_roc_curve(model_predict, feature=\"height\"):\n",
        "    '''\n",
        "    This function creates a ROC curve for a given model by testing it\n",
        "    on the test set for a range of decision thresholds. An ROC curve has\n",
        "    the True Positive rate on the x-axis and False Positive rate on the \n",
        "    y-axis\n",
        "\n",
        "    model_predict: The model's predict function\n",
        "    feature: The feature to provide the model's predict function\n",
        "    '''\n",
        "\n",
        "    # Calculate what the true positive and false positive rate would be if\n",
        "    # we had used different thresholds. \n",
        "\n",
        "    #  Make a list of thresholds to try\n",
        "    thresholds = numpy.linspace(0,1,101)\n",
        "\n",
        "    false_positive_rates = []\n",
        "    true_positive_rates = []\n",
        "\n",
        "    # Loop through all thresholds\n",
        "    for threshold in thresholds:\n",
        "        # calculate the true and false positives rates using our\n",
        "        # handy method\n",
        "        tpr, fpr = assess_model(model_predict, feature, threshold)\n",
        "\n",
        "        # save the results\n",
        "        true_positive_rates.append(tpr)\n",
        "        false_positive_rates.append(fpr)\n",
        "\n",
        "\n",
        "    # Graph the result\n",
        "    # You don't need to understand this code, but essentially we are plotting\n",
        "    # TPR versus FPR as a line plot\n",
        "    # -- Prepare a dataframe, required by our graphing code\n",
        "    df_for_graphing = pandas.DataFrame(dict(fpr=false_positive_rates, tpr=true_positive_rates, threshold=thresholds))\n",
        "    # -- Generate the plot\n",
        "    fig = graphing.scatter_2D(df_for_graphing, x_range=[-0.05,1.05])\n",
        "    fig.update_traces(mode='lines') # Comment our this line if you would like to see points rather than lines\n",
        "    fig.update_yaxes(range=[-0.05, 1.05])\n",
        "\n",
        "    # Display the graph\n",
        "    fig.show()\n",
        "\n",
        "\n",
        "# Create an roc curve for our model\n",
        "create_roc_curve(model.predict)"
      ],
      "outputs": [],
      "execution_count": null,
      "metadata": {}
    },
    {
      "cell_type": "markdown",
      "source": [
        "What are we seeing here?\n",
        "\n",
        "Except for at a threshold of 0, the model always has a true positive rate of 1. It also always has a false positive rate of 0, unless the threshold has been set to 1. Note that because we've drawn a line, it appears that there are intermediate values (such as a FPR of 0.5) but the line is simply deceiving. If you would like, comment out `fig.update_traces(mode='lines')` in the above cell and re-run to see points, rather than lines. \n",
        "\n",
        "Think about it - our model is perfect. Using it, we will always gets all answers correct, putting all points are in top left corner (unless the threshold is 0 or 1, which effectively mean that we are discarding the model results completely).  "
      ],
      "metadata": {}
    },
    {
      "cell_type": "markdown",
      "source": [
        "## Worse-than-chance\n",
        "As a counter example to understand the ROC curve, lets consider a model that is worse than chance. In fact, this model gets every single answer wrong.\n",
        "\n",
        "This doesn't happen often in the real world, so again, we will have to fake this model as well. Let's plot this fake model against our data:"
      ],
      "metadata": {}
    },
    {
      "cell_type": "code",
      "source": [
        "# Create a fake model that gets every single answer incorrect\n",
        "class VeryBadModel:\n",
        "    def predict(self, x):\n",
        "        # This model thinks that all people are over 4m tall \n",
        "        # and all trees are shorter\n",
        "        return 1 / (1 + numpy.exp(-80*(x - 4)))\n",
        "\n",
        "model = VeryBadModel()\n",
        "\n",
        "# Plot the model\n",
        "graphing.scatter_2D(test, trendline=model.predict)"
      ],
      "outputs": [],
      "execution_count": null,
      "metadata": {}
    },
    {
      "cell_type": "markdown",
      "source": [
        "As you can see, the red line (model) goes the wrong direction! How will this look on an ROC curve?"
      ],
      "metadata": {}
    },
    {
      "cell_type": "code",
      "source": [
        "# run our code to create the ROC curve\n",
        "create_roc_curve(model.predict)"
      ],
      "outputs": [],
      "execution_count": null,
      "metadata": {}
    },
    {
      "cell_type": "markdown",
      "source": [
        "It is the opposite of the perfect model. Rather than the line reaching the top left of the graph, it reaches the bottom right. This means that the TPR is always 0 - it gets nothing right at all. In this particular example, it also always has a false positive rate of 1, so long as the threshold is less than 1."
      ],
      "metadata": {}
    },
    {
      "cell_type": "markdown",
      "source": [
        "## A model no better than chance\n",
        "\n",
        "The previous two models we've seen are very unusual. We've learned though, that we would like the curve to be as close to the top left of the graph as possible.\n",
        "\n",
        "What would a model be like that does no better than chance? Let's have a look by trying to fit a model to our texture feature. We know this won't work well, because we've seen that hikers and trees have the same range of image textures. "
      ],
      "metadata": {}
    },
    {
      "cell_type": "code",
      "source": [
        "import statsmodels.api\n",
        "\n",
        "# This is a helper method that reformats the data to be compatible\n",
        "# with this particular logistic regression model \n",
        "prep_data = lambda x:  numpy.column_stack((numpy.full(x.shape, 1), x))\n",
        "\n",
        "# Train a logistic regression model to predict hiker based on texture\n",
        "model = statsmodels.api.Logit(train.is_hiker, prep_data(train.texture)).fit()\n",
        "\n",
        "# Plot the model\n",
        "graphing.scatter_2D(test, label_x=\"texture\", label_y=\"is_hiker\", trendline=lambda x: model.predict(prep_data(x)))"
      ],
      "outputs": [],
      "execution_count": null,
      "metadata": {}
    },
    {
      "cell_type": "markdown",
      "source": [
        "Our model is not very good - it doesn't pass through a single data point and probably will do no better than chance. This seems extreme but when we work with more complicated problems, sometimes it can be hard to find any real pattern in the data. What does this look like on an ROC curve?"
      ],
      "metadata": {}
    },
    {
      "cell_type": "code",
      "source": [
        "# run our code to create the ROC curve\n",
        "create_roc_curve(lambda x: model.predict(prep_data(x)), \"texture\")"
      ],
      "outputs": [],
      "execution_count": null,
      "metadata": {}
    },
    {
      "cell_type": "markdown",
      "source": [
        "It's a diagonal line! Why?\n",
        "\n",
        "Remember that the model could not find a way to reliably predict the label from the feature. It is making a range of predictions but they are essentially guesswork. \n",
        "\n",
        "If we have a threshold of 0.5, about half of our probabilities will be above the threshold, meaning that about half of our predictions are `hiker`. Half of the labels are also hiker, but there is no correlation between the two. This means we'll get about half the predicted `hiker` labels correct (TPR = 0.5). We will also get about half the predicted `hiker` labels wrong (FPR = 0.5).\n",
        "\n",
        "If we increased the threshold to 0.8, it would predict _hiker_ 80% of the time. Again, because this is random, it would identify about 80% of the hikers correctly (by chance), and but also 80% of the trees as hikers.\n",
        "\n",
        "If we continued this approach for all thresholds, we would achieve a diagonal line."
      ],
      "metadata": {}
    },
    {
      "cell_type": "markdown",
      "source": [
        "## A realistic model\n",
        "\n",
        "In the real world, we typically achieve models that perform somewhere between between pure chance (a diagonal line) and perfectly (a line that touches the top left corner).\n",
        "\n",
        "Let's finally build a more realistic model. We'll try to predict whether a sample is a hiker or not based on motion. Our model should do OK, but it won't be perfect. This is because hikers sometimes sit still (like trees) and trees sometimes blow in the wind (moving, like a hiker)."
      ],
      "metadata": {}
    },
    {
      "cell_type": "code",
      "source": [
        "import statsmodels.api\n",
        "\n",
        "# Train a logistic regression model to predict hiker based on motion\n",
        "model = statsmodels.api.Logit(train.is_hiker, prep_data(train.motion), add_constant=True).fit()\n",
        "\n",
        "# Plot the model\n",
        "graphing.scatter_2D(test, label_x=\"motion\", label_y=\"is_hiker\", trendline=lambda x: model.predict(prep_data(x)))"
      ],
      "outputs": [],
      "execution_count": null,
      "metadata": {}
    },
    {
      "cell_type": "markdown",
      "source": [
        "The model (red line) seems sensible, though we know sometimes it will get answers wrong.\n",
        "\n",
        "Now let's look at the ROC curve:"
      ],
      "metadata": {}
    },
    {
      "cell_type": "code",
      "source": [
        "create_roc_curve(lambda x: model.predict(prep_data(x)), \"motion\")"
      ],
      "outputs": [],
      "execution_count": null,
      "metadata": {}
    },
    {
      "cell_type": "markdown",
      "source": [
        "We can see the curve bulging toward the top left corner, meaning it is working much better than chance.\n",
        "\n",
        "This is a fairly typical ROC curve for an 'easy' machine-learning problem like this. Harder problems often see the line much more similar to a diagonal line.\n",
        "\n",
        "By contrast, if we ever came across a line that bulged the opposite direction - to the bottom right - we would know we're doing worse than chance, and something is deeply wrong.\n",
        "\n",
        "\n",
        "## Summary\n",
        "\n",
        "We got through it! ROC curves can seem difficult at first, particularly due to the terminology with respect to True and False positives. We built one from scratch though, here to get a feel for how they are working inside. If you found that tough, read through again slowly, and experiment with some of the functions we made. Don't fret - we normally can use existing libraries to do most of this work for us.\n",
        "\n",
        "The mode important thing to remember with these curves is that we would like our line to be as close to the top left of the graph as possible. A model that can do this is correctly identifying the target (such as hikers) most of the time, without falsely identifying the target (labelling trees as hikers) very often."
      ],
      "metadata": {}
    }
  ],
  "metadata": {
    "kernelspec": {
      "name": "conda-env-py38_default-py",
      "language": "python",
      "display_name": "py38_default"
    },
    "language_info": {
      "name": "python",
      "version": "3.8.13",
      "mimetype": "text/x-python",
      "codemirror_mode": {
        "name": "ipython",
        "version": 3
      },
      "pygments_lexer": "ipython3",
      "nbconvert_exporter": "python",
      "file_extension": ".py"
    },
    "kernel_info": {
      "name": "conda-env-py38_default-py"
    },
    "nteract": {
      "version": "nteract-front-end@1.0.0"
    }
  },
  "nbformat": 4,
  "nbformat_minor": 2
}