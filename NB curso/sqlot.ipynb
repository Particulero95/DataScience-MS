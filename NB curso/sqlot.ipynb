{
 "cells": [
  {
   "attachments": {},
   "cell_type": "markdown",
   "metadata": {},
   "source": [
    "###  Uso de combinaciones externas\n",
    "\n",
    "Aunque no es tan común como las combinaciones internas, el uso de combinaciones externas en una consulta de varias tablas puede proporcionar una vista alternativa de los datos empresariales. Como sucede con las combinaciones internas, expresará una relación lógica entre las tablas. Pero no solo recuperará las filas con atributos coincidentes, sino también todas las filas presentes en una tablas o las dos, independientemente de si hay o no una coincidencia en la otra tabla.\n",
    "\n",
    "Anteriormente, ha aprendido a usar INNER JOIN para buscar filas coincidentes entre dos tablas. Como ha visto, el procesador de consultas genera los resultados de una consulta INNER JOIN filtrando las filas que no cumplen las condiciones expresadas en el predicado de la cláusula ON. El resultado es que solo se devuelven las filas con una fila coincidente en la otra tabla. Con OUTER JOIN, puede optar por mostrar todas las filas que tienen filas coincidentes entre las tablas, además de todas las filas que no tienen ninguna coincidencia en la otra tabla. Ahora se verá un ejemplo y, después, se examinará el proceso.\n",
    "\n",
    "En primer lugar, examine la consulta siguiente, escrita con INNER JOIN:"
   ]
  },
  {
   "cell_type": "code",
   "execution_count": null,
   "metadata": {
    "vscode": {
     "languageId": "sql"
    }
   },
   "outputs": [],
   "source": [
    "SELECT emp.FirstName, ord.Amount\n",
    "FROM HR.Employee AS emp\n",
    "INNER JOIN Sales.SalesOrder AS ord\n",
    "    ON emp.EmployeeID = ord.EmployeeID;"
   ]
  },
  {
   "attachments": {},
   "cell_type": "markdown",
   "metadata": {},
   "source": [
    "Ahora, se examinará la siguiente consulta, escrita como LEFT OUTER JOIN:"
   ]
  },
  {
   "cell_type": "code",
   "execution_count": null,
   "metadata": {
    "vscode": {
     "languageId": "sql"
    }
   },
   "outputs": [],
   "source": [
    "SELECT emp.FirstName, ord.Amount\n",
    "FROM HR.Employee AS emp\n",
    "LEFT OUTER JOIN Sales.SalesOrder AS ord\n",
    "    ON emp.EmployeeID = ord.EmployeeID;"
   ]
  },
  {
   "attachments": {},
   "cell_type": "markdown",
   "metadata": {},
   "source": [
    "En este ejemplo se usa un operador LEFT OUTER JOIN, que indica al procesador de consultas que conserve todas las filas de la tabla de la izquierda (HR.Employee) y muestre los valores Amount para las filas coincidentes en Sales.SalesOrder. Pero se devuelven todos los empleados, independientemente de si han realizado o no un pedido de ventas. En lugar del valor Amount, la consulta devolverá NULL para los empleados sin pedidos de ventas correspondientes."
   ]
  },
  {
   "attachments": {},
   "cell_type": "markdown",
   "metadata": {},
   "source": [
    "### Sintaxis de OUTER JOIN\n",
    "Las combinaciones externas se expresan mediante las palabras clave LEFT, RIGHT o FULL, que se colocan por delante de OUTER JOIN. El propósito de la palabra clave es indicar qué tabla (en qué lado de la palabra clave JOIN) se debe conservar y mostrar todas sus filas, haya coincidencias o no.\n",
    "\n",
    "Al usar LEFT, RIGHT o FULL para definir una combinación, puede omitir la palabra clave OUTER como se muestra aquí:"
   ]
  },
  {
   "cell_type": "code",
   "execution_count": null,
   "metadata": {
    "vscode": {
     "languageId": "sql"
    }
   },
   "outputs": [],
   "source": [
    "SELECT emp.FirstName, ord.Amount\n",
    "FROM HR.Employee AS emp\n",
    "LEFT JOIN Sales.SalesOrder AS ord\n",
    "    ON emp.EmployeeID = ord.EmployeeID;"
   ]
  },
  {
   "attachments": {},
   "cell_type": "markdown",
   "metadata": {},
   "source": [
    "Pero como sucede con la palabra clave INNER, a menudo resulta útil escribir código que indique de forma explícita el tipo de combinación que se usa.\n",
    "\n",
    "Al escribir consultas mediante OUTER JOIN, tenga en cuenta las instrucciones siguientes:\n",
    "\n",
    "- Como ha visto, se prefieren alias de tabla, no solo para la lista SELECT, sino también para la cláusula ON.\n",
    "- Como sucede con INNER JOIN, se puede realizar una operación OUTER JOIN en una sola columna coincidente o en varios atributos coincidentes.\n",
    "- A diferencia de INNER JOIN, el orden en el que las tablas se enumeran y se unen en la cláusula FROM sí importa con OUTER JOIN, ya que determinará si elige LEFT o RIGHT para la combinación.\n",
    "- Las combinaciones de varias tablas son más complejas cuando se usa OUTER JOIN. La presencia de valores NULL en los resultados de OUTER JOIN puede provocar problemas si los resultados intermedios se combinan a una tercera tabla. El predicado de la segunda combinación puede filtrar las filas con valores NULL.\n",
    "- Para mostrar solo las filas en las que no existe ninguna coincidencia, agregue una prueba de NULL en una cláusula WHERE después de un predicado OUTER JOIN.\n",
    "FULL OUTER JOIN rara vez se usa. Devuelve todas las filas coincidentes entre las dos tablas, más todas las filas de la primera tabla sin coincidencia en la segunda, además de todas las filas de la segunda sin coincidencia en la primera.\n",
    "- No hay ninguna manera de predecir el orden en que se devolverán las filas sin una cláusula ORDER BY. No hay ninguna manera de saber si primero se devolverán las filas coincidentes o las no coincidentes."
   ]
  },
  {
   "attachments": {},
   "cell_type": "markdown",
   "metadata": {},
   "source": [
    "### Uso de combinaciones cruzadas\n",
    "Una combinación cruzada es simplemente un producto cartesiano de las dos tablas. Con la sintaxis ANSI SQL-89, puede excluir el filtro que conecta las dos tablas para crear una combinación cruzada. Con la sintaxis ANSI-92, es un poco más difícil, lo que es positivo porque, en general, una combinación cruzada no es algo que normalmente le interesará. Con la sintaxis ANSI-92, es muy poco probable que termine con una combinación cruzada accidentalmente.\n",
    "\n",
    "Para crear de forma explícita un producto cartesiano, use el operador CROSS JOIN.\n",
    "\n",
    "Esta operación crea un conjunto de resultados con todas las combinaciones posibles de las filas de entrada:"
   ]
  },
  {
   "cell_type": "code",
   "execution_count": null,
   "metadata": {
    "vscode": {
     "languageId": "sql"
    }
   },
   "outputs": [],
   "source": [
    "SELECT <select_list>\n",
    "FROM table1 AS t1\n",
    "CROSS JOIN table2 AS t2;"
   ]
  },
  {
   "attachments": {},
   "cell_type": "markdown",
   "metadata": {},
   "source": [
    "Aunque este resultado no suele ser una salida deseada, hay algunas aplicaciones prácticas para escribir una operación CROSS JOIN explícita:\n",
    "\n",
    "Crear una tabla de números, con una fila para cada valor posible de un intervalo.\n",
    "Generar grandes volúmenes de datos para pruebas. Cuando se le aplica una combinación cruzada a sí misma, una tabla con tan solo 100 filas puede generar fácilmente 10 000 filas de salida.\n",
    "### Sintaxis de CROSS JOIN\n",
    "Al escribir consultas mediante CROSS JOIN, tenga en cuenta las instrucciones siguientes:\n",
    "\n",
    "No se realiza ninguna coincidencia de filas, por lo que no se usa ninguna cláusula ON. (Es un error usar una cláusula ON con CROSS JOIN).\n",
    "Para usar la sintaxis ANSI SQL-92, separe los nombres de tabla de entrada con el operador CROSS JOIN.\n",
    "La consulta siguiente es un ejemplo del uso de CROSS JOIN para crear todas las combinaciones de empleados y productos:"
   ]
  },
  {
   "cell_type": "code",
   "execution_count": null,
   "metadata": {
    "vscode": {
     "languageId": "sql"
    }
   },
   "outputs": [],
   "source": [
    "SELECT emp.FirstName, prd.Name\n",
    "FROM HR.Employee AS emp\n",
    "CROSS JOIN Production.Product AS prd;"
   ]
  },
  {
   "attachments": {},
   "cell_type": "markdown",
   "metadata": {},
   "source": [
    "### Uso de autocombinaciones\n",
    "\n",
    "Hasta ahora, en las combinaciones que se han usado participaban tablas diferentes. Es posible que haya escenarios en los que tenga que recuperar y comparar filas de una tabla con otras filas de la misma tabla. Por ejemplo, en una aplicación de recursos humanos, una tabla Employee podría incluir información sobre el jefe de cada empleado y almacenar el identificador del jefe en la propia fila del empleado. Cada jefe también aparece como empleado.\n",
    "\n",
    "Para recuperar la información de los empleados y hacerla coincidir con el jefe relacionado, puede usar la tabla dos veces en la consulta, y combinarla con sí misma para los fines de la consulta."
   ]
  },
  {
   "cell_type": "code",
   "execution_count": null,
   "metadata": {
    "vscode": {
     "languageId": "sql"
    }
   },
   "outputs": [],
   "source": [
    "SELECT emp.FirstName AS Employee, \n",
    "       mgr.FirstName AS Manager\n",
    "FROM HR.Employee AS emp\n",
    "LEFT OUTER JOIN HR.Employee AS mgr\n",
    "  ON emp.ManagerID = mgr.EmployeeID;"
   ]
  },
  {
   "attachments": {},
   "cell_type": "markdown",
   "metadata": {},
   "source": [
    "Los resultados de esta consulta incluyen una fila para cada empleado con el nombre de su jefe. El director general de la empresa no tiene ningún jefe. Para incluir al director general en los resultados, se usa una combinación externa y el nombre del jefe se devuelve como NULL para las filas en las que el campo ManagerID no tiene ningún campo EmployeeID coincidente.\n",
    "\n",
    "Hay otros escenarios en los que querrá comparar filas de una tabla con otras filas de la misma tabla. Como ha visto, es bastante fácil comparar columnas de la misma fila mediante T-SQL, pero el método para comparar valores de filas diferentes (como una fila que almacena una hora de inicio y otra de la misma tabla que almacena una hora de finalización correspondiente) es menos obvio. Las autocombinaciones son una técnica útil para estos tipos de consultas.\n",
    "\n",
    "Para realizar tareas como esta, debe tener en cuenta las instrucciones siguientes:\n",
    "\n",
    "- Defina dos instancias de la misma tabla en la cláusula FROM y combínelas según sea necesario, mediante combinaciones internas o externas.\n",
    "- Use alias de tabla para diferenciar las dos instancias de la misma tabla.\n",
    "- Use la cláusula ON para proporcionar un filtro que compare las columnas de una instancia de la tabla con las columnas de la otra instancia."
   ]
  },
  {
   "attachments": {},
   "cell_type": "markdown",
   "metadata": {},
   "source": [
    "### Comprender las subconsultas\n",
    "Una subconsulta es una instrucción SELECT anidada dentro de otra consulta. La posibilidad de anidar una consulta dentro de otra mejorará su capacidad de crear consultas eficaces en T-SQL. En general, las subconsultas se evalúan una vez y proporcionan sus resultados a la consulta externa.\n",
    "\n",
    "Trabajar con subconsultas\n",
    "Una subconsulta es una instrucción SELECT anidada o incrustada en otra consulta. La consulta anidada, que es la subconsulta, se conoce como consulta interna. La consulta que contiene la consulta anidada es la consulta externa.\n",
    "\n",
    "El propósito de una subconsulta es devolver resultados a la consulta externa. La forma de los resultados determinará si la subconsulta es una subconsulta escalar o multivalor:\n",
    "\n",
    "- Las subconsultas escalares devuelven un solo valor. Las consultas externas deben procesar un único resultado.\n",
    "- Las subconsultas multivalor devuelven un resultado muy similar a una tabla de una sola columna. Las consultas externas deben poder procesar varios valores.\n",
    "Además de la elección entre subconsultas escalares y multivalor, las subconsultas pueden ser independientes o pueden correlacionarse con la consulta externa:\n",
    "\n",
    "- Las subconsultas independientes se pueden escribir como consultas independientes, sin dependencias de la consulta externa. Una subconsulta independiente se procesa una vez, cuando la consulta externa se ejecuta y pasa sus resultados a esa consulta externa.\n",
    "- Las subconsultas correlacionadas hacen referencia a una o varias columnas de la consulta externa y, por tanto, dependen de ella. Las subconsultas correlacionadas no se pueden ejecutar por separado desde la consulta externa."
   ]
  },
  {
   "attachments": {},
   "cell_type": "markdown",
   "metadata": {},
   "source": [
    "### Usar subconsultas escalares o multivalor\n",
    "\n",
    "Una subconsulta escalar es una instrucción SELECT interna dentro de una consulta externa, escrita para devolver un solo valor. Las subconsultas escalares se pueden usar en cualquier lugar de una instrucción T-SQL externa en la que se permita una expresión de un solo valor, como en una cláusula SELECT, una cláusula WHERE, una cláusula HAVING o incluso una cláusula FROM. También se pueden usar en instrucciones de modificación de datos, como UPDATE o DELETE.\n",
    "\n",
    "Las subconsultas multivalor, como sugiere el nombre, pueden devolver más de una fila. Sin embargo, todavía devuelven una sola columna.\n",
    "\n",
    "Subconsultas escalares\n",
    "Imaginemos que desea recuperar los detalles del último pedido que se ha realizado, suponiendo que es el que tiene el valor SalesOrderID más alto.\n",
    "\n",
    "Para buscar el valor SalesOrderID más alto, puede usar la consulta siguiente:"
   ]
  },
  {
   "cell_type": "code",
   "execution_count": null,
   "metadata": {
    "vscode": {
     "languageId": "sql"
    }
   },
   "outputs": [],
   "source": [
    "SELECT MAX(SalesOrderID)\n",
    "FROM Sales.SalesOrderHeader"
   ]
  },
  {
   "attachments": {},
   "cell_type": "markdown",
   "metadata": {},
   "source": [
    "Esta consulta devuelve un valor único que indica el valor más alto de OrderID en la tabla SalesOrderHeader.\n",
    "\n",
    "Para obtener los detalles de este pedido, es posible que tenga que filtrar la tabla SalesOrderDetails en función del valor devuelto por la consulta anterior. Puede realizar esta tarea anidando la consulta para recuperar el valor máximo de SalesOrderID dentro de la cláusula WHERE de una consulta que recupera los detalles del pedido."
   ]
  },
  {
   "cell_type": "code",
   "execution_count": null,
   "metadata": {
    "vscode": {
     "languageId": "sql"
    }
   },
   "outputs": [],
   "source": [
    "SELECT SalesOrderID, ProductID, OrderQty\n",
    "FROM Sales.SalesOrderDetail\n",
    "WHERE SalesOrderID = \n",
    "   (SELECT MAX(SalesOrderID)\n",
    "    FROM Sales.SalesOrderHeader);"
   ]
  },
  {
   "attachments": {},
   "cell_type": "markdown",
   "metadata": {},
   "source": [
    "Para escribir una subconsulta escalar, tenga en cuenta las siguientes directrices:\n",
    "\n",
    "- Para indicar una consulta como subconsulta, escríbala entre paréntesis.\n",
    "- Se admiten varios niveles de subconsultas en Transact-SQL. En este módulo, solo se considerarán las consultas de dos niveles (una consulta interna dentro de una consulta externa), pero se admiten hasta 32 niveles.\n",
    "- Si la subconsulta no devuelve filas (un conjunto vacío), el resultado de la subconsulta es NULL. Si es posible en su escenario que no se devuelva ninguna fila, debe asegurarse de que la consulta externa puede controlar correctamente un valor NULL, además de otros resultados esperados.\n",
    "- Por lo general, la consulta interna debe devolver una sola columna. La selección de varias columnas en una subconsulta casi siempre es un error. La única excepción es si la subconsulta se indica con la palabra clave EXISTS.\n",
    "\n",
    "\n",
    "Una subconsulta escalar se puede usar en cualquier lugar de una consulta donde se espera un valor, incluida la lista SELECT. Por ejemplo, podríamos ampliar la consulta que recuperó los detalles del pedido más reciente para incluir la cantidad media de elementos que se pide, de modo que podamos comparar la cantidad pedida en el pedido más reciente con la media de todos los pedidos."
   ]
  },
  {
   "cell_type": "code",
   "execution_count": null,
   "metadata": {
    "vscode": {
     "languageId": "sql"
    }
   },
   "outputs": [],
   "source": [
    "SELECT SalesOrderID, ProductID, OrderQty,\n",
    "    (SELECT AVG(OrderQty)\n",
    "     FROM SalesLT.SalesOrderDetail) AS AvgQty\n",
    "FROM SalesLT.SalesOrderDetail\n",
    "WHERE SalesOrderID = \n",
    "    (SELECT MAX(SalesOrderID)\n",
    "     FROM SalesLT.SalesOrderHeader);"
   ]
  },
  {
   "attachments": {},
   "cell_type": "markdown",
   "metadata": {},
   "source": [
    "### Subconsultas multivalor\n",
    "Una subconsulta multivalor es adecuada para devolver resultados mediante el operador IN. En el ejemplo hipotético siguiente se devuelven los valores CustomerID y SalesOrderID de todos los pedidos realizados por los clientes de Canadá."
   ]
  },
  {
   "cell_type": "code",
   "execution_count": null,
   "metadata": {
    "vscode": {
     "languageId": "sql"
    }
   },
   "outputs": [],
   "source": [
    "SELECT CustomerID, SalesOrderID\n",
    "FROM Sales.SalesOrderHeader\n",
    "WHERE CustomerID IN (\n",
    "    SELECT CustomerID\n",
    "    FROM Sales.Customer\n",
    "    WHERE CountryRegion = 'Canada');"
   ]
  },
  {
   "attachments": {},
   "cell_type": "markdown",
   "metadata": {},
   "source": [
    "En este ejemplo, si ejecutara solo la consulta interna, se devolvería una columna de valores CustomerID, con una fila para cada cliente de Canadá.\n",
    "\n",
    "En muchos casos, las subconsultas multivalor se pueden escribir fácilmente mediante combinaciones. Por ejemplo, esta es una consulta que usa una combinación para devolver los mismos resultados del ejemplo anterior: "
   ]
  },
  {
   "cell_type": "code",
   "execution_count": null,
   "metadata": {
    "vscode": {
     "languageId": "sql"
    }
   },
   "outputs": [],
   "source": [
    "SELECT c.CustomerID, o.SalesOrderID\n",
    "FROM Sales.Customer AS c\n",
    "JOIN Sales.SalesOrderHeader AS o\n",
    "    ON c.CustomerID = o.CustomerID\n",
    "WHERE c. CountryRegion = 'Canada';"
   ]
  },
  {
   "attachments": {},
   "cell_type": "markdown",
   "metadata": {},
   "source": [
    "### Usar subconsultas independientes o correlacionadas\n",
    "\n",
    "Anteriormente, examinamos las subconsultas independientes en las que la consulta interna es independiente de la consulta externa, se ejecuta una vez y devuelve sus resultados a la consulta externa. T-SQL también admite las subconsultas correlacionadas, en las que la consulta interna hace referencia a la columna de la consulta externa y conceptualmente se ejecuta una vez por fila.\n",
    "\n",
    "### Trabajar con subconsultas correlacionadas\n",
    "Al igual que las subconsultas independientes, las subconsultas correlacionadas son instrucciones SELECT anidadas dentro de una consulta externa. Las subconsultas correlacionadas también pueden ser subconsultas escalares o multivalor. Normalmente se usan cuando la consulta interna necesita hacer referencia a un valor en la consulta externa.\n",
    "\n",
    "Sin embargo, a diferencia de las subconsultas independientes, hay algunas consideraciones especiales cuando se usan subconsultas correlacionadas:\n",
    "\n",
    "- Las subconsultas correlacionadas no se pueden ejecutar por separado desde la consulta externa. Esta restricción complica las pruebas y la depuración.\n",
    "- A diferencia de las subconsultas independientes, que se procesan una vez, las subconsultas correlacionadas se ejecutarán varias veces. Lógicamente, la consulta externa se ejecuta primero y, para cada fila devuelta, se procesa la consulta interna.\n",
    "\n",
    "En el ejemplo siguiente se usa una subconsulta correlacionada para devolver el pedido más reciente de cada cliente. La subconsulta hace referencia a la consulta externa y hace referencia a su valor CustomerID en su cláusula WHERE. Para cada fila de la consulta externa, la subconsulta busca el identificador de pedido máximo del cliente al que se hace referencia en esa fila y la consulta externa comprueba si la fila que se está analizando es la fila con ese identificador de pedido."
   ]
  },
  {
   "cell_type": "code",
   "execution_count": null,
   "metadata": {
    "vscode": {
     "languageId": "sql"
    }
   },
   "outputs": [],
   "source": [
    "SELECT SalesOrderID, CustomerID, OrderDate\n",
    "FROM SalesLT.SalesOrderHeader AS o1\n",
    "WHERE SalesOrderID =\n",
    "    (SELECT MAX(SalesOrderID)\n",
    "     FROM SalesLT.SalesOrderHeader AS o2\n",
    "     WHERE o2.CustomerID = o1.CustomerID)\n",
    "ORDER BY CustomerID, OrderDate;"
   ]
  },
  {
   "attachments": {},
   "cell_type": "markdown",
   "metadata": {},
   "source": [
    "### Escritura de subconsultas correlacionadas\n",
    "Para escribir subconsultas correlacionadas, tenga en cuenta las siguientes directrices:\n",
    "\n",
    "- Escriba la consulta externa para aceptar el resultado devuelto adecuado de la consulta interna. Si la consulta interna es escalar, puede usar operadores de igualdad y comparación, como =, <, > y <>, en la cláusula WHERE. Si la consulta interna puede devolver varios valores, use un predicado IN. Cree un plan para controlar los resultados NULL.\n",
    "- Identifique la columna de la consulta externa a la que hará referencia la subconsulta correlacionada. Declare un alias para la tabla que es el origen de la columna en la consulta externa.\n",
    "- Identifique la columna de la tabla interna que se comparará con la columna de la tabla externa. Cree un alias para la tabla de origen, como hizo para la consulta externa.\n",
    "- Escriba la consulta interna para recuperar valores de su origen, en función del valor de entrada de la consulta externa. Por ejemplo, use la columna externa en la cláusula WHERE de la consulta interna.\n",
    "\n",
    "La correlación entre las consultas interna y externa se produce cuando la consulta interna hace referencia al valor externo para su comparación. Es esta correlación la que proporciona a la subconsulta su nombre.\n",
    "\n",
    "### Trabajar con EXISTS\n",
    "Además de recuperar valores de una subconsulta, T-SQL proporciona un mecanismo para comprobar si se devolverían resultados de una consulta. El predicado EXISTS determina si existen filas que cumplan una condición especificada, pero en lugar de devolverlas, devuelve TRUE o FALSE. Esta técnica es útil para validar los datos sin incurrir en la sobrecarga de recuperar y procesar los resultados.\n",
    "\n",
    "Cuando una subconsulta está relacionada con la consulta externa mediante el predicado EXISTS, SQL Server controla los resultados de la subconsulta de una manera especial. En lugar de recuperar un valor escalar o una lista multivalor de la subconsulta, EXISTS simplemente comprueba si hay filas en el resultado.\n",
    "\n",
    "Conceptualmente, un predicado EXISTS es equivalente a la recuperación de los resultados, el recuento de las filas devueltas y la comparación del recuento con cero. Compare las consultas siguientes, que devolverán detalles sobre los clientes que han realizado pedidos:\n",
    "\n",
    "La primera consulta de ejemplo usa COUNT en una subconsulta:"
   ]
  },
  {
   "cell_type": "code",
   "execution_count": null,
   "metadata": {
    "vscode": {
     "languageId": "sql"
    }
   },
   "outputs": [],
   "source": [
    "SELECT CustomerID, CompanyName, EmailAddress \n",
    "FROM Sales.Customer AS c \n",
    "WHERE\n",
    "(SELECT COUNT(*) \n",
    "  FROM Sales.SalesOrderHeader AS o\n",
    "  WHERE o.CustomerID = c.CustomerID) > 0;"
   ]
  },
  {
   "attachments": {},
   "cell_type": "markdown",
   "metadata": {},
   "source": [
    "La segunda consulta, que devuelve los mismos resultados, usa EXISTS:"
   ]
  },
  {
   "cell_type": "code",
   "execution_count": null,
   "metadata": {
    "vscode": {
     "languageId": "sql"
    }
   },
   "outputs": [],
   "source": [
    "SELECT CustomerID, CompanyName, EmailAddress \n",
    "FROM Sales.Customer AS c \n",
    "WHERE EXISTS\n",
    "(SELECT * \n",
    "  FROM Sales.SalesOrderHeader AS o\n",
    "  WHERE o.CustomerID = c.CustomerID);"
   ]
  },
  {
   "attachments": {},
   "cell_type": "markdown",
   "metadata": {},
   "source": [
    "En el primer ejemplo, la subconsulta debe contar todas las repeticiones de cada custid que se encuentre en la tabla Sales.SalesOrderHeader y comparar los resultados del recuento con cero, simplemente para indicar que el cliente ha realizado pedidos.\n",
    "\n",
    "En la segunda consulta, EXISTS devolverá TRUE para un custid en cuanto se haya encontrado un pedido pertinente en la tabla Sales.SalesOrderHeader. No es necesario realizar una contabilidad de cuentas completa de cada repetición. Tenga en cuenta también que, con el formulario EXISTS, la subconsulta no está restringida a la devolución de una sola columna. Aquí, aparece SELECT *. Las columnas devueltas son irrelevantes porque solo estamos comprobando si se devuelve alguna fila, no qué valores hay en esas filas.\n",
    "\n",
    "Desde la perspectiva del procesamiento lógico, los dos formularios de consulta son equivalentes. Desde una perspectiva de rendimiento, el motor de base de datos puede tratar las consultas de forma diferente a medida que las optimiza para su ejecución. Considere la posibilidad de probar cada una de ellos para su propio uso.\n",
    "\n",
    " Nota\n",
    "\n",
    "Si va a convertir una subconsulta mediante COUNT(*) en una con EXISTS, asegúrese de que la subconsulta usa SELECT * y no SELECT COUNT(*). SELECT COUNT(*) siempre devuelve una fila, de modo que EXISTS siempre devolverá TRUE.\n",
    "\n",
    "Otra aplicación útil de EXISTS es la negación de la subconsulta con NOT, como en el ejemplo siguiente, que devolverá cualquier cliente que nunca haya realizado un pedido:"
   ]
  },
  {
   "cell_type": "code",
   "execution_count": null,
   "metadata": {
    "vscode": {
     "languageId": "sql"
    }
   },
   "outputs": [],
   "source": [
    "SELECT CustomerID, CompanyName, EmailAddress \n",
    "FROM SalesLT.Customer AS c \n",
    "WHERE NOT EXISTS\n",
    "  (SELECT * \n",
    "   FROM SalesLT.SalesOrderHeader AS o\n",
    "   WHERE o.CustomerID = c.CustomerID);"
   ]
  },
  {
   "attachments": {},
   "cell_type": "markdown",
   "metadata": {},
   "source": [
    "SQL Server tendrá que devolver datos sobre los pedidos relacionados para los clientes que hayan realizado pedidos. Si se encuentra un custid en la tabla Sales.SalesOrderHeader, NOT EXISTS se evalúa como FALSE y la evaluación se completa rápidamente.\n",
    "\n",
    "Para escribir consultas que usan EXISTS con subconsultas, tenga en cuenta las siguientes directrices:\n",
    "\n",
    "- La palabra clave EXISTS sigue directamente a WHERE. Ningún nombre de columna (u otra expresión) la precede, a menos que también se utilice NOT.\n",
    "- En la subconsulta, use SELECT *. La subconsulta no devuelve ninguna fila, por lo que no es necesario especificar ninguna columna."
   ]
  },
  {
   "attachments": {},
   "cell_type": "markdown",
   "metadata": {
    "vscode": {
     "languageId": "sql"
    }
   },
   "source": [
    "## Uso de funciones integradas y GROUP BY en Transact-SQL "
   ]
  },
  {
   "attachments": {},
   "cell_type": "markdown",
   "metadata": {},
   "source": [
    "#### Categorizar funciones integradas\n",
    "\n",
    "Transact-SQL incluye muchas funciones integradas, desde funciones que convierten tipos de datos hasta funciones que agregan y analizan grupos de filas.\n",
    "\n",
    "Las funciones de T-SQL se pueden clasificar de la siguiente manera:\n",
    "\n",
    "\n",
    "\n",
    "- Escalar: Opera sobre un solo valor y devuelve otro valor.\n",
    "\n",
    "- Lógicos: Compara varios valores para determinar una única salida.\n",
    "\n",
    "- Clasificación: Opera sobre una partición (conjunto) de filas.\n",
    "\n",
    "- Conjunto de filas: Devuelve una tabla virtual que se puede usar en una cláusula FROM de una instrucción T-SQL.\n",
    "\n",
    "- Agregado: Toma uno o varios valores de entrada y devuelve un único valor de resumen."
   ]
  },
  {
   "attachments": {},
   "cell_type": "markdown",
   "metadata": {},
   "source": [
    "#### Usar funciones escalares\n",
    "\n",
    "Las funciones escalares devuelven un valor único y normalmente funcionan en una sola fila de datos. El número de valores de entrada que toman puede ser cero (por ejemplo, GETDATE), uno (por ejemplo, UPPER) o varios (por ejemplo, ROUND). Dado que las funciones escalares siempre devuelven un solo valor, se pueden usar en cualquier lugar en el que se necesite un único valor (el resultado). Se usan normalmente en cláusulas SELECT y predicados de cláusula WHERE. También se pueden usar en la cláusula SET de una instrucción UPDATE.\n",
    "\n",
    "Las funciones escalares integradas se pueden organizar en muchas categorías, como cadena, conversión, lógica, matemática y otras. En este módulo se explican algunas funciones escalares comunes.\n",
    "\n",
    "Estas son algunas de las consideraciones que hay que tener en cuenta al usar funciones escalares:\n",
    "\n",
    "- Determinismo: si la función devuelve el mismo valor para el mismo estado de entrada y base de datos cada vez que se llama, se dice que es determinista. Por ejemplo, ROUND(1.1, 0) siempre devuelve el valor 1.0. Muchas funciones integradas son no deterministas. Por ejemplo, GETDATE() devuelve la fecha y hora actuales. Los resultados de las funciones no deterministas no se pueden indexar, lo que afecta a la capacidad del procesador de consultas de idear un buen plan para ejecutar la consulta.\n",
    "- Intercalación: cuando se usan funciones que manipulan datos de caracteres, ¿qué intercalación se usará? Algunas funciones usan la intercalación (criterio de ordenación) del valor de entrada; otros usan la intercalación de la base de datos si no se proporciona ninguna intercalación de entrada.\n",
    "#### Ejemplos de funciones escalares\n",
    "En el momento de redactar la documentación de SQL Server, se enumeran más de 200 funciones escalares que abarcan varias categorías, entre las que se incluyen las siguientes:\n",
    "\n",
    "Funciones de configuración\n",
    "Funciones de conversión\n",
    "Funciones de cursores\n",
    "Funciones de fecha y hora\n",
    "Funciones matemáticas\n",
    "Funciones de metadatos\n",
    "Funciones de seguridad\n",
    "Funciones de cadena\n",
    "Funciones del sistema\n",
    "Funciones estadísticas del sistema\n",
    "Funciones de texto y de imagen\n",
    "No hay tiempo suficiente en este curso para describir cada función, pero en los ejemplos siguientes se muestran algunas funciones que se usan con frecuencia.\n",
    "\n",
    "En el ejemplo hipotético siguiente se usan varias funciones de fecha y hora:\n",
    "\n"
   ]
  },
  {
   "cell_type": "code",
   "execution_count": null,
   "metadata": {
    "vscode": {
     "languageId": "sql"
    }
   },
   "outputs": [],
   "source": [
    "SELECT  SalesOrderID,\n",
    "    OrderDate,\n",
    "        YEAR(OrderDate) AS OrderYear,\n",
    "        DATENAME(mm, OrderDate) AS OrderMonth,\n",
    "        DAY(OrderDate) AS OrderDay,\n",
    "        DATENAME(dw, OrderDate) AS OrderWeekDay,\n",
    "        DATEDIFF(yy,OrderDate, GETDATE()) AS YearsSinceOrder\n",
    "FROM Sales.SalesOrderHeader;"
   ]
  },
  {
   "cell_type": "code",
   "execution_count": null,
   "metadata": {
    "vscode": {
     "languageId": "sql"
    }
   },
   "outputs": [],
   "source": [
    "--En el ejemplo siguiente se incluyen algunas funciones matemáticas:\n",
    "SELECT TaxAmt,\n",
    "       ROUND(TaxAmt, 0) AS Rounded,\n",
    "       FLOOR(TaxAmt) AS Floor,\n",
    "       CEILING(TaxAmt) AS Ceiling,\n",
    "       SQUARE(TaxAmt) AS Squared,\n",
    "       SQRT(TaxAmt) AS Root,\n",
    "       LOG(TaxAmt) AS Log,\n",
    "       TaxAmt * RAND() AS Randomized\n",
    "FROM Sales.SalesOrderHeader;"
   ]
  },
  {
   "cell_type": "code",
   "execution_count": null,
   "metadata": {
    "vscode": {
     "languageId": "sql"
    }
   },
   "outputs": [],
   "source": [
    "-- En el ejemplo siguiente se usan algunas funciones de cadena:\n",
    "SELECT  CompanyName,\n",
    "        UPPER(CompanyName) AS UpperCase,\n",
    "        LOWER(CompanyName) AS LowerCase,\n",
    "        LEN(CompanyName) AS Length,\n",
    "        REVERSE(CompanyName) AS Reversed,\n",
    "        CHARINDEX(' ', CompanyName) AS FirstSpace,\n",
    "        LEFT(CompanyName, CHARINDEX(' ', CompanyName)) AS FirstWord,\n",
    "        SUBSTRING(CompanyName, CHARINDEX(' ', CompanyName) + 1, LEN(CompanyName)) AS RestOfName\n",
    "FROM Sales.Customer;"
   ]
  },
  {
   "attachments": {},
   "cell_type": "markdown",
   "metadata": {},
   "source": [
    "### Funciones lógicas\n",
    "Otra categoría de funciones permite determinar cuál de varios valores se va a devolver. Las funciones lógicas evalúan una expresión de entrada y devuelven un valor adecuado en función del resultado.\n",
    "\n",
    "IIF\n",
    "La función IIF evalúa una expresión de entrada booleana y devuelve un valor especificado si la expresión se evalúa como True, y un valor alternativo si la expresión se evalúa como False.\n",
    "\n",
    "Por ejemplo, observe la siguiente consulta, que evalúa el tipo de dirección de un cliente. Si el valor es \"Oficina principal\", la expresión devuelve \"Facturación\". Para todos los demás valores de tipo de dirección, la expresión devuelve \"Correo\".\n",
    "\n",
    "\n"
   ]
  },
  {
   "cell_type": "code",
   "execution_count": null,
   "metadata": {
    "vscode": {
     "languageId": "sql"
    }
   },
   "outputs": [],
   "source": [
    "SELECT AddressType,\n",
    "      IIF(AddressType = 'Main Office', 'Billing', 'Mailing') AS UseAddressFor\n",
    "FROM Sales.CustomerAddress;"
   ]
  },
  {
   "attachments": {},
   "cell_type": "markdown",
   "metadata": {},
   "source": [
    "#### CHOOSE\n",
    "La función CHOOSE evalúa una expresión de entero y devuelve el valor correspondiente de una lista en función de su posición ordinal (basada en 1)."
   ]
  },
  {
   "cell_type": "code",
   "execution_count": null,
   "metadata": {
    "vscode": {
     "languageId": "sql"
    }
   },
   "outputs": [],
   "source": [
    "SELECT SalesOrderID, Status,\n",
    "CHOOSE(Status, 'Ordered', 'Shipped', 'Delivered') AS OrderStatus\n",
    "FROM Sales.SalesOrderHeader;\n",
    "\n",
    "--Si el estatus es Ordered pondrá 1, si es Shipped pondrá 2 so on ..."
   ]
  },
  {
   "attachments": {},
   "cell_type": "markdown",
   "metadata": {},
   "source": [
    "#### Utilizar funciones de clasificación y conjunto de filas\n",
    "\n",
    "Las funciones de clasificación y conjunto de filas no son funciones escalares porque no devuelven un solo valor. Estas funciones aceptan un conjunto de filas como entrada y devuelven un conjunto de filas como salida.\n",
    "\n",
    "#### Funciones de categoría\n",
    "Las funciones de clasificación permiten realizar cálculos en un conjunto de filas definido por el usuario. Estas funciones incluyen funciones de clasificación, desplazamiento, agregado y distribución.\n",
    "\n",
    "En este ejemplo se usa la función RANK para calcular una clasificación basada en ListPrice, con el precio más alto clasificado en 1:"
   ]
  },
  {
   "cell_type": "code",
   "execution_count": null,
   "metadata": {
    "vscode": {
     "languageId": "sql"
    }
   },
   "outputs": [],
   "source": [
    "SELECT TOP 100 ProductID, Name, ListPrice,\n",
    "RANK() OVER(ORDER BY ListPrice DESC) AS RankByPrice\n",
    "FROM Production.Product AS p\n",
    "ORDER BY RankByPrice;\n",
    "\n",
    "/*La función RANK() crea un ranking pero no continuo, mas bien basado\n",
    "en la posción en la tabla, esto es si hay 4 registros que tengan el mismo \n",
    "valor(el más alto) el sigueinte elemento no será el 2 si no el 5*/ "
   ]
  },
  {
   "attachments": {},
   "cell_type": "markdown",
   "metadata": {},
   "source": [
    "#### OVER\n",
    "Puede usar la cláusula OVER para definir particiones o agrupaciones dentro de los datos. Por ejemplo, la consulta siguiente amplía el ejemplo anterior para calcular las clasificaciones basadas en precios de los productos dentro de cada categoría."
   ]
  },
  {
   "cell_type": "code",
   "execution_count": null,
   "metadata": {
    "vscode": {
     "languageId": "sql"
    }
   },
   "outputs": [],
   "source": [
    "SELECT c.Name AS Category, p.Name AS Product, ListPrice,\n",
    "  RANK() OVER(PARTITION BY c.Name ORDER BY ListPrice DESC) AS RankByPrice\n",
    "FROM Production.Product AS p\n",
    "JOIN Production.ProductCategory AS c\n",
    "ON p.ProductCategoryID = c.ProductcategoryID\n",
    "ORDER BY Category, RankByPrice;\n",
    "/*Aquí se crea un rank() del mismo modo que el anterior pero\n",
    "al mismo tiemp ose crea un rank por subcatetgoria */"
   ]
  },
  {
   "attachments": {},
   "cell_type": "markdown",
   "metadata": {},
   "source": [
    "### Uso de funciones de agregado\n",
    "\n",
    "T-SQL proporciona funciones de agregado como SUM, MAX y AVG para realizar cálculos que toman varios valores y devuelven un único resultado.\n",
    "\n",
    "Uso de funciones de agregado\n",
    "La mayoría de las consultas que hemos visto funcionan de fila en fila, mediante una cláusula WHERE para filtrar filas. Cada fila devuelta corresponde a una fila del conjunto de datos original.\n",
    "\n",
    "Muchas funciones de agregado se proporcionan en SQL Server. En esta sección, veremos las funciones más comunes, como SUM, MIN, MAX, AVG y COUNT.\n",
    "\n",
    "Al trabajar con funciones de agregado, debe tener en cuenta los siguientes puntos:\n",
    "\n",
    "- Las funciones de agregado devuelven un único valor (escalar) y se pueden usar en instrucciones SELECT casi en cualquier lugar en el que se pueda usar un solo valor. Por ejemplo, estas funciones se pueden usar en las cláusulas SELECT, HAVING y ORDER BY. Sin embargo, no se pueden usar en la cláusula WHERE.\n",
    "- Las funciones de agregado omiten los valores NULL, excepto cuando se usa COUNT(*).\n",
    "- Las funciones de agregado de una lista SELECT no tienen un encabezado de columna, a menos que proporcione un alias mediante AS.\n",
    "- Las funciones de agregado de una lista SELECT funcionan en todas las filas que se pasan a la operación SELECT. Si no hay ninguna cláusula GROUP BY, se resumirán todas las filas que cumplan cualquier filtro de la cláusula WHERE. Obtendrá más información sobre GROUP BY en la unidad siguiente.\n",
    "- A menos que use GROUP BY, no debe combinar funciones de agregado con columnas no incluidas en las funciones de la misma lista SELECT.\n",
    "Para ampliar más allá de las funciones integradas, SQL Server proporciona un mecanismo para las funciones de agregado definidas por el usuario a través de Common Language Runtime (CLR) de .NET. Esta estrategia va más allá del ámbito de este módulo.\n",
    "\n",
    "### Funciones de agregado integradas\n",
    "Como se mencionó, Transact-SQL proporciona muchas funciones de agregado integradas. Estas son algunas de las más comunes:"
   ]
  },
  {
   "attachments": {},
   "cell_type": "markdown",
   "metadata": {},
   "source": [
    "\n",
    "\n",
    "SUM: SUM(expression) Suma todos los valores numéricos no NULL de una columna.\n",
    "\n",
    "MEDIA: AVG(expression) Promedia todos los valores numéricos no NULL de una columna (suma/recuento).\n",
    "\n",
    "MÍN: MIN(expression) Devuelve el número más pequeño, la fecha y hora más tempranas o la cadena que se produce por primera vez (según las reglas de ordenación de intercalación).\n",
    "\n",
    "MÁX: MAX(expression) Devuelve el número más grande, la fecha y hora más recientes o la última cadena (según las reglas de ordenación de intercalación).\n",
    "\n",
    "COUNT o COUNT_BIG:  COUNT(*) o COUNT(expresión) Con (*), se cuentan todas las filas, incluidas las filas con valores NULL. Cuando se especifica una columna como expresión, devuelve el recuento de filas que no son NULL para esa columna. COUNT devuelve un valor int; COUNT_BIG devuelve un valor big_int."
   ]
  },
  {
   "cell_type": "code",
   "execution_count": null,
   "metadata": {
    "vscode": {
     "languageId": "sql"
    }
   },
   "outputs": [],
   "source": []
  },
  {
   "cell_type": "code",
   "execution_count": null,
   "metadata": {
    "vscode": {
     "languageId": "sql"
    }
   },
   "outputs": [],
   "source": []
  },
  {
   "cell_type": "code",
   "execution_count": null,
   "metadata": {
    "vscode": {
     "languageId": "sql"
    }
   },
   "outputs": [],
   "source": []
  },
  {
   "cell_type": "code",
   "execution_count": null,
   "metadata": {
    "vscode": {
     "languageId": "sql"
    }
   },
   "outputs": [],
   "source": []
  },
  {
   "cell_type": "code",
   "execution_count": null,
   "metadata": {
    "vscode": {
     "languageId": "sql"
    }
   },
   "outputs": [],
   "source": []
  },
  {
   "cell_type": "code",
   "execution_count": null,
   "metadata": {
    "vscode": {
     "languageId": "sql"
    }
   },
   "outputs": [],
   "source": []
  },
  {
   "cell_type": "code",
   "execution_count": null,
   "metadata": {
    "vscode": {
     "languageId": "sql"
    }
   },
   "outputs": [],
   "source": []
  },
  {
   "cell_type": "code",
   "execution_count": null,
   "metadata": {
    "vscode": {
     "languageId": "sql"
    }
   },
   "outputs": [],
   "source": []
  },
  {
   "cell_type": "code",
   "execution_count": null,
   "metadata": {
    "vscode": {
     "languageId": "sql"
    }
   },
   "outputs": [],
   "source": []
  },
  {
   "cell_type": "code",
   "execution_count": null,
   "metadata": {
    "vscode": {
     "languageId": "sql"
    }
   },
   "outputs": [],
   "source": []
  },
  {
   "cell_type": "code",
   "execution_count": null,
   "metadata": {
    "vscode": {
     "languageId": "sql"
    }
   },
   "outputs": [],
   "source": []
  },
  {
   "cell_type": "code",
   "execution_count": null,
   "metadata": {
    "vscode": {
     "languageId": "sql"
    }
   },
   "outputs": [],
   "source": []
  },
  {
   "cell_type": "code",
   "execution_count": null,
   "metadata": {
    "vscode": {
     "languageId": "sql"
    }
   },
   "outputs": [],
   "source": []
  },
  {
   "cell_type": "code",
   "execution_count": null,
   "metadata": {
    "vscode": {
     "languageId": "sql"
    }
   },
   "outputs": [],
   "source": []
  },
  {
   "cell_type": "code",
   "execution_count": null,
   "metadata": {
    "vscode": {
     "languageId": "sql"
    }
   },
   "outputs": [],
   "source": []
  },
  {
   "cell_type": "code",
   "execution_count": null,
   "metadata": {
    "vscode": {
     "languageId": "sql"
    }
   },
   "outputs": [],
   "source": []
  },
  {
   "cell_type": "code",
   "execution_count": null,
   "metadata": {
    "vscode": {
     "languageId": "sql"
    }
   },
   "outputs": [],
   "source": []
  },
  {
   "cell_type": "code",
   "execution_count": null,
   "metadata": {
    "vscode": {
     "languageId": "sql"
    }
   },
   "outputs": [],
   "source": []
  },
  {
   "cell_type": "code",
   "execution_count": null,
   "metadata": {
    "vscode": {
     "languageId": "sql"
    }
   },
   "outputs": [],
   "source": []
  },
  {
   "cell_type": "code",
   "execution_count": null,
   "metadata": {
    "vscode": {
     "languageId": "sql"
    }
   },
   "outputs": [],
   "source": []
  },
  {
   "cell_type": "code",
   "execution_count": null,
   "metadata": {
    "vscode": {
     "languageId": "sql"
    }
   },
   "outputs": [],
   "source": []
  },
  {
   "cell_type": "code",
   "execution_count": null,
   "metadata": {
    "vscode": {
     "languageId": "sql"
    }
   },
   "outputs": [],
   "source": []
  },
  {
   "cell_type": "code",
   "execution_count": null,
   "metadata": {
    "vscode": {
     "languageId": "sql"
    }
   },
   "outputs": [],
   "source": []
  },
  {
   "cell_type": "code",
   "execution_count": null,
   "metadata": {
    "vscode": {
     "languageId": "sql"
    }
   },
   "outputs": [],
   "source": []
  }
 ],
 "metadata": {
  "kernelspec": {
   "display_name": "Python 3",
   "language": "python",
   "name": "python3"
  },
  "language_info": {
   "codemirror_mode": {
    "name": "ipython",
    "version": 3
   },
   "file_extension": ".py",
   "mimetype": "text/x-python",
   "name": "python",
   "nbconvert_exporter": "python",
   "pygments_lexer": "ipython3",
   "version": "3.11.2"
  },
  "orig_nbformat": 4
 },
 "nbformat": 4,
 "nbformat_minor": 2
}
